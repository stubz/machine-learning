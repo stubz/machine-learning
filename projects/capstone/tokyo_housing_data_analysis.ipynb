{
 "cells": [
  {
   "cell_type": "code",
   "execution_count": 1,
   "metadata": {
    "collapsed": false,
    "deletable": true,
    "editable": true
   },
   "outputs": [],
   "source": [
    "import pandas as pd\n",
    "import numpy as np\n",
    "import matplotlib as plt\n",
    "import seaborn as sns"
   ]
  },
  {
   "cell_type": "markdown",
   "metadata": {
    "deletable": true,
    "editable": true
   },
   "source": [
    "# Preprocessing\n",
    "First read the housing price data set."
   ]
  },
  {
   "cell_type": "code",
   "execution_count": 10,
   "metadata": {
    "collapsed": false,
    "deletable": true,
    "editable": true
   },
   "outputs": [],
   "source": [
    "\"\"\"\n",
    "dat = pd.read_csv('13_Tokyo_20053_20163.csv', sep=',', header=None, \n",
    "                 names=('id','type','chiiki','jiscode','ken','shi','chiku','eki','ekikyori',\n",
    "                        'price','unit_price','madori','menseki','unit_price2','keijo',\n",
    "                        'maguchi','nobeyuka','kenchikunen','kouzou','youto','mokuteki','dourohoui',\n",
    "                        'dourotype','douro_fukuin','toshikeikaku','kenpeiritsu',\n",
    "                        'yousekiritsu','torihiki_jiten','bikou'),\n",
    "                 dtype={'id':np.int, 'type':np.str, 'chiiki':np.str, 'jiscode':np.str, 'ken':np.str, 'shi':np.str, 'chiku':np.str, 'eki':np.str,\n",
    "                       'ekikyori':np.float32, 'price':np.float32, 'unit_price':np.float32, 'madori':np.str, 'menseki':np.float32, 'unit_price2':np.float32,\n",
    "                       'keijo':np.str, 'maguchi':np.str, 'nobeyuka':np.float32, 'kenchikunen':np.str, 'kouzou':np.str, 'youto':np.str, 'mokuteki':np.str,\n",
    "                       'dourohoui':np.str, 'dourotype':np.str, 'douro_fukuin':np.str, 'toshikeikaku':np.str, 'kenpeiritsu':np.float32, \n",
    "                       'yousekiritsu':np.float32, 'torihiki_jiten':np.str, 'bikou':np.str})\n",
    "\"\"\"\n",
    "dat = pd.read_csv('13_Tokyo_20053_20163.csv', sep=',', header=None, index_col='id',\n",
    "                 names=('id','type','chiiki','jiscode','ken','shi','chiku','eki','ekikyori',\n",
    "                        'price','unit_price','madori','menseki','unit_price2','keijo',\n",
    "                        'maguchi','nobeyuka','kenchikunen','kouzou','youto','mokuteki','dourohoui',\n",
    "                        'dourotype','douro_fukuin','toshikeikaku','kenpeiritsu',\n",
    "                        'yousekiritsu','torihiki_jiten','bikou'),\n",
    "                 dtype='object')"
   ]
  },
  {
   "cell_type": "code",
   "execution_count": 11,
   "metadata": {
    "collapsed": false,
    "deletable": true,
    "editable": true
   },
   "outputs": [
    {
     "data": {
      "text/html": [
       "<div>\n",
       "<table border=\"1\" class=\"dataframe\">\n",
       "  <thead>\n",
       "    <tr style=\"text-align: right;\">\n",
       "      <th></th>\n",
       "      <th>type</th>\n",
       "      <th>chiiki</th>\n",
       "      <th>jiscode</th>\n",
       "      <th>ken</th>\n",
       "      <th>shi</th>\n",
       "      <th>chiku</th>\n",
       "      <th>eki</th>\n",
       "      <th>ekikyori</th>\n",
       "      <th>price</th>\n",
       "      <th>unit_price</th>\n",
       "      <th>...</th>\n",
       "      <th>youto</th>\n",
       "      <th>mokuteki</th>\n",
       "      <th>dourohoui</th>\n",
       "      <th>dourotype</th>\n",
       "      <th>douro_fukuin</th>\n",
       "      <th>toshikeikaku</th>\n",
       "      <th>kenpeiritsu</th>\n",
       "      <th>yousekiritsu</th>\n",
       "      <th>torihiki_jiten</th>\n",
       "      <th>bikou</th>\n",
       "    </tr>\n",
       "    <tr>\n",
       "      <th>id</th>\n",
       "      <th></th>\n",
       "      <th></th>\n",
       "      <th></th>\n",
       "      <th></th>\n",
       "      <th></th>\n",
       "      <th></th>\n",
       "      <th></th>\n",
       "      <th></th>\n",
       "      <th></th>\n",
       "      <th></th>\n",
       "      <th></th>\n",
       "      <th></th>\n",
       "      <th></th>\n",
       "      <th></th>\n",
       "      <th></th>\n",
       "      <th></th>\n",
       "      <th></th>\n",
       "      <th></th>\n",
       "      <th></th>\n",
       "      <th></th>\n",
       "      <th></th>\n",
       "    </tr>\n",
       "  </thead>\n",
       "  <tbody>\n",
       "    <tr>\n",
       "      <th>1</th>\n",
       "      <td>中古マンション等</td>\n",
       "      <td>NaN</td>\n",
       "      <td>13101</td>\n",
       "      <td>東京都</td>\n",
       "      <td>千代田区</td>\n",
       "      <td>飯田橋</td>\n",
       "      <td>飯田橋</td>\n",
       "      <td>1</td>\n",
       "      <td>51000000</td>\n",
       "      <td>NaN</td>\n",
       "      <td>...</td>\n",
       "      <td>住宅</td>\n",
       "      <td>住宅</td>\n",
       "      <td>NaN</td>\n",
       "      <td>NaN</td>\n",
       "      <td>NaN</td>\n",
       "      <td>商業地域</td>\n",
       "      <td>80</td>\n",
       "      <td>600</td>\n",
       "      <td>平成28年第３四半期</td>\n",
       "      <td>未改装を購入</td>\n",
       "    </tr>\n",
       "    <tr>\n",
       "      <th>2</th>\n",
       "      <td>宅地(土地と建物)</td>\n",
       "      <td>商業地</td>\n",
       "      <td>13101</td>\n",
       "      <td>東京都</td>\n",
       "      <td>千代田区</td>\n",
       "      <td>飯田橋</td>\n",
       "      <td>飯田橋</td>\n",
       "      <td>5</td>\n",
       "      <td>300000000</td>\n",
       "      <td>NaN</td>\n",
       "      <td>...</td>\n",
       "      <td>その他</td>\n",
       "      <td>住宅</td>\n",
       "      <td>北東</td>\n",
       "      <td>区道</td>\n",
       "      <td>5.0</td>\n",
       "      <td>商業地域</td>\n",
       "      <td>80</td>\n",
       "      <td>500</td>\n",
       "      <td>平成28年第１四半期</td>\n",
       "      <td>NaN</td>\n",
       "    </tr>\n",
       "    <tr>\n",
       "      <th>3</th>\n",
       "      <td>宅地(土地と建物)</td>\n",
       "      <td>商業地</td>\n",
       "      <td>13101</td>\n",
       "      <td>東京都</td>\n",
       "      <td>千代田区</td>\n",
       "      <td>飯田橋</td>\n",
       "      <td>飯田橋</td>\n",
       "      <td>4</td>\n",
       "      <td>170000000</td>\n",
       "      <td>NaN</td>\n",
       "      <td>...</td>\n",
       "      <td>事務所、倉庫</td>\n",
       "      <td>住宅</td>\n",
       "      <td>北東</td>\n",
       "      <td>区道</td>\n",
       "      <td>4.0</td>\n",
       "      <td>商業地域</td>\n",
       "      <td>80</td>\n",
       "      <td>700</td>\n",
       "      <td>平成28年第１四半期</td>\n",
       "      <td>NaN</td>\n",
       "    </tr>\n",
       "  </tbody>\n",
       "</table>\n",
       "<p>3 rows × 28 columns</p>\n",
       "</div>"
      ],
      "text/plain": [
       "         type chiiki jiscode  ken   shi chiku  eki ekikyori      price  \\\n",
       "id                                                                       \n",
       "1    中古マンション等    NaN   13101  東京都  千代田区   飯田橋  飯田橋        1   51000000   \n",
       "2   宅地(土地と建物)    商業地   13101  東京都  千代田区   飯田橋  飯田橋        5  300000000   \n",
       "3   宅地(土地と建物)    商業地   13101  東京都  千代田区   飯田橋  飯田橋        4  170000000   \n",
       "\n",
       "   unit_price   ...     youto mokuteki dourohoui dourotype douro_fukuin  \\\n",
       "id              ...                                                       \n",
       "1         NaN   ...        住宅       住宅       NaN       NaN          NaN   \n",
       "2         NaN   ...       その他       住宅        北東        区道          5.0   \n",
       "3         NaN   ...    事務所、倉庫       住宅        北東        区道          4.0   \n",
       "\n",
       "   toshikeikaku kenpeiritsu yousekiritsu torihiki_jiten   bikou  \n",
       "id                                                               \n",
       "1          商業地域          80          600     平成28年第３四半期  未改装を購入  \n",
       "2          商業地域          80          500     平成28年第１四半期     NaN  \n",
       "3          商業地域          80          700     平成28年第１四半期     NaN  \n",
       "\n",
       "[3 rows x 28 columns]"
      ]
     },
     "execution_count": 11,
     "metadata": {},
     "output_type": "execute_result"
    }
   ],
   "source": [
    "dat.head(3)"
   ]
  },
  {
   "cell_type": "code",
   "execution_count": 88,
   "metadata": {
    "collapsed": false
   },
   "outputs": [
    {
     "data": {
      "text/plain": [
       "ekikyori\n",
       "0           1127\n",
       "1           5273\n",
       "10          6702\n",
       "11          6257\n",
       "12          3538\n",
       "13          3999\n",
       "14          3058\n",
       "15          2917\n",
       "16          2184\n",
       "17           620\n",
       "18          1419\n",
       "19          1071\n",
       "1H30?2H        8\n",
       "1H?1H30       81\n",
       "2           7886\n",
       "20           818\n",
       "21           575\n",
       "22           172\n",
       "23           576\n",
       "24           389\n",
       "25           372\n",
       "26           243\n",
       "27            59\n",
       "28           223\n",
       "29           204\n",
       "2H?           16\n",
       "3          11317\n",
       "30分?60分     1075\n",
       "4          12681\n",
       "5          11617\n",
       "6          13151\n",
       "7           9143\n",
       "8          10375\n",
       "9           8970\n",
       "Name: type, dtype: int64"
      ]
     },
     "execution_count": 88,
     "metadata": {},
     "output_type": "execute_result"
    }
   ],
   "source": [
    "d = dat[(dat.type=='中古マンション等') & (dat.youto=='住宅')]\n",
    "d.groupby('ekikyori')['type'].count()"
   ]
  },
  {
   "cell_type": "markdown",
   "metadata": {},
   "source": [
    "# Converting each column into the right format\n",
    "We read all the variables as 'object.' We convert some columns into values where appropriate.\n",
    "\n",
    "'ekikyori' takes integer for most records, and we can see '1H30' and '30分'. We will convert to a value"
   ]
  },
  {
   "cell_type": "code",
   "execution_count": 89,
   "metadata": {
    "collapsed": false
   },
   "outputs": [
    {
     "name": "stderr",
     "output_type": "stream",
     "text": [
      "//anaconda/envs/mlnd-capstone/lib/python3.5/site-packages/pandas/core/indexing.py:141: SettingWithCopyWarning: \n",
      "A value is trying to be set on a copy of a slice from a DataFrame\n",
      "\n",
      "See the caveats in the documentation: http://pandas.pydata.org/pandas-docs/stable/indexing.html#indexing-view-versus-copy\n",
      "  self._setitem_with_indexer(indexer, value)\n",
      "//anaconda/envs/mlnd-capstone/lib/python3.5/site-packages/ipykernel/__main__.py:1: SettingWithCopyWarning: \n",
      "A value is trying to be set on a copy of a slice from a DataFrame\n",
      "\n",
      "See the caveats in the documentation: http://pandas.pydata.org/pandas-docs/stable/indexing.html#indexing-view-versus-copy\n",
      "  if __name__ == '__main__':\n",
      "//anaconda/envs/mlnd-capstone/lib/python3.5/site-packages/ipykernel/__main__.py:2: SettingWithCopyWarning: \n",
      "A value is trying to be set on a copy of a slice from a DataFrame\n",
      "\n",
      "See the caveats in the documentation: http://pandas.pydata.org/pandas-docs/stable/indexing.html#indexing-view-versus-copy\n",
      "  from ipykernel import kernelapp as app\n",
      "//anaconda/envs/mlnd-capstone/lib/python3.5/site-packages/ipykernel/__main__.py:3: SettingWithCopyWarning: \n",
      "A value is trying to be set on a copy of a slice from a DataFrame\n",
      "\n",
      "See the caveats in the documentation: http://pandas.pydata.org/pandas-docs/stable/indexing.html#indexing-view-versus-copy\n",
      "  app.launch_new_instance()\n",
      "//anaconda/envs/mlnd-capstone/lib/python3.5/site-packages/ipykernel/__main__.py:4: SettingWithCopyWarning: \n",
      "A value is trying to be set on a copy of a slice from a DataFrame\n",
      "\n",
      "See the caveats in the documentation: http://pandas.pydata.org/pandas-docs/stable/indexing.html#indexing-view-versus-copy\n"
     ]
    }
   ],
   "source": [
    "d.loc[d.ekikyori=='30分?60分', 'ekikyori'] = '60'\n",
    "d.loc[d.ekikyori=='2H?', 'ekikyori'] = '120'\n",
    "d.loc[d.ekikyori=='1H30?2H', 'ekikyori'] = '120'\n",
    "d.loc[d.ekikyori=='1H?1H30', 'ekikyori'] = '90'"
   ]
  },
  {
   "cell_type": "code",
   "execution_count": 103,
   "metadata": {
    "collapsed": false
   },
   "outputs": [
    {
     "name": "stderr",
     "output_type": "stream",
     "text": [
      "//anaconda/envs/mlnd-capstone/lib/python3.5/site-packages/pandas/core/generic.py:2773: SettingWithCopyWarning: \n",
      "A value is trying to be set on a copy of a slice from a DataFrame.\n",
      "Try using .loc[row_indexer,col_indexer] = value instead\n",
      "\n",
      "See the caveats in the documentation: http://pandas.pydata.org/pandas-docs/stable/indexing.html#indexing-view-versus-copy\n",
      "  self[name] = value\n"
     ]
    }
   ],
   "source": [
    "d.ekikyori = pd.to_numeric(d.ekikyori)\n",
    "d.menseki = pd.to_numeric(d.menseki)\n",
    "d.kenpeiritsu = pd.to_numeric(d.kenpeiritsu)/100.0\n",
    "d.yousekiritsu = pd.to_numeric(d.yousekiritsu)/100.0"
   ]
  },
  {
   "cell_type": "code",
   "execution_count": 92,
   "metadata": {
    "collapsed": false
   },
   "outputs": [
    {
     "name": "stderr",
     "output_type": "stream",
     "text": [
      "//anaconda/envs/mlnd-capstone/lib/python3.5/site-packages/pandas/core/generic.py:2773: SettingWithCopyWarning: \n",
      "A value is trying to be set on a copy of a slice from a DataFrame.\n",
      "Try using .loc[row_indexer,col_indexer] = value instead\n",
      "\n",
      "See the caveats in the documentation: http://pandas.pydata.org/pandas-docs/stable/indexing.html#indexing-view-versus-copy\n",
      "  self[name] = value\n"
     ]
    }
   ],
   "source": [
    "d.price = pd.to_numeric(d.price)"
   ]
  },
  {
   "cell_type": "code",
   "execution_count": 105,
   "metadata": {
    "collapsed": false
   },
   "outputs": [
    {
     "data": {
      "text/html": [
       "<div>\n",
       "<table border=\"1\" class=\"dataframe\">\n",
       "  <thead>\n",
       "    <tr style=\"text-align: right;\">\n",
       "      <th></th>\n",
       "      <th>yousekiritsu</th>\n",
       "      <th>torihiki_jiten</th>\n",
       "      <th>bikou</th>\n",
       "    </tr>\n",
       "    <tr>\n",
       "      <th>id</th>\n",
       "      <th></th>\n",
       "      <th></th>\n",
       "      <th></th>\n",
       "    </tr>\n",
       "  </thead>\n",
       "  <tbody>\n",
       "    <tr>\n",
       "      <th>1</th>\n",
       "      <td>600</td>\n",
       "      <td>平成28年第３四半期</td>\n",
       "      <td>未改装を購入</td>\n",
       "    </tr>\n",
       "    <tr>\n",
       "      <th>4</th>\n",
       "      <td>500</td>\n",
       "      <td>平成28年第１四半期</td>\n",
       "      <td>未改装を購入</td>\n",
       "    </tr>\n",
       "    <tr>\n",
       "      <th>5</th>\n",
       "      <td>700</td>\n",
       "      <td>平成28年第１四半期</td>\n",
       "      <td>未改装を購入</td>\n",
       "    </tr>\n",
       "  </tbody>\n",
       "</table>\n",
       "</div>"
      ],
      "text/plain": [
       "   yousekiritsu torihiki_jiten   bikou\n",
       "id                                    \n",
       "1           600     平成28年第３四半期  未改装を購入\n",
       "4           500     平成28年第１四半期  未改装を購入\n",
       "5           700     平成28年第１四半期  未改装を購入"
      ]
     },
     "execution_count": 105,
     "metadata": {},
     "output_type": "execute_result"
    }
   ],
   "source": [
    "d.iloc[:3, 25:30]"
   ]
  },
  {
   "cell_type": "code",
   "execution_count": 108,
   "metadata": {
    "collapsed": false
   },
   "outputs": [
    {
     "data": {
      "text/plain": [
       "bikou\n",
       "その他事情有り                        1\n",
       "他の権利・負担付き                      1\n",
       "他の権利・負担付き、改装済を購入               4\n",
       "他の権利・負担付き、未改装を購入              15\n",
       "他の権利・負担付き、調停・競売等、未改装を購入        1\n",
       "改装済を購入                     32550\n",
       "改装済を購入、その他事情有り                 4\n",
       "未改装を購入                     88887\n",
       "未改装を購入、その他事情有り                22\n",
       "瑕疵有りの可能性、改装済を購入                3\n",
       "瑕疵有りの可能性、未改装を購入                6\n",
       "調停・競売等                       457\n",
       "調停・競売等、改装済を購入                101\n",
       "調停・競売等、未改装を購入               2479\n",
       "関係者間取引                        14\n",
       "関係者間取引、改装済を購入                 31\n",
       "関係者間取引、未改装を購入                191\n",
       "Name: type, dtype: int64"
      ]
     },
     "execution_count": 108,
     "metadata": {},
     "output_type": "execute_result"
    }
   ],
   "source": [
    "d.groupby('bikou')['type'].count()\n",
    "# remove\n",
    "# unit_price\n",
    "# unit_price2\n",
    "# keijo\n",
    "# maguchi\n",
    "# nobeyuka\n",
    "# dourohoui\n",
    "# dourotype\n",
    "# douro_fukuin"
   ]
  },
  {
   "cell_type": "markdown",
   "metadata": {},
   "source": [
    "From 'bikou' column, we can find if the apartment was reformed or not, the transaction between two professional dealers."
   ]
  },
  {
   "cell_type": "code",
   "execution_count": 117,
   "metadata": {
    "collapsed": false
   },
   "outputs": [
    {
     "name": "stderr",
     "output_type": "stream",
     "text": [
      "//anaconda/envs/mlnd-capstone/lib/python3.5/site-packages/ipykernel/__main__.py:2: SettingWithCopyWarning: \n",
      "A value is trying to be set on a copy of a slice from a DataFrame.\n",
      "Try using .loc[row_indexer,col_indexer] = value instead\n",
      "\n",
      "See the caveats in the documentation: http://pandas.pydata.org/pandas-docs/stable/indexing.html#indexing-view-versus-copy\n",
      "  from ipykernel import kernelapp as app\n",
      "//anaconda/envs/mlnd-capstone/lib/python3.5/site-packages/ipykernel/__main__.py:5: SettingWithCopyWarning: \n",
      "A value is trying to be set on a copy of a slice from a DataFrame.\n",
      "Try using .loc[row_indexer,col_indexer] = value instead\n",
      "\n",
      "See the caveats in the documentation: http://pandas.pydata.org/pandas-docs/stable/indexing.html#indexing-view-versus-copy\n",
      "//anaconda/envs/mlnd-capstone/lib/python3.5/site-packages/ipykernel/__main__.py:6: SettingWithCopyWarning: \n",
      "A value is trying to be set on a copy of a slice from a DataFrame.\n",
      "Try using .loc[row_indexer,col_indexer] = value instead\n",
      "\n",
      "See the caveats in the documentation: http://pandas.pydata.org/pandas-docs/stable/indexing.html#indexing-view-versus-copy\n",
      "//anaconda/envs/mlnd-capstone/lib/python3.5/site-packages/ipykernel/__main__.py:7: SettingWithCopyWarning: \n",
      "A value is trying to be set on a copy of a slice from a DataFrame.\n",
      "Try using .loc[row_indexer,col_indexer] = value instead\n",
      "\n",
      "See the caveats in the documentation: http://pandas.pydata.org/pandas-docs/stable/indexing.html#indexing-view-versus-copy\n"
     ]
    }
   ],
   "source": [
    "d['is_reformed'] = [1 if x in (['他の権利・負担付き、改装済を購入','改装済を購入','改装済を購入、その他事情有り',\n",
    "                               '瑕疵有りの可能性、改装済を購入','調停・競売等、改装済を購入','関係者間取引、改装済を購入']) else 0 for x in d.bikou]\n",
    "d['is_not_reformed'] = [1 if x in (['他の権利・負担付き、未改装を購入','他の権利・負担付き、調停・競売等、未改装を購入','未改装を購入',\n",
    "                               '未改装を購入、その他事情有り','瑕疵有りの可能性、未改装を購入','調停・競売等、未改装を購入',\n",
    "                                   '関係者間取引、未改装を購入']) else 0 for x in d.bikou]\n",
    "d['is_auction'] = [1 if x in ['調停・競売等','調停・競売等、改装済を購入','調停・競売等、未改装を購入'] else 0 for x in d.bikou]\n",
    "d['is_direct_transaction'] = [1 if x in ['関係者間取引','関係者間取引、改装済を購入','関係者間取引、未改装を購入'] else 0 for x in d.bikou]\n"
   ]
  },
  {
   "cell_type": "markdown",
   "metadata": {},
   "source": [
    "We need to convert 'torihiki_jiten' (transaction date) and 'kenchikunen' (year of built). These are denoted by gengou."
   ]
  },
  {
   "cell_type": "code",
   "execution_count": 121,
   "metadata": {
    "collapsed": false
   },
   "outputs": [
    {
     "name": "stdout",
     "output_type": "stream",
     "text": [
      "kenchikunen\n",
      "平成10年    4510\n",
      "平成11年    4523\n",
      "平成12年    5419\n",
      "平成13年    4607\n",
      "平成14年    5124\n",
      "平成15年    5874\n",
      "平成16年    5733\n",
      "平成17年    6856\n",
      "平成18年    6592\n",
      "平成19年    5593\n",
      "平成20年    5138\n",
      "平成21年    4469\n",
      "平成22年    2840\n",
      "平成23年    1867\n",
      "平成24年    2009\n",
      "平成25年    1290\n",
      "平成26年    1110\n",
      "平成27年    1091\n",
      "平成28年     147\n",
      "平成2年     2299\n",
      "平成3年     2924\n",
      "平成4年     2330\n",
      "平成5年     1339\n",
      "平成6年     1909\n",
      "平成7年     3145\n",
      "平成8年     3341\n",
      "平成9年     3565\n",
      "平成元年     2242\n",
      "戦前        123\n",
      "昭和21年       5\n",
      "         ... \n",
      "昭和34年      14\n",
      "昭和35年       4\n",
      "昭和36年      10\n",
      "昭和37年      10\n",
      "昭和38年      26\n",
      "昭和39年      63\n",
      "昭和40年      76\n",
      "昭和41年     146\n",
      "昭和42年     170\n",
      "昭和43年     474\n",
      "昭和44年     690\n",
      "昭和45年    1204\n",
      "昭和46年    1495\n",
      "昭和47年    1307\n",
      "昭和48年    1323\n",
      "昭和49年    1666\n",
      "昭和50年     824\n",
      "昭和51年    1002\n",
      "昭和52年    1013\n",
      "昭和53年    1734\n",
      "昭和54年    1983\n",
      "昭和55年    1805\n",
      "昭和56年    1465\n",
      "昭和57年    1692\n",
      "昭和58年    1649\n",
      "昭和59年    3426\n",
      "昭和60年    2728\n",
      "昭和61年    2221\n",
      "昭和62年    2452\n",
      "昭和63年    2665\n",
      "Name: type, dtype: int64\n"
     ]
    }
   ],
   "source": [
    "print(d.groupby('kenchikunen')['type'].count())"
   ]
  },
  {
   "cell_type": "markdown",
   "metadata": {},
   "source": [
    "We make a list of years manually."
   ]
  },
  {
   "cell_type": "code",
   "execution_count": 122,
   "metadata": {
    "collapsed": true
   },
   "outputs": [],
   "source": [
    "gengou = []\n",
    "gengou.append(\"戦前\")\n",
    "shouwa = range(21, 64)\n",
    "for yr in shouwa:\n",
    "    gengou.append(\"昭和\"+np.str(yr)+\"年\")\n",
    "# 平成元年\n",
    "gengou.append(\"平成元年\")\n",
    "# 平成２年以降\n",
    "heisei = range(2, 30)\n",
    "for yr in heisei:\n",
    "    gengou.append(\"平成\"+np.str(yr)+\"年\")\n",
    "seireki = range(1945, 2018) \n",
    "kenchikunen = {k: v for k, v in zip(gengou, seireki)}\n",
    "# {平成２８年: 2016, 昭和５４年: 1979, ...}\n"
   ]
  },
  {
   "cell_type": "markdown",
   "metadata": {},
   "source": [
    "We now change the kenchikunen in the data set. But kenchikunen has 3025 null values, so we need to delete those records."
   ]
  },
  {
   "cell_type": "code",
   "execution_count": 134,
   "metadata": {
    "collapsed": false
   },
   "outputs": [
    {
     "data": {
      "text/plain": [
       "type                          0\n",
       "chiiki                   136394\n",
       "jiscode                       0\n",
       "ken                           0\n",
       "shi                           0\n",
       "chiku                        44\n",
       "eki                         283\n",
       "ekikyori                   8278\n",
       "price                         0\n",
       "unit_price               136394\n",
       "madori                     4034\n",
       "menseki                       0\n",
       "unit_price2              136394\n",
       "keijo                    136394\n",
       "maguchi                  136394\n",
       "nobeyuka                 136394\n",
       "kenchikunen                3025\n",
       "kouzou                     1033\n",
       "youto                         0\n",
       "mokuteki                 102656\n",
       "dourohoui                136394\n",
       "dourotype                136394\n",
       "douro_fukuin             136394\n",
       "toshikeikaku               2441\n",
       "kenpeiritsu                2986\n",
       "yousekiritsu               2986\n",
       "torihiki_jiten                0\n",
       "bikou                     11627\n",
       "is_reformed                   0\n",
       "is_not_reformed               0\n",
       "is_auction                    0\n",
       "is_direct_transaction         0\n",
       "dtype: int64"
      ]
     },
     "execution_count": 134,
     "metadata": {},
     "output_type": "execute_result"
    }
   ],
   "source": [
    "d.isnull().sum()"
   ]
  },
  {
   "cell_type": "code",
   "execution_count": 147,
   "metadata": {
    "collapsed": false
   },
   "outputs": [
    {
     "name": "stderr",
     "output_type": "stream",
     "text": [
      "//anaconda/envs/mlnd-capstone/lib/python3.5/site-packages/ipykernel/__main__.py:1: SettingWithCopyWarning: \n",
      "A value is trying to be set on a copy of a slice from a DataFrame.\n",
      "Try using .loc[row_indexer,col_indexer] = value instead\n",
      "\n",
      "See the caveats in the documentation: http://pandas.pydata.org/pandas-docs/stable/indexing.html#indexing-view-versus-copy\n",
      "  if __name__ == '__main__':\n"
     ]
    },
    {
     "data": {
      "text/html": [
       "<div>\n",
       "<table border=\"1\" class=\"dataframe\">\n",
       "  <thead>\n",
       "    <tr style=\"text-align: right;\">\n",
       "      <th></th>\n",
       "      <th>kenchikunen</th>\n",
       "      <th>kenchiku_year</th>\n",
       "    </tr>\n",
       "    <tr>\n",
       "      <th>id</th>\n",
       "      <th></th>\n",
       "      <th></th>\n",
       "    </tr>\n",
       "  </thead>\n",
       "  <tbody>\n",
       "    <tr>\n",
       "      <th>1</th>\n",
       "      <td>昭和59年</td>\n",
       "      <td>1984.0</td>\n",
       "    </tr>\n",
       "    <tr>\n",
       "      <th>4</th>\n",
       "      <td>平成19年</td>\n",
       "      <td>2007.0</td>\n",
       "    </tr>\n",
       "    <tr>\n",
       "      <th>5</th>\n",
       "      <td>昭和57年</td>\n",
       "      <td>1982.0</td>\n",
       "    </tr>\n",
       "    <tr>\n",
       "      <th>6</th>\n",
       "      <td>平成19年</td>\n",
       "      <td>2007.0</td>\n",
       "    </tr>\n",
       "    <tr>\n",
       "      <th>10</th>\n",
       "      <td>平成11年</td>\n",
       "      <td>1999.0</td>\n",
       "    </tr>\n",
       "  </tbody>\n",
       "</table>\n",
       "</div>"
      ],
      "text/plain": [
       "   kenchikunen  kenchiku_year\n",
       "id                           \n",
       "1        昭和59年         1984.0\n",
       "4        平成19年         2007.0\n",
       "5        昭和57年         1982.0\n",
       "6        平成19年         2007.0\n",
       "10       平成11年         1999.0"
      ]
     },
     "execution_count": 147,
     "metadata": {},
     "output_type": "execute_result"
    }
   ],
   "source": [
    "d['kenchiku_year'] = [np.nan if pd.isnull(y) else kenchikunen[y] for y in d.kenchikunen]\n",
    "d[['kenchikunen', 'kenchiku_year']].head(5)"
   ]
  },
  {
   "cell_type": "markdown",
   "metadata": {},
   "source": [
    "From the kenchiku_year, we can calculate the age of the apartment as of the transaction date. The transaction quarter is available in the data set, so we take the difference between the two years."
   ]
  },
  {
   "cell_type": "code",
   "execution_count": 155,
   "metadata": {
    "collapsed": false
   },
   "outputs": [
    {
     "name": "stderr",
     "output_type": "stream",
     "text": [
      "//anaconda/envs/mlnd-capstone/lib/python3.5/site-packages/ipykernel/__main__.py:1: SettingWithCopyWarning: \n",
      "A value is trying to be set on a copy of a slice from a DataFrame.\n",
      "Try using .loc[row_indexer,col_indexer] = value instead\n",
      "\n",
      "See the caveats in the documentation: http://pandas.pydata.org/pandas-docs/stable/indexing.html#indexing-view-versus-copy\n",
      "  if __name__ == '__main__':\n"
     ]
    },
    {
     "data": {
      "text/html": [
       "<div>\n",
       "<table border=\"1\" class=\"dataframe\">\n",
       "  <thead>\n",
       "    <tr style=\"text-align: right;\">\n",
       "      <th></th>\n",
       "      <th>torihiki_jiten</th>\n",
       "      <th>transaction_year</th>\n",
       "    </tr>\n",
       "    <tr>\n",
       "      <th>id</th>\n",
       "      <th></th>\n",
       "      <th></th>\n",
       "    </tr>\n",
       "  </thead>\n",
       "  <tbody>\n",
       "    <tr>\n",
       "      <th>1</th>\n",
       "      <td>平成28年第３四半期</td>\n",
       "      <td>2016</td>\n",
       "    </tr>\n",
       "    <tr>\n",
       "      <th>4</th>\n",
       "      <td>平成28年第１四半期</td>\n",
       "      <td>2016</td>\n",
       "    </tr>\n",
       "    <tr>\n",
       "      <th>5</th>\n",
       "      <td>平成28年第１四半期</td>\n",
       "      <td>2016</td>\n",
       "    </tr>\n",
       "    <tr>\n",
       "      <th>6</th>\n",
       "      <td>平成28年第１四半期</td>\n",
       "      <td>2016</td>\n",
       "    </tr>\n",
       "    <tr>\n",
       "      <th>10</th>\n",
       "      <td>平成27年第４四半期</td>\n",
       "      <td>2015</td>\n",
       "    </tr>\n",
       "  </tbody>\n",
       "</table>\n",
       "</div>"
      ],
      "text/plain": [
       "   torihiki_jiten  transaction_year\n",
       "id                                 \n",
       "1      平成28年第３四半期              2016\n",
       "4      平成28年第１四半期              2016\n",
       "5      平成28年第１四半期              2016\n",
       "6      平成28年第１四半期              2016\n",
       "10     平成27年第４四半期              2015"
      ]
     },
     "execution_count": 155,
     "metadata": {},
     "output_type": "execute_result"
    }
   ],
   "source": [
    "d['transaction_year'] = [kenchikunen[v[:5]] for v in d.torihiki_jiten]\n",
    "d[['torihiki_jiten', 'transaction_year']].head(5)\n",
    "#for x in d.torihiki_jiten[:10]:\n",
    "#    print(x[:5], kenchikunen[x[:5]])"
   ]
  },
  {
   "cell_type": "code",
   "execution_count": 162,
   "metadata": {
    "collapsed": false
   },
   "outputs": [
    {
     "name": "stdout",
     "output_type": "stream",
     "text": [
      "id\n",
      "1     32.0\n",
      "4      9.0\n",
      "5     34.0\n",
      "6      9.0\n",
      "10    16.0\n",
      "11    31.0\n",
      "12    33.0\n",
      "13     8.0\n",
      "14    31.0\n",
      "16    31.0\n",
      "17     8.0\n",
      "18    30.0\n",
      "19     NaN\n",
      "20     2.0\n",
      "21    31.0\n",
      "22    11.0\n",
      "23     7.0\n",
      "24     7.0\n",
      "25    11.0\n",
      "26    30.0\n",
      "Name: age, dtype: float64\n"
     ]
    },
    {
     "name": "stderr",
     "output_type": "stream",
     "text": [
      "//anaconda/envs/mlnd-capstone/lib/python3.5/site-packages/ipykernel/__main__.py:1: SettingWithCopyWarning: \n",
      "A value is trying to be set on a copy of a slice from a DataFrame.\n",
      "Try using .loc[row_indexer,col_indexer] = value instead\n",
      "\n",
      "See the caveats in the documentation: http://pandas.pydata.org/pandas-docs/stable/indexing.html#indexing-view-versus-copy\n",
      "  if __name__ == '__main__':\n"
     ]
    }
   ],
   "source": [
    "d['age'] = np.maximum(d.transaction_year - d.kenchiku_year, 0)\n",
    "print(d.age[:20])"
   ]
  },
  {
   "cell_type": "markdown",
   "metadata": {},
   "source": [
    "We now save the data set into pickle so we can re-start easily."
   ]
  },
  {
   "cell_type": "code",
   "execution_count": 164,
   "metadata": {
    "collapsed": true
   },
   "outputs": [],
   "source": [
    "import pickle\n",
    "pickle.dump(d, open('tokyo_apartment.p', 'wb'))"
   ]
  },
  {
   "cell_type": "code",
   "execution_count": 166,
   "metadata": {
    "collapsed": false
   },
   "outputs": [],
   "source": [
    "d = pickle.load(open('tokyo_apartment.p', 'rb'))"
   ]
  },
  {
   "cell_type": "code",
   "execution_count": null,
   "metadata": {
    "collapsed": true
   },
   "outputs": [],
   "source": []
  }
 ],
 "metadata": {
  "kernelspec": {
   "display_name": "Python 3",
   "language": "python",
   "name": "python3"
  },
  "language_info": {
   "codemirror_mode": {
    "name": "ipython",
    "version": 3
   },
   "file_extension": ".py",
   "mimetype": "text/x-python",
   "name": "python",
   "nbconvert_exporter": "python",
   "pygments_lexer": "ipython3",
   "version": "3.5.3"
  }
 },
 "nbformat": 4,
 "nbformat_minor": 2
}
