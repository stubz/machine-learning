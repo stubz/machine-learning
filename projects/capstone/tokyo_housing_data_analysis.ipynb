{
 "cells": [
  {
   "cell_type": "code",
   "execution_count": 2,
   "metadata": {
    "collapsed": false,
    "deletable": true,
    "editable": true
   },
   "outputs": [],
   "source": [
    "import pandas as pd\n",
    "import numpy as np\n",
    "import matplotlib as plt\n",
    "import seaborn as sns"
   ]
  },
  {
   "cell_type": "markdown",
   "metadata": {
    "deletable": true,
    "editable": true
   },
   "source": [
    "# Preprocessing\n",
    "First read the housing price data set."
   ]
  },
  {
   "cell_type": "code",
   "execution_count": 3,
   "metadata": {
    "collapsed": false,
    "deletable": true,
    "editable": true
   },
   "outputs": [],
   "source": [
    "\"\"\"\n",
    "dat = pd.read_csv('13_Tokyo_20053_20163.csv', sep=',', header=None, \n",
    "                 names=('id','type','chiiki','jiscode','ken','shi','chiku','eki','ekikyori',\n",
    "                        'price','unit_price','madori','menseki','unit_price2','keijo',\n",
    "                        'maguchi','nobeyuka','kenchikunen','kouzou','youto','mokuteki','dourohoui',\n",
    "                        'dourotype','douro_fukuin','toshikeikaku','kenpeiritsu',\n",
    "                        'yousekiritsu','torihiki_jiten','bikou'),\n",
    "                 dtype={'id':np.int, 'type':np.str, 'chiiki':np.str, 'jiscode':np.str, 'ken':np.str, 'shi':np.str, 'chiku':np.str, 'eki':np.str,\n",
    "                       'ekikyori':np.float32, 'price':np.float32, 'unit_price':np.float32, 'madori':np.str, 'menseki':np.float32, 'unit_price2':np.float32,\n",
    "                       'keijo':np.str, 'maguchi':np.str, 'nobeyuka':np.float32, 'kenchikunen':np.str, 'kouzou':np.str, 'youto':np.str, 'mokuteki':np.str,\n",
    "                       'dourohoui':np.str, 'dourotype':np.str, 'douro_fukuin':np.str, 'toshikeikaku':np.str, 'kenpeiritsu':np.float32, \n",
    "                       'yousekiritsu':np.float32, 'torihiki_jiten':np.str, 'bikou':np.str})\n",
    "\"\"\"\n",
    "dat = pd.read_csv('13_Tokyo_20053_20163.csv', sep=',', header=None, index_col='id',\n",
    "                 names=('id','type','chiiki','jiscode','ken','shi','chiku','eki','ekikyori',\n",
    "                        'price','unit_price','madori','menseki','unit_price2','keijo',\n",
    "                        'maguchi','nobeyuka','kenchikunen','kouzou','youto','mokuteki','dourohoui',\n",
    "                        'dourotype','douro_fukuin','toshikeikaku','kenpeiritsu',\n",
    "                        'yousekiritsu','torihiki_jiten','bikou'),\n",
    "                 dtype='object')"
   ]
  },
  {
   "cell_type": "code",
   "execution_count": 4,
   "metadata": {
    "collapsed": false,
    "deletable": true,
    "editable": true
   },
   "outputs": [
    {
     "data": {
      "text/html": [
       "<div>\n",
       "<table border=\"1\" class=\"dataframe\">\n",
       "  <thead>\n",
       "    <tr style=\"text-align: right;\">\n",
       "      <th></th>\n",
       "      <th>type</th>\n",
       "      <th>chiiki</th>\n",
       "      <th>jiscode</th>\n",
       "      <th>ken</th>\n",
       "      <th>shi</th>\n",
       "      <th>chiku</th>\n",
       "      <th>eki</th>\n",
       "      <th>ekikyori</th>\n",
       "      <th>price</th>\n",
       "      <th>unit_price</th>\n",
       "      <th>...</th>\n",
       "      <th>youto</th>\n",
       "      <th>mokuteki</th>\n",
       "      <th>dourohoui</th>\n",
       "      <th>dourotype</th>\n",
       "      <th>douro_fukuin</th>\n",
       "      <th>toshikeikaku</th>\n",
       "      <th>kenpeiritsu</th>\n",
       "      <th>yousekiritsu</th>\n",
       "      <th>torihiki_jiten</th>\n",
       "      <th>bikou</th>\n",
       "    </tr>\n",
       "    <tr>\n",
       "      <th>id</th>\n",
       "      <th></th>\n",
       "      <th></th>\n",
       "      <th></th>\n",
       "      <th></th>\n",
       "      <th></th>\n",
       "      <th></th>\n",
       "      <th></th>\n",
       "      <th></th>\n",
       "      <th></th>\n",
       "      <th></th>\n",
       "      <th></th>\n",
       "      <th></th>\n",
       "      <th></th>\n",
       "      <th></th>\n",
       "      <th></th>\n",
       "      <th></th>\n",
       "      <th></th>\n",
       "      <th></th>\n",
       "      <th></th>\n",
       "      <th></th>\n",
       "      <th></th>\n",
       "    </tr>\n",
       "  </thead>\n",
       "  <tbody>\n",
       "    <tr>\n",
       "      <th>1</th>\n",
       "      <td>中古マンション等</td>\n",
       "      <td>NaN</td>\n",
       "      <td>13101</td>\n",
       "      <td>東京都</td>\n",
       "      <td>千代田区</td>\n",
       "      <td>飯田橋</td>\n",
       "      <td>飯田橋</td>\n",
       "      <td>1</td>\n",
       "      <td>51000000</td>\n",
       "      <td>NaN</td>\n",
       "      <td>...</td>\n",
       "      <td>住宅</td>\n",
       "      <td>住宅</td>\n",
       "      <td>NaN</td>\n",
       "      <td>NaN</td>\n",
       "      <td>NaN</td>\n",
       "      <td>商業地域</td>\n",
       "      <td>80</td>\n",
       "      <td>600</td>\n",
       "      <td>平成28年第３四半期</td>\n",
       "      <td>未改装を購入</td>\n",
       "    </tr>\n",
       "    <tr>\n",
       "      <th>2</th>\n",
       "      <td>宅地(土地と建物)</td>\n",
       "      <td>商業地</td>\n",
       "      <td>13101</td>\n",
       "      <td>東京都</td>\n",
       "      <td>千代田区</td>\n",
       "      <td>飯田橋</td>\n",
       "      <td>飯田橋</td>\n",
       "      <td>5</td>\n",
       "      <td>300000000</td>\n",
       "      <td>NaN</td>\n",
       "      <td>...</td>\n",
       "      <td>その他</td>\n",
       "      <td>住宅</td>\n",
       "      <td>北東</td>\n",
       "      <td>区道</td>\n",
       "      <td>5.0</td>\n",
       "      <td>商業地域</td>\n",
       "      <td>80</td>\n",
       "      <td>500</td>\n",
       "      <td>平成28年第１四半期</td>\n",
       "      <td>NaN</td>\n",
       "    </tr>\n",
       "    <tr>\n",
       "      <th>3</th>\n",
       "      <td>宅地(土地と建物)</td>\n",
       "      <td>商業地</td>\n",
       "      <td>13101</td>\n",
       "      <td>東京都</td>\n",
       "      <td>千代田区</td>\n",
       "      <td>飯田橋</td>\n",
       "      <td>飯田橋</td>\n",
       "      <td>4</td>\n",
       "      <td>170000000</td>\n",
       "      <td>NaN</td>\n",
       "      <td>...</td>\n",
       "      <td>事務所、倉庫</td>\n",
       "      <td>住宅</td>\n",
       "      <td>北東</td>\n",
       "      <td>区道</td>\n",
       "      <td>4.0</td>\n",
       "      <td>商業地域</td>\n",
       "      <td>80</td>\n",
       "      <td>700</td>\n",
       "      <td>平成28年第１四半期</td>\n",
       "      <td>NaN</td>\n",
       "    </tr>\n",
       "  </tbody>\n",
       "</table>\n",
       "<p>3 rows × 28 columns</p>\n",
       "</div>"
      ],
      "text/plain": [
       "         type chiiki jiscode  ken   shi chiku  eki ekikyori      price  \\\n",
       "id                                                                       \n",
       "1    中古マンション等    NaN   13101  東京都  千代田区   飯田橋  飯田橋        1   51000000   \n",
       "2   宅地(土地と建物)    商業地   13101  東京都  千代田区   飯田橋  飯田橋        5  300000000   \n",
       "3   宅地(土地と建物)    商業地   13101  東京都  千代田区   飯田橋  飯田橋        4  170000000   \n",
       "\n",
       "   unit_price   ...     youto mokuteki dourohoui dourotype douro_fukuin  \\\n",
       "id              ...                                                       \n",
       "1         NaN   ...        住宅       住宅       NaN       NaN          NaN   \n",
       "2         NaN   ...       その他       住宅        北東        区道          5.0   \n",
       "3         NaN   ...    事務所、倉庫       住宅        北東        区道          4.0   \n",
       "\n",
       "   toshikeikaku kenpeiritsu yousekiritsu torihiki_jiten   bikou  \n",
       "id                                                               \n",
       "1          商業地域          80          600     平成28年第３四半期  未改装を購入  \n",
       "2          商業地域          80          500     平成28年第１四半期     NaN  \n",
       "3          商業地域          80          700     平成28年第１四半期     NaN  \n",
       "\n",
       "[3 rows x 28 columns]"
      ]
     },
     "execution_count": 4,
     "metadata": {},
     "output_type": "execute_result"
    }
   ],
   "source": [
    "dat.head(3)"
   ]
  },
  {
   "cell_type": "code",
   "execution_count": 5,
   "metadata": {
    "collapsed": false,
    "deletable": true,
    "editable": true
   },
   "outputs": [
    {
     "data": {
      "text/plain": [
       "ekikyori\n",
       "0           1127\n",
       "1           5273\n",
       "10          6702\n",
       "11          6257\n",
       "12          3538\n",
       "13          3999\n",
       "14          3058\n",
       "15          2917\n",
       "16          2184\n",
       "17           620\n",
       "18          1419\n",
       "19          1071\n",
       "1H30?2H        8\n",
       "1H?1H30       81\n",
       "2           7886\n",
       "20           818\n",
       "21           575\n",
       "22           172\n",
       "23           576\n",
       "24           389\n",
       "25           372\n",
       "26           243\n",
       "27            59\n",
       "28           223\n",
       "29           204\n",
       "2H?           16\n",
       "3          11317\n",
       "30分?60分     1075\n",
       "4          12681\n",
       "5          11617\n",
       "6          13151\n",
       "7           9143\n",
       "8          10375\n",
       "9           8970\n",
       "Name: type, dtype: int64"
      ]
     },
     "execution_count": 5,
     "metadata": {},
     "output_type": "execute_result"
    }
   ],
   "source": [
    "d = dat[(dat.type=='中古マンション等') & (dat.youto=='住宅')]\n",
    "d.groupby('ekikyori')['type'].count()"
   ]
  },
  {
   "cell_type": "markdown",
   "metadata": {
    "deletable": true,
    "editable": true
   },
   "source": [
    "# Converting each column into the right format\n",
    "We read all the variables as 'object.' We convert some columns into values where appropriate.\n",
    "\n",
    "'ekikyori' takes integer for most records, and we can see '1H30' and '30分'. We will convert to a value"
   ]
  },
  {
   "cell_type": "code",
   "execution_count": 6,
   "metadata": {
    "collapsed": false,
    "deletable": true,
    "editable": true
   },
   "outputs": [
    {
     "name": "stderr",
     "output_type": "stream",
     "text": [
      "//anaconda/envs/mlnd-capstone/lib/python3.5/site-packages/pandas/core/indexing.py:141: SettingWithCopyWarning: \n",
      "A value is trying to be set on a copy of a slice from a DataFrame\n",
      "\n",
      "See the caveats in the documentation: http://pandas.pydata.org/pandas-docs/stable/indexing.html#indexing-view-versus-copy\n",
      "  self._setitem_with_indexer(indexer, value)\n",
      "//anaconda/envs/mlnd-capstone/lib/python3.5/site-packages/ipykernel/__main__.py:1: SettingWithCopyWarning: \n",
      "A value is trying to be set on a copy of a slice from a DataFrame\n",
      "\n",
      "See the caveats in the documentation: http://pandas.pydata.org/pandas-docs/stable/indexing.html#indexing-view-versus-copy\n",
      "  if __name__ == '__main__':\n",
      "//anaconda/envs/mlnd-capstone/lib/python3.5/site-packages/ipykernel/__main__.py:2: SettingWithCopyWarning: \n",
      "A value is trying to be set on a copy of a slice from a DataFrame\n",
      "\n",
      "See the caveats in the documentation: http://pandas.pydata.org/pandas-docs/stable/indexing.html#indexing-view-versus-copy\n",
      "  from ipykernel import kernelapp as app\n",
      "//anaconda/envs/mlnd-capstone/lib/python3.5/site-packages/ipykernel/__main__.py:3: SettingWithCopyWarning: \n",
      "A value is trying to be set on a copy of a slice from a DataFrame\n",
      "\n",
      "See the caveats in the documentation: http://pandas.pydata.org/pandas-docs/stable/indexing.html#indexing-view-versus-copy\n",
      "  app.launch_new_instance()\n",
      "//anaconda/envs/mlnd-capstone/lib/python3.5/site-packages/ipykernel/__main__.py:4: SettingWithCopyWarning: \n",
      "A value is trying to be set on a copy of a slice from a DataFrame\n",
      "\n",
      "See the caveats in the documentation: http://pandas.pydata.org/pandas-docs/stable/indexing.html#indexing-view-versus-copy\n"
     ]
    }
   ],
   "source": [
    "d.loc[d.ekikyori=='30分?60分', 'ekikyori'] = '60'\n",
    "d.loc[d.ekikyori=='2H?', 'ekikyori'] = '120'\n",
    "d.loc[d.ekikyori=='1H30?2H', 'ekikyori'] = '120'\n",
    "d.loc[d.ekikyori=='1H?1H30', 'ekikyori'] = '90'"
   ]
  },
  {
   "cell_type": "code",
   "execution_count": 7,
   "metadata": {
    "collapsed": false,
    "deletable": true,
    "editable": true
   },
   "outputs": [
    {
     "name": "stderr",
     "output_type": "stream",
     "text": [
      "//anaconda/envs/mlnd-capstone/lib/python3.5/site-packages/pandas/core/generic.py:2773: SettingWithCopyWarning: \n",
      "A value is trying to be set on a copy of a slice from a DataFrame.\n",
      "Try using .loc[row_indexer,col_indexer] = value instead\n",
      "\n",
      "See the caveats in the documentation: http://pandas.pydata.org/pandas-docs/stable/indexing.html#indexing-view-versus-copy\n",
      "  self[name] = value\n"
     ]
    }
   ],
   "source": [
    "d.ekikyori = pd.to_numeric(d.ekikyori)\n",
    "d.menseki = pd.to_numeric(d.menseki)\n",
    "d.kenpeiritsu = pd.to_numeric(d.kenpeiritsu)/100.0\n",
    "d.yousekiritsu = pd.to_numeric(d.yousekiritsu)/100.0"
   ]
  },
  {
   "cell_type": "code",
   "execution_count": 8,
   "metadata": {
    "collapsed": false,
    "deletable": true,
    "editable": true
   },
   "outputs": [
    {
     "name": "stderr",
     "output_type": "stream",
     "text": [
      "//anaconda/envs/mlnd-capstone/lib/python3.5/site-packages/pandas/core/generic.py:2773: SettingWithCopyWarning: \n",
      "A value is trying to be set on a copy of a slice from a DataFrame.\n",
      "Try using .loc[row_indexer,col_indexer] = value instead\n",
      "\n",
      "See the caveats in the documentation: http://pandas.pydata.org/pandas-docs/stable/indexing.html#indexing-view-versus-copy\n",
      "  self[name] = value\n"
     ]
    }
   ],
   "source": [
    "d.price = pd.to_numeric(d.price)"
   ]
  },
  {
   "cell_type": "code",
   "execution_count": 9,
   "metadata": {
    "collapsed": false,
    "deletable": true,
    "editable": true
   },
   "outputs": [
    {
     "data": {
      "text/html": [
       "<div>\n",
       "<table border=\"1\" class=\"dataframe\">\n",
       "  <thead>\n",
       "    <tr style=\"text-align: right;\">\n",
       "      <th></th>\n",
       "      <th>yousekiritsu</th>\n",
       "      <th>torihiki_jiten</th>\n",
       "      <th>bikou</th>\n",
       "    </tr>\n",
       "    <tr>\n",
       "      <th>id</th>\n",
       "      <th></th>\n",
       "      <th></th>\n",
       "      <th></th>\n",
       "    </tr>\n",
       "  </thead>\n",
       "  <tbody>\n",
       "    <tr>\n",
       "      <th>1</th>\n",
       "      <td>6.0</td>\n",
       "      <td>平成28年第３四半期</td>\n",
       "      <td>未改装を購入</td>\n",
       "    </tr>\n",
       "    <tr>\n",
       "      <th>4</th>\n",
       "      <td>5.0</td>\n",
       "      <td>平成28年第１四半期</td>\n",
       "      <td>未改装を購入</td>\n",
       "    </tr>\n",
       "    <tr>\n",
       "      <th>5</th>\n",
       "      <td>7.0</td>\n",
       "      <td>平成28年第１四半期</td>\n",
       "      <td>未改装を購入</td>\n",
       "    </tr>\n",
       "  </tbody>\n",
       "</table>\n",
       "</div>"
      ],
      "text/plain": [
       "    yousekiritsu torihiki_jiten   bikou\n",
       "id                                     \n",
       "1            6.0     平成28年第３四半期  未改装を購入\n",
       "4            5.0     平成28年第１四半期  未改装を購入\n",
       "5            7.0     平成28年第１四半期  未改装を購入"
      ]
     },
     "execution_count": 9,
     "metadata": {},
     "output_type": "execute_result"
    }
   ],
   "source": [
    "d.iloc[:3, 25:30]"
   ]
  },
  {
   "cell_type": "code",
   "execution_count": 10,
   "metadata": {
    "collapsed": false,
    "deletable": true,
    "editable": true
   },
   "outputs": [
    {
     "data": {
      "text/plain": [
       "bikou\n",
       "その他事情有り                        1\n",
       "他の権利・負担付き                      1\n",
       "他の権利・負担付き、改装済を購入               4\n",
       "他の権利・負担付き、未改装を購入              15\n",
       "他の権利・負担付き、調停・競売等、未改装を購入        1\n",
       "改装済を購入                     32550\n",
       "改装済を購入、その他事情有り                 4\n",
       "未改装を購入                     88887\n",
       "未改装を購入、その他事情有り                22\n",
       "瑕疵有りの可能性、改装済を購入                3\n",
       "瑕疵有りの可能性、未改装を購入                6\n",
       "調停・競売等                       457\n",
       "調停・競売等、改装済を購入                101\n",
       "調停・競売等、未改装を購入               2479\n",
       "関係者間取引                        14\n",
       "関係者間取引、改装済を購入                 31\n",
       "関係者間取引、未改装を購入                191\n",
       "Name: type, dtype: int64"
      ]
     },
     "execution_count": 10,
     "metadata": {},
     "output_type": "execute_result"
    }
   ],
   "source": [
    "d.groupby('bikou')['type'].count()\n",
    "# remove\n",
    "# unit_price\n",
    "# unit_price2\n",
    "# keijo\n",
    "# maguchi\n",
    "# nobeyuka\n",
    "# dourohoui\n",
    "# dourotype\n",
    "# douro_fukuin"
   ]
  },
  {
   "cell_type": "markdown",
   "metadata": {
    "deletable": true,
    "editable": true
   },
   "source": [
    "From 'bikou' column, we can find if the apartment was reformed or not, the transaction between two professional dealers."
   ]
  },
  {
   "cell_type": "code",
   "execution_count": 11,
   "metadata": {
    "collapsed": false,
    "deletable": true,
    "editable": true
   },
   "outputs": [
    {
     "name": "stderr",
     "output_type": "stream",
     "text": [
      "//anaconda/envs/mlnd-capstone/lib/python3.5/site-packages/ipykernel/__main__.py:2: SettingWithCopyWarning: \n",
      "A value is trying to be set on a copy of a slice from a DataFrame.\n",
      "Try using .loc[row_indexer,col_indexer] = value instead\n",
      "\n",
      "See the caveats in the documentation: http://pandas.pydata.org/pandas-docs/stable/indexing.html#indexing-view-versus-copy\n",
      "  from ipykernel import kernelapp as app\n",
      "//anaconda/envs/mlnd-capstone/lib/python3.5/site-packages/ipykernel/__main__.py:5: SettingWithCopyWarning: \n",
      "A value is trying to be set on a copy of a slice from a DataFrame.\n",
      "Try using .loc[row_indexer,col_indexer] = value instead\n",
      "\n",
      "See the caveats in the documentation: http://pandas.pydata.org/pandas-docs/stable/indexing.html#indexing-view-versus-copy\n",
      "//anaconda/envs/mlnd-capstone/lib/python3.5/site-packages/ipykernel/__main__.py:6: SettingWithCopyWarning: \n",
      "A value is trying to be set on a copy of a slice from a DataFrame.\n",
      "Try using .loc[row_indexer,col_indexer] = value instead\n",
      "\n",
      "See the caveats in the documentation: http://pandas.pydata.org/pandas-docs/stable/indexing.html#indexing-view-versus-copy\n",
      "//anaconda/envs/mlnd-capstone/lib/python3.5/site-packages/ipykernel/__main__.py:7: SettingWithCopyWarning: \n",
      "A value is trying to be set on a copy of a slice from a DataFrame.\n",
      "Try using .loc[row_indexer,col_indexer] = value instead\n",
      "\n",
      "See the caveats in the documentation: http://pandas.pydata.org/pandas-docs/stable/indexing.html#indexing-view-versus-copy\n"
     ]
    }
   ],
   "source": [
    "d['is_reformed'] = [1 if x in (['他の権利・負担付き、改装済を購入','改装済を購入','改装済を購入、その他事情有り',\n",
    "                               '瑕疵有りの可能性、改装済を購入','調停・競売等、改装済を購入','関係者間取引、改装済を購入']) else 0 for x in d.bikou]\n",
    "d['is_not_reformed'] = [1 if x in (['他の権利・負担付き、未改装を購入','他の権利・負担付き、調停・競売等、未改装を購入','未改装を購入',\n",
    "                               '未改装を購入、その他事情有り','瑕疵有りの可能性、未改装を購入','調停・競売等、未改装を購入',\n",
    "                                   '関係者間取引、未改装を購入']) else 0 for x in d.bikou]\n",
    "d['is_auction'] = [1 if x in ['調停・競売等','調停・競売等、改装済を購入','調停・競売等、未改装を購入'] else 0 for x in d.bikou]\n",
    "d['is_direct_transaction'] = [1 if x in ['関係者間取引','関係者間取引、改装済を購入','関係者間取引、未改装を購入'] else 0 for x in d.bikou]\n"
   ]
  },
  {
   "cell_type": "markdown",
   "metadata": {
    "deletable": true,
    "editable": true
   },
   "source": [
    "We need to convert 'torihiki_jiten' (transaction date) and 'kenchikunen' (year of built). These are denoted by gengou."
   ]
  },
  {
   "cell_type": "code",
   "execution_count": 12,
   "metadata": {
    "collapsed": false,
    "deletable": true,
    "editable": true
   },
   "outputs": [
    {
     "name": "stdout",
     "output_type": "stream",
     "text": [
      "kenchikunen\n",
      "平成10年    4510\n",
      "平成11年    4523\n",
      "平成12年    5419\n",
      "平成13年    4607\n",
      "平成14年    5124\n",
      "平成15年    5874\n",
      "平成16年    5733\n",
      "平成17年    6856\n",
      "平成18年    6592\n",
      "平成19年    5593\n",
      "平成20年    5138\n",
      "平成21年    4469\n",
      "平成22年    2840\n",
      "平成23年    1867\n",
      "平成24年    2009\n",
      "平成25年    1290\n",
      "平成26年    1110\n",
      "平成27年    1091\n",
      "平成28年     147\n",
      "平成2年     2299\n",
      "平成3年     2924\n",
      "平成4年     2330\n",
      "平成5年     1339\n",
      "平成6年     1909\n",
      "平成7年     3145\n",
      "平成8年     3341\n",
      "平成9年     3565\n",
      "平成元年     2242\n",
      "戦前        123\n",
      "昭和21年       5\n",
      "         ... \n",
      "昭和34年      14\n",
      "昭和35年       4\n",
      "昭和36年      10\n",
      "昭和37年      10\n",
      "昭和38年      26\n",
      "昭和39年      63\n",
      "昭和40年      76\n",
      "昭和41年     146\n",
      "昭和42年     170\n",
      "昭和43年     474\n",
      "昭和44年     690\n",
      "昭和45年    1204\n",
      "昭和46年    1495\n",
      "昭和47年    1307\n",
      "昭和48年    1323\n",
      "昭和49年    1666\n",
      "昭和50年     824\n",
      "昭和51年    1002\n",
      "昭和52年    1013\n",
      "昭和53年    1734\n",
      "昭和54年    1983\n",
      "昭和55年    1805\n",
      "昭和56年    1465\n",
      "昭和57年    1692\n",
      "昭和58年    1649\n",
      "昭和59年    3426\n",
      "昭和60年    2728\n",
      "昭和61年    2221\n",
      "昭和62年    2452\n",
      "昭和63年    2665\n",
      "Name: type, dtype: int64\n"
     ]
    }
   ],
   "source": [
    "print(d.groupby('kenchikunen')['type'].count())"
   ]
  },
  {
   "cell_type": "markdown",
   "metadata": {
    "deletable": true,
    "editable": true
   },
   "source": [
    "We make a list of years manually."
   ]
  },
  {
   "cell_type": "code",
   "execution_count": 13,
   "metadata": {
    "collapsed": true,
    "deletable": true,
    "editable": true
   },
   "outputs": [],
   "source": [
    "gengou = []\n",
    "gengou.append(\"戦前\")\n",
    "shouwa = range(21, 64)\n",
    "for yr in shouwa:\n",
    "    gengou.append(\"昭和\"+np.str(yr)+\"年\")\n",
    "# 平成元年\n",
    "gengou.append(\"平成元年\")\n",
    "# 平成２年以降\n",
    "heisei = range(2, 30)\n",
    "for yr in heisei:\n",
    "    gengou.append(\"平成\"+np.str(yr)+\"年\")\n",
    "seireki = range(1945, 2018) \n",
    "kenchikunen = {k: v for k, v in zip(gengou, seireki)}\n",
    "# {平成２８年: 2016, 昭和５４年: 1979, ...}\n"
   ]
  },
  {
   "cell_type": "markdown",
   "metadata": {
    "deletable": true,
    "editable": true
   },
   "source": [
    "We now change the kenchikunen in the data set. But kenchikunen has 3025 null values, so we need to delete those records."
   ]
  },
  {
   "cell_type": "code",
   "execution_count": 14,
   "metadata": {
    "collapsed": false,
    "deletable": true,
    "editable": true
   },
   "outputs": [
    {
     "data": {
      "text/plain": [
       "type                          0\n",
       "chiiki                   136394\n",
       "jiscode                       0\n",
       "ken                           0\n",
       "shi                           0\n",
       "chiku                        44\n",
       "eki                         283\n",
       "ekikyori                   8278\n",
       "price                         0\n",
       "unit_price               136394\n",
       "madori                     4034\n",
       "menseki                       0\n",
       "unit_price2              136394\n",
       "keijo                    136394\n",
       "maguchi                  136394\n",
       "nobeyuka                 136394\n",
       "kenchikunen                3025\n",
       "kouzou                     1033\n",
       "youto                         0\n",
       "mokuteki                 102656\n",
       "dourohoui                136394\n",
       "dourotype                136394\n",
       "douro_fukuin             136394\n",
       "toshikeikaku               2441\n",
       "kenpeiritsu                2986\n",
       "yousekiritsu               2986\n",
       "torihiki_jiten                0\n",
       "bikou                     11627\n",
       "is_reformed                   0\n",
       "is_not_reformed               0\n",
       "is_auction                    0\n",
       "is_direct_transaction         0\n",
       "dtype: int64"
      ]
     },
     "execution_count": 14,
     "metadata": {},
     "output_type": "execute_result"
    }
   ],
   "source": [
    "d.isnull().sum()"
   ]
  },
  {
   "cell_type": "code",
   "execution_count": 15,
   "metadata": {
    "collapsed": false,
    "deletable": true,
    "editable": true
   },
   "outputs": [
    {
     "name": "stderr",
     "output_type": "stream",
     "text": [
      "//anaconda/envs/mlnd-capstone/lib/python3.5/site-packages/ipykernel/__main__.py:1: SettingWithCopyWarning: \n",
      "A value is trying to be set on a copy of a slice from a DataFrame.\n",
      "Try using .loc[row_indexer,col_indexer] = value instead\n",
      "\n",
      "See the caveats in the documentation: http://pandas.pydata.org/pandas-docs/stable/indexing.html#indexing-view-versus-copy\n",
      "  if __name__ == '__main__':\n"
     ]
    },
    {
     "data": {
      "text/html": [
       "<div>\n",
       "<table border=\"1\" class=\"dataframe\">\n",
       "  <thead>\n",
       "    <tr style=\"text-align: right;\">\n",
       "      <th></th>\n",
       "      <th>kenchikunen</th>\n",
       "      <th>kenchiku_year</th>\n",
       "    </tr>\n",
       "    <tr>\n",
       "      <th>id</th>\n",
       "      <th></th>\n",
       "      <th></th>\n",
       "    </tr>\n",
       "  </thead>\n",
       "  <tbody>\n",
       "    <tr>\n",
       "      <th>1</th>\n",
       "      <td>昭和59年</td>\n",
       "      <td>1984.0</td>\n",
       "    </tr>\n",
       "    <tr>\n",
       "      <th>4</th>\n",
       "      <td>平成19年</td>\n",
       "      <td>2007.0</td>\n",
       "    </tr>\n",
       "    <tr>\n",
       "      <th>5</th>\n",
       "      <td>昭和57年</td>\n",
       "      <td>1982.0</td>\n",
       "    </tr>\n",
       "    <tr>\n",
       "      <th>6</th>\n",
       "      <td>平成19年</td>\n",
       "      <td>2007.0</td>\n",
       "    </tr>\n",
       "    <tr>\n",
       "      <th>10</th>\n",
       "      <td>平成11年</td>\n",
       "      <td>1999.0</td>\n",
       "    </tr>\n",
       "  </tbody>\n",
       "</table>\n",
       "</div>"
      ],
      "text/plain": [
       "   kenchikunen  kenchiku_year\n",
       "id                           \n",
       "1        昭和59年         1984.0\n",
       "4        平成19年         2007.0\n",
       "5        昭和57年         1982.0\n",
       "6        平成19年         2007.0\n",
       "10       平成11年         1999.0"
      ]
     },
     "execution_count": 15,
     "metadata": {},
     "output_type": "execute_result"
    }
   ],
   "source": [
    "d['kenchiku_year'] = [np.nan if pd.isnull(y) else kenchikunen[y] for y in d.kenchikunen]\n",
    "d[['kenchikunen', 'kenchiku_year']].head(5)"
   ]
  },
  {
   "cell_type": "markdown",
   "metadata": {
    "deletable": true,
    "editable": true
   },
   "source": [
    "From the kenchiku_year, we can calculate the age of the apartment as of the transaction date. The transaction quarter is available in the data set, so we take the difference between the two years."
   ]
  },
  {
   "cell_type": "code",
   "execution_count": 16,
   "metadata": {
    "collapsed": false,
    "deletable": true,
    "editable": true
   },
   "outputs": [
    {
     "name": "stderr",
     "output_type": "stream",
     "text": [
      "//anaconda/envs/mlnd-capstone/lib/python3.5/site-packages/ipykernel/__main__.py:1: SettingWithCopyWarning: \n",
      "A value is trying to be set on a copy of a slice from a DataFrame.\n",
      "Try using .loc[row_indexer,col_indexer] = value instead\n",
      "\n",
      "See the caveats in the documentation: http://pandas.pydata.org/pandas-docs/stable/indexing.html#indexing-view-versus-copy\n",
      "  if __name__ == '__main__':\n"
     ]
    },
    {
     "data": {
      "text/html": [
       "<div>\n",
       "<table border=\"1\" class=\"dataframe\">\n",
       "  <thead>\n",
       "    <tr style=\"text-align: right;\">\n",
       "      <th></th>\n",
       "      <th>torihiki_jiten</th>\n",
       "      <th>transaction_year</th>\n",
       "    </tr>\n",
       "    <tr>\n",
       "      <th>id</th>\n",
       "      <th></th>\n",
       "      <th></th>\n",
       "    </tr>\n",
       "  </thead>\n",
       "  <tbody>\n",
       "    <tr>\n",
       "      <th>1</th>\n",
       "      <td>平成28年第３四半期</td>\n",
       "      <td>2016</td>\n",
       "    </tr>\n",
       "    <tr>\n",
       "      <th>4</th>\n",
       "      <td>平成28年第１四半期</td>\n",
       "      <td>2016</td>\n",
       "    </tr>\n",
       "    <tr>\n",
       "      <th>5</th>\n",
       "      <td>平成28年第１四半期</td>\n",
       "      <td>2016</td>\n",
       "    </tr>\n",
       "    <tr>\n",
       "      <th>6</th>\n",
       "      <td>平成28年第１四半期</td>\n",
       "      <td>2016</td>\n",
       "    </tr>\n",
       "    <tr>\n",
       "      <th>10</th>\n",
       "      <td>平成27年第４四半期</td>\n",
       "      <td>2015</td>\n",
       "    </tr>\n",
       "  </tbody>\n",
       "</table>\n",
       "</div>"
      ],
      "text/plain": [
       "   torihiki_jiten  transaction_year\n",
       "id                                 \n",
       "1      平成28年第３四半期              2016\n",
       "4      平成28年第１四半期              2016\n",
       "5      平成28年第１四半期              2016\n",
       "6      平成28年第１四半期              2016\n",
       "10     平成27年第４四半期              2015"
      ]
     },
     "execution_count": 16,
     "metadata": {},
     "output_type": "execute_result"
    }
   ],
   "source": [
    "d['transaction_year'] = [kenchikunen[v[:5]] for v in d.torihiki_jiten]\n",
    "d[['torihiki_jiten', 'transaction_year']].head(5)\n",
    "#for x in d.torihiki_jiten[:10]:\n",
    "#    print(x[:5], kenchikunen[x[:5]])"
   ]
  },
  {
   "cell_type": "code",
   "execution_count": 17,
   "metadata": {
    "collapsed": false,
    "deletable": true,
    "editable": true
   },
   "outputs": [
    {
     "name": "stdout",
     "output_type": "stream",
     "text": [
      "id\n",
      "1     32.0\n",
      "4      9.0\n",
      "5     34.0\n",
      "6      9.0\n",
      "10    16.0\n",
      "11    31.0\n",
      "12    33.0\n",
      "13     8.0\n",
      "14    31.0\n",
      "16    31.0\n",
      "17     8.0\n",
      "18    30.0\n",
      "19     NaN\n",
      "20     2.0\n",
      "21    31.0\n",
      "22    11.0\n",
      "23     7.0\n",
      "24     7.0\n",
      "25    11.0\n",
      "26    30.0\n",
      "Name: age, dtype: float64\n"
     ]
    },
    {
     "name": "stderr",
     "output_type": "stream",
     "text": [
      "//anaconda/envs/mlnd-capstone/lib/python3.5/site-packages/ipykernel/__main__.py:1: SettingWithCopyWarning: \n",
      "A value is trying to be set on a copy of a slice from a DataFrame.\n",
      "Try using .loc[row_indexer,col_indexer] = value instead\n",
      "\n",
      "See the caveats in the documentation: http://pandas.pydata.org/pandas-docs/stable/indexing.html#indexing-view-versus-copy\n",
      "  if __name__ == '__main__':\n"
     ]
    }
   ],
   "source": [
    "d['age'] = np.maximum(d.transaction_year - d.kenchiku_year, 0)\n",
    "print(d.age[:20])"
   ]
  },
  {
   "cell_type": "markdown",
   "metadata": {
    "deletable": true,
    "editable": true
   },
   "source": [
    "The price can take a large value, ranging from one million yen. We take the log of the price."
   ]
  },
  {
   "cell_type": "code",
   "execution_count": 18,
   "metadata": {
    "collapsed": false,
    "deletable": true,
    "editable": true
   },
   "outputs": [
    {
     "name": "stderr",
     "output_type": "stream",
     "text": [
      "//anaconda/envs/mlnd-capstone/lib/python3.5/site-packages/ipykernel/__main__.py:1: SettingWithCopyWarning: \n",
      "A value is trying to be set on a copy of a slice from a DataFrame.\n",
      "Try using .loc[row_indexer,col_indexer] = value instead\n",
      "\n",
      "See the caveats in the documentation: http://pandas.pydata.org/pandas-docs/stable/indexing.html#indexing-view-versus-copy\n",
      "  if __name__ == '__main__':\n"
     ]
    }
   ],
   "source": [
    "d['price_log10'] = np.log10(d.price)"
   ]
  },
  {
   "cell_type": "markdown",
   "metadata": {
    "deletable": true,
    "editable": true
   },
   "source": [
    "We now save the data set into pickle so we can re-start easily."
   ]
  },
  {
   "cell_type": "code",
   "execution_count": 19,
   "metadata": {
    "collapsed": false,
    "deletable": true,
    "editable": true
   },
   "outputs": [],
   "source": [
    "# remove useless columns\n",
    "d.isnull().sum()/d.shape[0] # ratio of null values\n",
    "# chiiki, unit_price, unit_price2, keijo, maguchi, nobeyuka, dourohoui, dourotype, douro_fukuin are all NaN\n",
    "d = d.drop(['chiiki','unit_price','unit_price2','keijo','maguchi','nobeyuka','dourohoui','dourotype','douro_fukuin'], axis=1)"
   ]
  },
  {
   "cell_type": "code",
   "execution_count": 20,
   "metadata": {
    "collapsed": false,
    "deletable": true,
    "editable": true
   },
   "outputs": [],
   "source": [
    "d.head(3)\n",
    "# type is all apartment, and ken is Tokyo. so we remove these too.\n",
    "d = d.drop(['type','ken'], axis=1)"
   ]
  },
  {
   "cell_type": "markdown",
   "metadata": {
    "deletable": true,
    "editable": true
   },
   "source": [
    "We are going to use one year of records as the training data set, the next one quarter as the validation and the next one quarter as the test data set.\n",
    "\n",
    "The dataset includes null values. We count the number of blank records for each column."
   ]
  },
  {
   "cell_type": "code",
   "execution_count": 21,
   "metadata": {
    "collapsed": false,
    "deletable": true,
    "editable": true,
    "scrolled": true
   },
   "outputs": [
    {
     "data": {
      "text/plain": [
       "jiscode                     0\n",
       "shi                         0\n",
       "chiku                       0\n",
       "eki                         2\n",
       "ekikyori                   47\n",
       "price                       0\n",
       "madori                   1062\n",
       "menseki                     0\n",
       "kenchikunen               751\n",
       "kouzou                     90\n",
       "youto                       0\n",
       "mokuteki                 1232\n",
       "toshikeikaku              196\n",
       "kenpeiritsu               268\n",
       "yousekiritsu              268\n",
       "torihiki_jiten              0\n",
       "bikou                    3131\n",
       "is_reformed                 0\n",
       "is_not_reformed             0\n",
       "is_auction                  0\n",
       "is_direct_transaction       0\n",
       "kenchiku_year             751\n",
       "transaction_year            0\n",
       "age                       751\n",
       "price_log10                 0\n",
       "dtype: int64"
      ]
     },
     "execution_count": 21,
     "metadata": {},
     "output_type": "execute_result"
    }
   ],
   "source": [
    "d[d.transaction_year>=2015].isnull().sum()"
   ]
  },
  {
   "cell_type": "code",
   "execution_count": 22,
   "metadata": {
    "collapsed": false,
    "deletable": true,
    "editable": true
   },
   "outputs": [
    {
     "name": "stdout",
     "output_type": "stream",
     "text": [
      "deleted records:  108731\n"
     ]
    },
    {
     "data": {
      "text/html": [
       "<div>\n",
       "<table border=\"1\" class=\"dataframe\">\n",
       "  <thead>\n",
       "    <tr style=\"text-align: right;\">\n",
       "      <th></th>\n",
       "      <th>mokuteki</th>\n",
       "      <th>toshikeikaku</th>\n",
       "      <th>youto</th>\n",
       "      <th>kenpeiritsu</th>\n",
       "      <th>yousekiritsu</th>\n",
       "    </tr>\n",
       "    <tr>\n",
       "      <th>id</th>\n",
       "      <th></th>\n",
       "      <th></th>\n",
       "      <th></th>\n",
       "      <th></th>\n",
       "      <th></th>\n",
       "    </tr>\n",
       "  </thead>\n",
       "  <tbody>\n",
       "    <tr>\n",
       "      <th>1</th>\n",
       "      <td>住宅</td>\n",
       "      <td>商業地域</td>\n",
       "      <td>住宅</td>\n",
       "      <td>0.8</td>\n",
       "      <td>6.0</td>\n",
       "    </tr>\n",
       "    <tr>\n",
       "      <th>4</th>\n",
       "      <td>住宅</td>\n",
       "      <td>商業地域</td>\n",
       "      <td>住宅</td>\n",
       "      <td>0.8</td>\n",
       "      <td>5.0</td>\n",
       "    </tr>\n",
       "    <tr>\n",
       "      <th>5</th>\n",
       "      <td>事務所</td>\n",
       "      <td>商業地域</td>\n",
       "      <td>住宅</td>\n",
       "      <td>0.8</td>\n",
       "      <td>7.0</td>\n",
       "    </tr>\n",
       "    <tr>\n",
       "      <th>6</th>\n",
       "      <td>住宅</td>\n",
       "      <td>商業地域</td>\n",
       "      <td>住宅</td>\n",
       "      <td>0.8</td>\n",
       "      <td>5.0</td>\n",
       "    </tr>\n",
       "    <tr>\n",
       "      <th>10</th>\n",
       "      <td>住宅</td>\n",
       "      <td>商業地域</td>\n",
       "      <td>住宅</td>\n",
       "      <td>0.8</td>\n",
       "      <td>5.0</td>\n",
       "    </tr>\n",
       "  </tbody>\n",
       "</table>\n",
       "</div>"
      ],
      "text/plain": [
       "   mokuteki toshikeikaku youto  kenpeiritsu  yousekiritsu\n",
       "id                                                       \n",
       "1        住宅         商業地域    住宅          0.8           6.0\n",
       "4        住宅         商業地域    住宅          0.8           5.0\n",
       "5       事務所         商業地域    住宅          0.8           7.0\n",
       "6        住宅         商業地域    住宅          0.8           5.0\n",
       "10       住宅         商業地域    住宅          0.8           5.0"
      ]
     },
     "execution_count": 22,
     "metadata": {},
     "output_type": "execute_result"
    }
   ],
   "source": [
    "# remove rows that have NA values in at least one column.\n",
    "d_comp = d.dropna(axis=0)\n",
    "print(\"deleted records: \", d.shape[0] - d_comp.shape[0])\n",
    "d[['mokuteki','toshikeikaku','youto','kenpeiritsu','yousekiritsu']].head(5)"
   ]
  },
  {
   "cell_type": "code",
   "execution_count": 23,
   "metadata": {
    "collapsed": false,
    "deletable": true,
    "editable": true
   },
   "outputs": [
    {
     "name": "stdout",
     "output_type": "stream",
     "text": [
      "torihiki_jiten\n",
      "平成25年第１四半期       7\n",
      "平成25年第２四半期       5\n",
      "平成25年第３四半期      20\n",
      "平成25年第４四半期      39\n",
      "平成26年第１四半期     560\n",
      "平成26年第２四半期    2511\n",
      "平成26年第３四半期    2617\n",
      "平成26年第４四半期    2716\n",
      "平成27年第１四半期    2934\n",
      "平成27年第２四半期    2865\n",
      "平成27年第３四半期    2846\n",
      "平成27年第４四半期    2825\n",
      "平成28年第１四半期    2943\n",
      "平成28年第２四半期    2895\n",
      "平成28年第３四半期    1880\n",
      "Name: shi, dtype: int64\n",
      "(11479, 25) (2895, 25) (1880, 25)\n"
     ]
    }
   ],
   "source": [
    "print(d_comp.groupby('torihiki_jiten')['shi'].count())\n",
    "train = d_comp[d_comp.torihiki_jiten.isin( ['平成27年第２四半期', '平成27年第３四半期','平成27年第４四半期','平成28年第１四半期'])]\n",
    "validation = d_comp[d_comp.torihiki_jiten=='平成28年第２四半期']\n",
    "test = d_comp[d_comp.torihiki_jiten=='平成28年第３四半期']\n",
    "print(train.shape, validation.shape, test.shape)"
   ]
  },
  {
   "cell_type": "markdown",
   "metadata": {},
   "source": [
    "## Dummy variables\n",
    "We need to convert character variables by one-hot encoding. First check what variables need to be converted.\n",
    "* shi\n",
    "* chiku\n",
    "* eki\n",
    "* madori\n",
    "* kenchikunen\n",
    "* kouzou\n",
    "* youto\n",
    "* mokuteki\n",
    "* toshikeikaku\n",
    "* bikou\n",
    "Kenchikunen is already conveted to age variable. bikou is converted into is_reformed, is_direct_sales and is_aucition. The rest of the variables "
   ]
  },
  {
   "cell_type": "code",
   "execution_count": 89,
   "metadata": {
    "collapsed": false
   },
   "outputs": [
    {
     "data": {
      "text/html": [
       "<div>\n",
       "<table border=\"1\" class=\"dataframe\">\n",
       "  <thead>\n",
       "    <tr style=\"text-align: right;\">\n",
       "      <th></th>\n",
       "      <th>shi</th>\n",
       "      <th>chiku</th>\n",
       "      <th>eki</th>\n",
       "      <th>madori</th>\n",
       "      <th>kenchikunen</th>\n",
       "      <th>kouzou</th>\n",
       "      <th>youto</th>\n",
       "      <th>mokuteki</th>\n",
       "      <th>toshikeikaku</th>\n",
       "      <th>bikou</th>\n",
       "    </tr>\n",
       "    <tr>\n",
       "      <th>id</th>\n",
       "      <th></th>\n",
       "      <th></th>\n",
       "      <th></th>\n",
       "      <th></th>\n",
       "      <th></th>\n",
       "      <th></th>\n",
       "      <th></th>\n",
       "      <th></th>\n",
       "      <th></th>\n",
       "      <th></th>\n",
       "    </tr>\n",
       "  </thead>\n",
       "  <tbody>\n",
       "    <tr>\n",
       "      <th>1</th>\n",
       "      <td>千代田区</td>\n",
       "      <td>飯田橋</td>\n",
       "      <td>飯田橋</td>\n",
       "      <td>２ＬＤＫ</td>\n",
       "      <td>昭和59年</td>\n",
       "      <td>ＳＲＣ</td>\n",
       "      <td>住宅</td>\n",
       "      <td>住宅</td>\n",
       "      <td>商業地域</td>\n",
       "      <td>未改装を購入</td>\n",
       "    </tr>\n",
       "    <tr>\n",
       "      <th>4</th>\n",
       "      <td>千代田区</td>\n",
       "      <td>飯田橋</td>\n",
       "      <td>飯田橋</td>\n",
       "      <td>２ＬＤＫ</td>\n",
       "      <td>平成19年</td>\n",
       "      <td>ＲＣ</td>\n",
       "      <td>住宅</td>\n",
       "      <td>住宅</td>\n",
       "      <td>商業地域</td>\n",
       "      <td>未改装を購入</td>\n",
       "    </tr>\n",
       "    <tr>\n",
       "      <th>5</th>\n",
       "      <td>千代田区</td>\n",
       "      <td>飯田橋</td>\n",
       "      <td>飯田橋</td>\n",
       "      <td>１Ｋ</td>\n",
       "      <td>昭和57年</td>\n",
       "      <td>ＳＲＣ</td>\n",
       "      <td>住宅</td>\n",
       "      <td>事務所</td>\n",
       "      <td>商業地域</td>\n",
       "      <td>未改装を購入</td>\n",
       "    </tr>\n",
       "    <tr>\n",
       "      <th>6</th>\n",
       "      <td>千代田区</td>\n",
       "      <td>飯田橋</td>\n",
       "      <td>飯田橋</td>\n",
       "      <td>３ＬＤＫ</td>\n",
       "      <td>平成19年</td>\n",
       "      <td>ＲＣ</td>\n",
       "      <td>住宅</td>\n",
       "      <td>住宅</td>\n",
       "      <td>商業地域</td>\n",
       "      <td>未改装を購入</td>\n",
       "    </tr>\n",
       "    <tr>\n",
       "      <th>10</th>\n",
       "      <td>千代田区</td>\n",
       "      <td>飯田橋</td>\n",
       "      <td>飯田橋</td>\n",
       "      <td>１ＤＫ</td>\n",
       "      <td>平成11年</td>\n",
       "      <td>ＳＲＣ</td>\n",
       "      <td>住宅</td>\n",
       "      <td>住宅</td>\n",
       "      <td>商業地域</td>\n",
       "      <td>改装済を購入</td>\n",
       "    </tr>\n",
       "    <tr>\n",
       "      <th>11</th>\n",
       "      <td>千代田区</td>\n",
       "      <td>飯田橋</td>\n",
       "      <td>飯田橋</td>\n",
       "      <td>NaN</td>\n",
       "      <td>昭和59年</td>\n",
       "      <td>ＳＲＣ</td>\n",
       "      <td>住宅</td>\n",
       "      <td>住宅</td>\n",
       "      <td>商業地域</td>\n",
       "      <td>未改装を購入</td>\n",
       "    </tr>\n",
       "    <tr>\n",
       "      <th>12</th>\n",
       "      <td>千代田区</td>\n",
       "      <td>飯田橋</td>\n",
       "      <td>飯田橋</td>\n",
       "      <td>２ＤＫ</td>\n",
       "      <td>昭和57年</td>\n",
       "      <td>ＳＲＣ</td>\n",
       "      <td>住宅</td>\n",
       "      <td>住宅</td>\n",
       "      <td>商業地域</td>\n",
       "      <td>改装済を購入</td>\n",
       "    </tr>\n",
       "    <tr>\n",
       "      <th>13</th>\n",
       "      <td>千代田区</td>\n",
       "      <td>飯田橋</td>\n",
       "      <td>飯田橋</td>\n",
       "      <td>１ＬＤＫ</td>\n",
       "      <td>平成19年</td>\n",
       "      <td>ＲＣ</td>\n",
       "      <td>住宅</td>\n",
       "      <td>住宅</td>\n",
       "      <td>商業地域</td>\n",
       "      <td>未改装を購入</td>\n",
       "    </tr>\n",
       "    <tr>\n",
       "      <th>14</th>\n",
       "      <td>千代田区</td>\n",
       "      <td>飯田橋</td>\n",
       "      <td>飯田橋</td>\n",
       "      <td>２ＬＤＫ</td>\n",
       "      <td>昭和59年</td>\n",
       "      <td>ＳＲＣ</td>\n",
       "      <td>住宅</td>\n",
       "      <td>住宅</td>\n",
       "      <td>商業地域</td>\n",
       "      <td>未改装を購入</td>\n",
       "    </tr>\n",
       "    <tr>\n",
       "      <th>16</th>\n",
       "      <td>千代田区</td>\n",
       "      <td>飯田橋</td>\n",
       "      <td>飯田橋</td>\n",
       "      <td>３ＬＤＫ</td>\n",
       "      <td>昭和59年</td>\n",
       "      <td>ＳＲＣ</td>\n",
       "      <td>住宅</td>\n",
       "      <td>住宅</td>\n",
       "      <td>商業地域</td>\n",
       "      <td>NaN</td>\n",
       "    </tr>\n",
       "  </tbody>\n",
       "</table>\n",
       "</div>"
      ],
      "text/plain": [
       "     shi chiku  eki madori kenchikunen kouzou youto mokuteki toshikeikaku  \\\n",
       "id                                                                          \n",
       "1   千代田区   飯田橋  飯田橋   ２ＬＤＫ       昭和59年    ＳＲＣ    住宅       住宅         商業地域   \n",
       "4   千代田区   飯田橋  飯田橋   ２ＬＤＫ       平成19年     ＲＣ    住宅       住宅         商業地域   \n",
       "5   千代田区   飯田橋  飯田橋     １Ｋ       昭和57年    ＳＲＣ    住宅      事務所         商業地域   \n",
       "6   千代田区   飯田橋  飯田橋   ３ＬＤＫ       平成19年     ＲＣ    住宅       住宅         商業地域   \n",
       "10  千代田区   飯田橋  飯田橋    １ＤＫ       平成11年    ＳＲＣ    住宅       住宅         商業地域   \n",
       "11  千代田区   飯田橋  飯田橋    NaN       昭和59年    ＳＲＣ    住宅       住宅         商業地域   \n",
       "12  千代田区   飯田橋  飯田橋    ２ＤＫ       昭和57年    ＳＲＣ    住宅       住宅         商業地域   \n",
       "13  千代田区   飯田橋  飯田橋   １ＬＤＫ       平成19年     ＲＣ    住宅       住宅         商業地域   \n",
       "14  千代田区   飯田橋  飯田橋   ２ＬＤＫ       昭和59年    ＳＲＣ    住宅       住宅         商業地域   \n",
       "16  千代田区   飯田橋  飯田橋   ３ＬＤＫ       昭和59年    ＳＲＣ    住宅       住宅         商業地域   \n",
       "\n",
       "     bikou  \n",
       "id          \n",
       "1   未改装を購入  \n",
       "4   未改装を購入  \n",
       "5   未改装を購入  \n",
       "6   未改装を購入  \n",
       "10  改装済を購入  \n",
       "11  未改装を購入  \n",
       "12  改装済を購入  \n",
       "13  未改装を購入  \n",
       "14  未改装を購入  \n",
       "16     NaN  "
      ]
     },
     "execution_count": 89,
     "metadata": {},
     "output_type": "execute_result"
    }
   ],
   "source": [
    "d[['shi','chiku','eki','madori','kenchikunen','kouzou','youto','mokuteki','toshikeikaku','bikou']].head(10)"
   ]
  },
  {
   "cell_type": "markdown",
   "metadata": {},
   "source": [
    "### Toshikeikaku\n",
    "Toshikeikaku (zoning) has 10 categories. https://en.wikipedia.org/wiki/Zoning#Japan\n",
    "\n",
    "It shows whether the area can be used for what types of building and the shape of the area."
   ]
  },
  {
   "cell_type": "code",
   "execution_count": 101,
   "metadata": {
    "collapsed": false
   },
   "outputs": [
    {
     "data": {
      "text/html": [
       "<div>\n",
       "<table border=\"1\" class=\"dataframe\">\n",
       "  <thead>\n",
       "    <tr style=\"text-align: right;\">\n",
       "      <th></th>\n",
       "      <th>toshikeikaku</th>\n",
       "      <th>count</th>\n",
       "    </tr>\n",
       "  </thead>\n",
       "  <tbody>\n",
       "    <tr>\n",
       "      <th>0</th>\n",
       "      <td>商業地域</td>\n",
       "      <td>41998</td>\n",
       "    </tr>\n",
       "    <tr>\n",
       "      <th>4</th>\n",
       "      <td>準工業地域</td>\n",
       "      <td>25024</td>\n",
       "    </tr>\n",
       "    <tr>\n",
       "      <th>6</th>\n",
       "      <td>第１種中高層住居専用地域</td>\n",
       "      <td>17447</td>\n",
       "    </tr>\n",
       "    <tr>\n",
       "      <th>12</th>\n",
       "      <td>近隣商業地域</td>\n",
       "      <td>17369</td>\n",
       "    </tr>\n",
       "    <tr>\n",
       "      <th>8</th>\n",
       "      <td>第１種住居地域</td>\n",
       "      <td>13511</td>\n",
       "    </tr>\n",
       "    <tr>\n",
       "      <th>11</th>\n",
       "      <td>第２種住居地域</td>\n",
       "      <td>4828</td>\n",
       "    </tr>\n",
       "    <tr>\n",
       "      <th>7</th>\n",
       "      <td>第１種低層住居専用地域</td>\n",
       "      <td>4738</td>\n",
       "    </tr>\n",
       "    <tr>\n",
       "      <th>9</th>\n",
       "      <td>第２種中高層住居専用地域</td>\n",
       "      <td>3302</td>\n",
       "    </tr>\n",
       "    <tr>\n",
       "      <th>3</th>\n",
       "      <td>準住居地域</td>\n",
       "      <td>2698</td>\n",
       "    </tr>\n",
       "    <tr>\n",
       "      <th>1</th>\n",
       "      <td>工業地域</td>\n",
       "      <td>2600</td>\n",
       "    </tr>\n",
       "    <tr>\n",
       "      <th>10</th>\n",
       "      <td>第２種低層住居専用地域</td>\n",
       "      <td>366</td>\n",
       "    </tr>\n",
       "    <tr>\n",
       "      <th>2</th>\n",
       "      <td>工業専用地域</td>\n",
       "      <td>36</td>\n",
       "    </tr>\n",
       "    <tr>\n",
       "      <th>5</th>\n",
       "      <td>準都市計画区域</td>\n",
       "      <td>1</td>\n",
       "    </tr>\n",
       "  </tbody>\n",
       "</table>\n",
       "</div>"
      ],
      "text/plain": [
       "    toshikeikaku  count\n",
       "0           商業地域  41998\n",
       "4          準工業地域  25024\n",
       "6   第１種中高層住居専用地域  17447\n",
       "12        近隣商業地域  17369\n",
       "8        第１種住居地域  13511\n",
       "11       第２種住居地域   4828\n",
       "7    第１種低層住居専用地域   4738\n",
       "9   第２種中高層住居専用地域   3302\n",
       "3          準住居地域   2698\n",
       "1           工業地域   2600\n",
       "10   第２種低層住居専用地域    366\n",
       "2         工業専用地域     36\n",
       "5        準都市計画区域      1"
      ]
     },
     "execution_count": 101,
     "metadata": {},
     "output_type": "execute_result"
    }
   ],
   "source": [
    "d.groupby('toshikeikaku')['eki'].count().reset_index(name='count').sort_values(['count'], ascending=False)"
   ]
  },
  {
   "cell_type": "code",
   "execution_count": 112,
   "metadata": {
    "collapsed": false
   },
   "outputs": [
    {
     "data": {
      "text/plain": [
       "array([[ 1.,  0.,  0.,  1.,  0.,  0.,  0.,  0.,  1.]])"
      ]
     },
     "execution_count": 112,
     "metadata": {},
     "output_type": "execute_result"
    }
   ],
   "source": [
    "from sklearn.preprocessing import LabelEncoder\n",
    "le = LabelEncoder()\n",
    "le.fit(['a','b','c','d','a'])\n",
    "le.classes_\n",
    "le.transform(['b','b'])\n",
    "from sklearn.preprocessing import OneHotEncoder\n",
    "enc = OneHotEncoder()\n",
    "enc.fit([[0, 0, 3], [1, 1, 0], [0, 2, 1], [1, 0, 2]]) \n",
    "enc.transform([[0, 1, 3]]).toarray()\n"
   ]
  },
  {
   "cell_type": "code",
   "execution_count": 80,
   "metadata": {
    "collapsed": false
   },
   "outputs": [],
   "source": [
    "#print(d.groupby('madori')['torihiki_jiten'].count())\n",
    "# d['bedrooms']\n",
    "x=d.madori[:10].values\n",
    "\"\"\"\n",
    "オープンフロア      272\n",
    "スタジオ          62\n",
    "メゾネット          8\n",
    "\"\"\"\n",
    "#print(x[5])\n",
    "#print(isinstance(x[5], str))\n",
    "# [map(int, v[0]) for v in x]\n",
    "#print(int(x[5][0]))\n",
    "def numberOfRooms(madori):\n",
    "    try:\n",
    "        return int(madori[0])\n",
    "    except TypeError:\n",
    "        return 0\n",
    "    except ValueError:\n",
    "        return 0\n",
    "numrooms = []\n",
    "for x in d.madori:\n",
    "    numrooms.append(numberOfRooms(x))\n",
    "d['bedrooms'] = numrooms\n",
    "# numberOfRooms(x[:10])\n",
    "#d['bedrooms'] = [map(numberOfRooms, x) for x in d.madori]\n",
    "#[map(numberOfRooms, x) for x in d.madori[:10].values]"
   ]
  },
  {
   "cell_type": "code",
   "execution_count": 86,
   "metadata": {
    "collapsed": false
   },
   "outputs": [
    {
     "data": {
      "text/html": [
       "<div>\n",
       "<table border=\"1\" class=\"dataframe\">\n",
       "  <thead>\n",
       "    <tr style=\"text-align: right;\">\n",
       "      <th></th>\n",
       "      <th>madori</th>\n",
       "      <th>bedrooms</th>\n",
       "    </tr>\n",
       "    <tr>\n",
       "      <th>id</th>\n",
       "      <th></th>\n",
       "      <th></th>\n",
       "    </tr>\n",
       "  </thead>\n",
       "  <tbody>\n",
       "    <tr>\n",
       "      <th>1</th>\n",
       "      <td>２ＬＤＫ</td>\n",
       "      <td>2</td>\n",
       "    </tr>\n",
       "    <tr>\n",
       "      <th>4</th>\n",
       "      <td>２ＬＤＫ</td>\n",
       "      <td>2</td>\n",
       "    </tr>\n",
       "    <tr>\n",
       "      <th>5</th>\n",
       "      <td>１Ｋ</td>\n",
       "      <td>1</td>\n",
       "    </tr>\n",
       "    <tr>\n",
       "      <th>6</th>\n",
       "      <td>３ＬＤＫ</td>\n",
       "      <td>3</td>\n",
       "    </tr>\n",
       "    <tr>\n",
       "      <th>10</th>\n",
       "      <td>１ＤＫ</td>\n",
       "      <td>1</td>\n",
       "    </tr>\n",
       "    <tr>\n",
       "      <th>11</th>\n",
       "      <td>NaN</td>\n",
       "      <td>0</td>\n",
       "    </tr>\n",
       "    <tr>\n",
       "      <th>12</th>\n",
       "      <td>２ＤＫ</td>\n",
       "      <td>2</td>\n",
       "    </tr>\n",
       "    <tr>\n",
       "      <th>13</th>\n",
       "      <td>１ＬＤＫ</td>\n",
       "      <td>1</td>\n",
       "    </tr>\n",
       "    <tr>\n",
       "      <th>14</th>\n",
       "      <td>２ＬＤＫ</td>\n",
       "      <td>2</td>\n",
       "    </tr>\n",
       "    <tr>\n",
       "      <th>16</th>\n",
       "      <td>３ＬＤＫ</td>\n",
       "      <td>3</td>\n",
       "    </tr>\n",
       "  </tbody>\n",
       "</table>\n",
       "</div>"
      ],
      "text/plain": [
       "   madori  bedrooms\n",
       "id                 \n",
       "1    ２ＬＤＫ         2\n",
       "4    ２ＬＤＫ         2\n",
       "5      １Ｋ         1\n",
       "6    ３ＬＤＫ         3\n",
       "10    １ＤＫ         1\n",
       "11    NaN         0\n",
       "12    ２ＤＫ         2\n",
       "13   １ＬＤＫ         1\n",
       "14   ２ＬＤＫ         2\n",
       "16   ３ＬＤＫ         3"
      ]
     },
     "execution_count": 86,
     "metadata": {},
     "output_type": "execute_result"
    }
   ],
   "source": [
    "d[['madori','bedrooms']].head(10)"
   ]
  },
  {
   "cell_type": "code",
   "execution_count": 23,
   "metadata": {
    "collapsed": true,
    "deletable": true,
    "editable": true
   },
   "outputs": [],
   "source": [
    "import pickle\n",
    "pickle.dump(d, open('tokyo_apartment.p', 'wb'))\n",
    "pickle.dump(d_comp, open('tokyo_apartment_comp.p', 'wb'))\n",
    "pickle.dump(train, open('tokyo_apartment_train.p', 'wb'))\n",
    "pickle.dump(validation, open('tokyo_apartment_validation.p', 'wb'))\n",
    "pickle.dump(test, open('tokyo_apartment_test.p', 'wb'))\n"
   ]
  },
  {
   "cell_type": "code",
   "execution_count": 24,
   "metadata": {
    "collapsed": false,
    "deletable": true,
    "editable": true
   },
   "outputs": [],
   "source": [
    "d = pickle.load(open('tokyo_apartment.p', 'rb'))\n",
    "d_comp = pickle.load(open('tokyo_apartment_comp.p', 'rb'))\n",
    "train = pickle.load(open('tokyo_apartment_train.p', 'rb'))\n",
    "validation = pickle.load(open('tokyo_apartment_validation.p', 'rb'))\n",
    "test = pickle.load(open('tokyo_apartment_test.p', 'rb'))"
   ]
  },
  {
   "cell_type": "markdown",
   "metadata": {
    "deletable": true,
    "editable": true
   },
   "source": [
    "## Visualise the data set\n",
    "First, we visualise the training data set. This is to understand which factors are correlated with the price in what way, and to understand the distribution of the price and variables, which will help us decide whether we need to transform the variables."
   ]
  },
  {
   "cell_type": "code",
   "execution_count": 25,
   "metadata": {
    "collapsed": false,
    "deletable": true,
    "editable": true
   },
   "outputs": [
    {
     "data": {
      "text/plain": [
       "<matplotlib.text.Text at 0x110b8ebe0>"
      ]
     },
     "execution_count": 25,
     "metadata": {},
     "output_type": "execute_result"
    },
    {
     "data": {
      "image/png": "[encoded data removed]",
      "text/plain": [
       "<matplotlib.figure.Figure at 0x110dee7f0>"
      ]
     },
     "metadata": {},
     "output_type": "display_data"
    }
   ],
   "source": [
    "%matplotlib inline\n",
    "import matplotlib as plt\n",
    "import seaborn as sns\n",
    "sns.set(color_codes=True)\n",
    "sns.distplot(train.menseki, kde=False, rug=False)\n",
    "sns.plt.title('The variation of menseki in Training data set')\n",
    "sns.distplot(validation.menseki, kde=False, rug=False)\n",
    "sns.plt.title('The variation of menseki in Validation data set')\n",
    "sns.distplot(test.menseki, kde=False, rug=False)\n",
    "sns.plt.title('The variation of menseki in Test data set')"
   ]
  },
  {
   "cell_type": "markdown",
   "metadata": {
    "deletable": true,
    "editable": true
   },
   "source": [
    "We can observe a few outliers but menseki ranges between 0 and 400. We can check the min and maximum from tables below. The maximum is 450."
   ]
  },
  {
   "cell_type": "code",
   "execution_count": 26,
   "metadata": {
    "collapsed": false,
    "deletable": true,
    "editable": true
   },
   "outputs": [
    {
     "name": "stdout",
     "output_type": "stream",
     "text": [
      "====training=====\n"
     ]
    },
    {
     "data": {
      "text/html": [
       "<div>\n",
       "<table border=\"1\" class=\"dataframe\">\n",
       "  <thead>\n",
       "    <tr style=\"text-align: right;\">\n",
       "      <th></th>\n",
       "      <th>ekikyori</th>\n",
       "      <th>price</th>\n",
       "      <th>menseki</th>\n",
       "      <th>kenpeiritsu</th>\n",
       "      <th>yousekiritsu</th>\n",
       "      <th>is_reformed</th>\n",
       "      <th>is_not_reformed</th>\n",
       "      <th>is_auction</th>\n",
       "      <th>is_direct_transaction</th>\n",
       "      <th>kenchiku_year</th>\n",
       "      <th>transaction_year</th>\n",
       "      <th>age</th>\n",
       "      <th>price_log10</th>\n",
       "    </tr>\n",
       "  </thead>\n",
       "  <tbody>\n",
       "    <tr>\n",
       "      <th>count</th>\n",
       "      <td>11479.000000</td>\n",
       "      <td>1.147900e+04</td>\n",
       "      <td>11479.000000</td>\n",
       "      <td>11479.000000</td>\n",
       "      <td>11479.000000</td>\n",
       "      <td>11479.000000</td>\n",
       "      <td>11479.000000</td>\n",
       "      <td>11479.000000</td>\n",
       "      <td>11479.000000</td>\n",
       "      <td>11479.00000</td>\n",
       "      <td>11479.000000</td>\n",
       "      <td>11479.000000</td>\n",
       "      <td>11479.000000</td>\n",
       "    </tr>\n",
       "    <tr>\n",
       "      <th>mean</th>\n",
       "      <td>7.874815</td>\n",
       "      <td>3.363435e+07</td>\n",
       "      <td>48.990330</td>\n",
       "      <td>0.685129</td>\n",
       "      <td>3.482821</td>\n",
       "      <td>0.267009</td>\n",
       "      <td>0.728809</td>\n",
       "      <td>0.012196</td>\n",
       "      <td>0.001133</td>\n",
       "      <td>1997.43462</td>\n",
       "      <td>2015.256381</td>\n",
       "      <td>17.822023</td>\n",
       "      <td>7.424246</td>\n",
       "    </tr>\n",
       "    <tr>\n",
       "      <th>std</th>\n",
       "      <td>6.664992</td>\n",
       "      <td>4.343275e+07</td>\n",
       "      <td>24.331537</td>\n",
       "      <td>0.106772</td>\n",
       "      <td>1.530995</td>\n",
       "      <td>0.442417</td>\n",
       "      <td>0.444594</td>\n",
       "      <td>0.109766</td>\n",
       "      <td>0.033635</td>\n",
       "      <td>11.99035</td>\n",
       "      <td>0.436654</td>\n",
       "      <td>11.992205</td>\n",
       "      <td>0.294734</td>\n",
       "    </tr>\n",
       "    <tr>\n",
       "      <th>min</th>\n",
       "      <td>0.000000</td>\n",
       "      <td>2.400000e+05</td>\n",
       "      <td>10.000000</td>\n",
       "      <td>0.300000</td>\n",
       "      <td>0.600000</td>\n",
       "      <td>0.000000</td>\n",
       "      <td>0.000000</td>\n",
       "      <td>0.000000</td>\n",
       "      <td>0.000000</td>\n",
       "      <td>1945.00000</td>\n",
       "      <td>2015.000000</td>\n",
       "      <td>0.000000</td>\n",
       "      <td>5.380211</td>\n",
       "    </tr>\n",
       "    <tr>\n",
       "      <th>25%</th>\n",
       "      <td>4.000000</td>\n",
       "      <td>1.800000e+07</td>\n",
       "      <td>25.000000</td>\n",
       "      <td>0.600000</td>\n",
       "      <td>2.000000</td>\n",
       "      <td>0.000000</td>\n",
       "      <td>0.000000</td>\n",
       "      <td>0.000000</td>\n",
       "      <td>0.000000</td>\n",
       "      <td>1989.00000</td>\n",
       "      <td>2015.000000</td>\n",
       "      <td>9.000000</td>\n",
       "      <td>7.255273</td>\n",
       "    </tr>\n",
       "    <tr>\n",
       "      <th>50%</th>\n",
       "      <td>7.000000</td>\n",
       "      <td>2.700000e+07</td>\n",
       "      <td>50.000000</td>\n",
       "      <td>0.600000</td>\n",
       "      <td>3.000000</td>\n",
       "      <td>0.000000</td>\n",
       "      <td>1.000000</td>\n",
       "      <td>0.000000</td>\n",
       "      <td>0.000000</td>\n",
       "      <td>2000.00000</td>\n",
       "      <td>2015.000000</td>\n",
       "      <td>15.000000</td>\n",
       "      <td>7.431364</td>\n",
       "    </tr>\n",
       "    <tr>\n",
       "      <th>75%</th>\n",
       "      <td>10.000000</td>\n",
       "      <td>4.000000e+07</td>\n",
       "      <td>65.000000</td>\n",
       "      <td>0.800000</td>\n",
       "      <td>5.000000</td>\n",
       "      <td>1.000000</td>\n",
       "      <td>1.000000</td>\n",
       "      <td>0.000000</td>\n",
       "      <td>0.000000</td>\n",
       "      <td>2006.00000</td>\n",
       "      <td>2016.000000</td>\n",
       "      <td>26.000000</td>\n",
       "      <td>7.602060</td>\n",
       "    </tr>\n",
       "    <tr>\n",
       "      <th>max</th>\n",
       "      <td>120.000000</td>\n",
       "      <td>3.200000e+09</td>\n",
       "      <td>250.000000</td>\n",
       "      <td>0.800000</td>\n",
       "      <td>9.000000</td>\n",
       "      <td>1.000000</td>\n",
       "      <td>1.000000</td>\n",
       "      <td>1.000000</td>\n",
       "      <td>1.000000</td>\n",
       "      <td>2016.00000</td>\n",
       "      <td>2016.000000</td>\n",
       "      <td>70.000000</td>\n",
       "      <td>9.505150</td>\n",
       "    </tr>\n",
       "  </tbody>\n",
       "</table>\n",
       "</div>"
      ],
      "text/plain": [
       "           ekikyori         price       menseki   kenpeiritsu  yousekiritsu  \\\n",
       "count  11479.000000  1.147900e+04  11479.000000  11479.000000  11479.000000   \n",
       "mean       7.874815  3.363435e+07     48.990330      0.685129      3.482821   \n",
       "std        6.664992  4.343275e+07     24.331537      0.106772      1.530995   \n",
       "min        0.000000  2.400000e+05     10.000000      0.300000      0.600000   \n",
       "25%        4.000000  1.800000e+07     25.000000      0.600000      2.000000   \n",
       "50%        7.000000  2.700000e+07     50.000000      0.600000      3.000000   \n",
       "75%       10.000000  4.000000e+07     65.000000      0.800000      5.000000   \n",
       "max      120.000000  3.200000e+09    250.000000      0.800000      9.000000   \n",
       "\n",
       "        is_reformed  is_not_reformed    is_auction  is_direct_transaction  \\\n",
       "count  11479.000000     11479.000000  11479.000000           11479.000000   \n",
       "mean       0.267009         0.728809      0.012196               0.001133   \n",
       "std        0.442417         0.444594      0.109766               0.033635   \n",
       "min        0.000000         0.000000      0.000000               0.000000   \n",
       "25%        0.000000         0.000000      0.000000               0.000000   \n",
       "50%        0.000000         1.000000      0.000000               0.000000   \n",
       "75%        1.000000         1.000000      0.000000               0.000000   \n",
       "max        1.000000         1.000000      1.000000               1.000000   \n",
       "\n",
       "       kenchiku_year  transaction_year           age   price_log10  \n",
       "count    11479.00000      11479.000000  11479.000000  11479.000000  \n",
       "mean      1997.43462       2015.256381     17.822023      7.424246  \n",
       "std         11.99035          0.436654     11.992205      0.294734  \n",
       "min       1945.00000       2015.000000      0.000000      5.380211  \n",
       "25%       1989.00000       2015.000000      9.000000      7.255273  \n",
       "50%       2000.00000       2015.000000     15.000000      7.431364  \n",
       "75%       2006.00000       2016.000000     26.000000      7.602060  \n",
       "max       2016.00000       2016.000000     70.000000      9.505150  "
      ]
     },
     "execution_count": 26,
     "metadata": {},
     "output_type": "execute_result"
    }
   ],
   "source": [
    "print('====training=====')\n",
    "train.describe()\n"
   ]
  },
  {
   "cell_type": "code",
   "execution_count": 27,
   "metadata": {
    "collapsed": false,
    "deletable": true,
    "editable": true
   },
   "outputs": [
    {
     "name": "stdout",
     "output_type": "stream",
     "text": [
      "====validation=====\n"
     ]
    },
    {
     "data": {
      "text/html": [
       "<div>\n",
       "<table border=\"1\" class=\"dataframe\">\n",
       "  <thead>\n",
       "    <tr style=\"text-align: right;\">\n",
       "      <th></th>\n",
       "      <th>ekikyori</th>\n",
       "      <th>price</th>\n",
       "      <th>menseki</th>\n",
       "      <th>kenpeiritsu</th>\n",
       "      <th>yousekiritsu</th>\n",
       "      <th>is_reformed</th>\n",
       "      <th>is_not_reformed</th>\n",
       "      <th>is_auction</th>\n",
       "      <th>is_direct_transaction</th>\n",
       "      <th>kenchiku_year</th>\n",
       "      <th>transaction_year</th>\n",
       "      <th>age</th>\n",
       "      <th>price_log10</th>\n",
       "    </tr>\n",
       "  </thead>\n",
       "  <tbody>\n",
       "    <tr>\n",
       "      <th>count</th>\n",
       "      <td>2895.00000</td>\n",
       "      <td>2.895000e+03</td>\n",
       "      <td>2895.000000</td>\n",
       "      <td>2895.000000</td>\n",
       "      <td>2895.000000</td>\n",
       "      <td>2895.000000</td>\n",
       "      <td>2895.000000</td>\n",
       "      <td>2895.000000</td>\n",
       "      <td>2895.000000</td>\n",
       "      <td>2895.000000</td>\n",
       "      <td>2895.0</td>\n",
       "      <td>2895.000000</td>\n",
       "      <td>2895.000000</td>\n",
       "    </tr>\n",
       "    <tr>\n",
       "      <th>mean</th>\n",
       "      <td>7.66563</td>\n",
       "      <td>3.332950e+07</td>\n",
       "      <td>47.756477</td>\n",
       "      <td>0.687427</td>\n",
       "      <td>3.523765</td>\n",
       "      <td>0.249741</td>\n",
       "      <td>0.749914</td>\n",
       "      <td>0.007945</td>\n",
       "      <td>0.001727</td>\n",
       "      <td>1997.783074</td>\n",
       "      <td>2016.0</td>\n",
       "      <td>18.216926</td>\n",
       "      <td>7.427311</td>\n",
       "    </tr>\n",
       "    <tr>\n",
       "      <th>std</th>\n",
       "      <td>6.39795</td>\n",
       "      <td>2.920084e+07</td>\n",
       "      <td>25.557727</td>\n",
       "      <td>0.105092</td>\n",
       "      <td>1.524028</td>\n",
       "      <td>0.432938</td>\n",
       "      <td>0.433137</td>\n",
       "      <td>0.088794</td>\n",
       "      <td>0.041530</td>\n",
       "      <td>12.189329</td>\n",
       "      <td>0.0</td>\n",
       "      <td>12.189329</td>\n",
       "      <td>0.290353</td>\n",
       "    </tr>\n",
       "    <tr>\n",
       "      <th>min</th>\n",
       "      <td>0.00000</td>\n",
       "      <td>1.000000e+06</td>\n",
       "      <td>10.000000</td>\n",
       "      <td>0.300000</td>\n",
       "      <td>0.600000</td>\n",
       "      <td>0.000000</td>\n",
       "      <td>0.000000</td>\n",
       "      <td>0.000000</td>\n",
       "      <td>0.000000</td>\n",
       "      <td>1963.000000</td>\n",
       "      <td>2016.0</td>\n",
       "      <td>0.000000</td>\n",
       "      <td>6.000000</td>\n",
       "    </tr>\n",
       "    <tr>\n",
       "      <th>25%</th>\n",
       "      <td>4.00000</td>\n",
       "      <td>1.900000e+07</td>\n",
       "      <td>25.000000</td>\n",
       "      <td>0.600000</td>\n",
       "      <td>2.000000</td>\n",
       "      <td>0.000000</td>\n",
       "      <td>0.500000</td>\n",
       "      <td>0.000000</td>\n",
       "      <td>0.000000</td>\n",
       "      <td>1989.000000</td>\n",
       "      <td>2016.0</td>\n",
       "      <td>9.000000</td>\n",
       "      <td>7.278754</td>\n",
       "    </tr>\n",
       "    <tr>\n",
       "      <th>50%</th>\n",
       "      <td>6.00000</td>\n",
       "      <td>2.700000e+07</td>\n",
       "      <td>50.000000</td>\n",
       "      <td>0.600000</td>\n",
       "      <td>3.000000</td>\n",
       "      <td>0.000000</td>\n",
       "      <td>1.000000</td>\n",
       "      <td>0.000000</td>\n",
       "      <td>0.000000</td>\n",
       "      <td>2001.000000</td>\n",
       "      <td>2016.0</td>\n",
       "      <td>15.000000</td>\n",
       "      <td>7.431364</td>\n",
       "    </tr>\n",
       "    <tr>\n",
       "      <th>75%</th>\n",
       "      <td>10.00000</td>\n",
       "      <td>4.100000e+07</td>\n",
       "      <td>65.000000</td>\n",
       "      <td>0.800000</td>\n",
       "      <td>5.000000</td>\n",
       "      <td>0.000000</td>\n",
       "      <td>1.000000</td>\n",
       "      <td>0.000000</td>\n",
       "      <td>0.000000</td>\n",
       "      <td>2007.000000</td>\n",
       "      <td>2016.0</td>\n",
       "      <td>27.000000</td>\n",
       "      <td>7.612784</td>\n",
       "    </tr>\n",
       "    <tr>\n",
       "      <th>max</th>\n",
       "      <td>60.00000</td>\n",
       "      <td>7.500000e+08</td>\n",
       "      <td>450.000000</td>\n",
       "      <td>0.800000</td>\n",
       "      <td>9.000000</td>\n",
       "      <td>1.000000</td>\n",
       "      <td>1.000000</td>\n",
       "      <td>1.000000</td>\n",
       "      <td>1.000000</td>\n",
       "      <td>2016.000000</td>\n",
       "      <td>2016.0</td>\n",
       "      <td>53.000000</td>\n",
       "      <td>8.875061</td>\n",
       "    </tr>\n",
       "  </tbody>\n",
       "</table>\n",
       "</div>"
      ],
      "text/plain": [
       "         ekikyori         price      menseki  kenpeiritsu  yousekiritsu  \\\n",
       "count  2895.00000  2.895000e+03  2895.000000  2895.000000   2895.000000   \n",
       "mean      7.66563  3.332950e+07    47.756477     0.687427      3.523765   \n",
       "std       6.39795  2.920084e+07    25.557727     0.105092      1.524028   \n",
       "min       0.00000  1.000000e+06    10.000000     0.300000      0.600000   \n",
       "25%       4.00000  1.900000e+07    25.000000     0.600000      2.000000   \n",
       "50%       6.00000  2.700000e+07    50.000000     0.600000      3.000000   \n",
       "75%      10.00000  4.100000e+07    65.000000     0.800000      5.000000   \n",
       "max      60.00000  7.500000e+08   450.000000     0.800000      9.000000   \n",
       "\n",
       "       is_reformed  is_not_reformed   is_auction  is_direct_transaction  \\\n",
       "count  2895.000000      2895.000000  2895.000000            2895.000000   \n",
       "mean      0.249741         0.749914     0.007945               0.001727   \n",
       "std       0.432938         0.433137     0.088794               0.041530   \n",
       "min       0.000000         0.000000     0.000000               0.000000   \n",
       "25%       0.000000         0.500000     0.000000               0.000000   \n",
       "50%       0.000000         1.000000     0.000000               0.000000   \n",
       "75%       0.000000         1.000000     0.000000               0.000000   \n",
       "max       1.000000         1.000000     1.000000               1.000000   \n",
       "\n",
       "       kenchiku_year  transaction_year          age  price_log10  \n",
       "count    2895.000000            2895.0  2895.000000  2895.000000  \n",
       "mean     1997.783074            2016.0    18.216926     7.427311  \n",
       "std        12.189329               0.0    12.189329     0.290353  \n",
       "min      1963.000000            2016.0     0.000000     6.000000  \n",
       "25%      1989.000000            2016.0     9.000000     7.278754  \n",
       "50%      2001.000000            2016.0    15.000000     7.431364  \n",
       "75%      2007.000000            2016.0    27.000000     7.612784  \n",
       "max      2016.000000            2016.0    53.000000     8.875061  "
      ]
     },
     "execution_count": 27,
     "metadata": {},
     "output_type": "execute_result"
    }
   ],
   "source": [
    "print('====validation=====')\n",
    "validation.describe()\n"
   ]
  },
  {
   "cell_type": "code",
   "execution_count": 28,
   "metadata": {
    "collapsed": false,
    "deletable": true,
    "editable": true
   },
   "outputs": [
    {
     "name": "stdout",
     "output_type": "stream",
     "text": [
      "====testing=====\n"
     ]
    },
    {
     "data": {
      "text/html": [
       "<div>\n",
       "<table border=\"1\" class=\"dataframe\">\n",
       "  <thead>\n",
       "    <tr style=\"text-align: right;\">\n",
       "      <th></th>\n",
       "      <th>ekikyori</th>\n",
       "      <th>price</th>\n",
       "      <th>menseki</th>\n",
       "      <th>kenpeiritsu</th>\n",
       "      <th>yousekiritsu</th>\n",
       "      <th>is_reformed</th>\n",
       "      <th>is_not_reformed</th>\n",
       "      <th>is_auction</th>\n",
       "      <th>is_direct_transaction</th>\n",
       "      <th>kenchiku_year</th>\n",
       "      <th>transaction_year</th>\n",
       "      <th>age</th>\n",
       "      <th>price_log10</th>\n",
       "    </tr>\n",
       "  </thead>\n",
       "  <tbody>\n",
       "    <tr>\n",
       "      <th>count</th>\n",
       "      <td>1880.000000</td>\n",
       "      <td>1.880000e+03</td>\n",
       "      <td>1880.000000</td>\n",
       "      <td>1880.000000</td>\n",
       "      <td>1880.000000</td>\n",
       "      <td>1880.000000</td>\n",
       "      <td>1880.000000</td>\n",
       "      <td>1880.000000</td>\n",
       "      <td>1880.000000</td>\n",
       "      <td>1880.000000</td>\n",
       "      <td>1880.0</td>\n",
       "      <td>1880.000000</td>\n",
       "      <td>1880.000000</td>\n",
       "    </tr>\n",
       "    <tr>\n",
       "      <th>mean</th>\n",
       "      <td>7.515426</td>\n",
       "      <td>3.398229e+07</td>\n",
       "      <td>47.656915</td>\n",
       "      <td>0.686968</td>\n",
       "      <td>3.539894</td>\n",
       "      <td>0.269681</td>\n",
       "      <td>0.729787</td>\n",
       "      <td>0.012766</td>\n",
       "      <td>0.001064</td>\n",
       "      <td>1997.857979</td>\n",
       "      <td>2016.0</td>\n",
       "      <td>18.142021</td>\n",
       "      <td>7.441917</td>\n",
       "    </tr>\n",
       "    <tr>\n",
       "      <th>std</th>\n",
       "      <td>6.107323</td>\n",
       "      <td>2.466596e+07</td>\n",
       "      <td>23.976702</td>\n",
       "      <td>0.106146</td>\n",
       "      <td>1.553397</td>\n",
       "      <td>0.443912</td>\n",
       "      <td>0.444188</td>\n",
       "      <td>0.112293</td>\n",
       "      <td>0.032608</td>\n",
       "      <td>12.007783</td>\n",
       "      <td>0.0</td>\n",
       "      <td>12.007783</td>\n",
       "      <td>0.285177</td>\n",
       "    </tr>\n",
       "    <tr>\n",
       "      <th>min</th>\n",
       "      <td>0.000000</td>\n",
       "      <td>1.000000e+06</td>\n",
       "      <td>10.000000</td>\n",
       "      <td>0.400000</td>\n",
       "      <td>0.800000</td>\n",
       "      <td>0.000000</td>\n",
       "      <td>0.000000</td>\n",
       "      <td>0.000000</td>\n",
       "      <td>0.000000</td>\n",
       "      <td>1950.000000</td>\n",
       "      <td>2016.0</td>\n",
       "      <td>0.000000</td>\n",
       "      <td>6.000000</td>\n",
       "    </tr>\n",
       "    <tr>\n",
       "      <th>25%</th>\n",
       "      <td>4.000000</td>\n",
       "      <td>1.900000e+07</td>\n",
       "      <td>25.000000</td>\n",
       "      <td>0.600000</td>\n",
       "      <td>2.000000</td>\n",
       "      <td>0.000000</td>\n",
       "      <td>0.000000</td>\n",
       "      <td>0.000000</td>\n",
       "      <td>0.000000</td>\n",
       "      <td>1990.000000</td>\n",
       "      <td>2016.0</td>\n",
       "      <td>9.000000</td>\n",
       "      <td>7.278754</td>\n",
       "    </tr>\n",
       "    <tr>\n",
       "      <th>50%</th>\n",
       "      <td>6.000000</td>\n",
       "      <td>2.800000e+07</td>\n",
       "      <td>50.000000</td>\n",
       "      <td>0.600000</td>\n",
       "      <td>3.000000</td>\n",
       "      <td>0.000000</td>\n",
       "      <td>1.000000</td>\n",
       "      <td>0.000000</td>\n",
       "      <td>0.000000</td>\n",
       "      <td>2001.000000</td>\n",
       "      <td>2016.0</td>\n",
       "      <td>15.000000</td>\n",
       "      <td>7.447158</td>\n",
       "    </tr>\n",
       "    <tr>\n",
       "      <th>75%</th>\n",
       "      <td>9.000000</td>\n",
       "      <td>4.200000e+07</td>\n",
       "      <td>65.000000</td>\n",
       "      <td>0.800000</td>\n",
       "      <td>5.000000</td>\n",
       "      <td>1.000000</td>\n",
       "      <td>1.000000</td>\n",
       "      <td>0.000000</td>\n",
       "      <td>0.000000</td>\n",
       "      <td>2007.000000</td>\n",
       "      <td>2016.0</td>\n",
       "      <td>26.000000</td>\n",
       "      <td>7.623249</td>\n",
       "    </tr>\n",
       "    <tr>\n",
       "      <th>max</th>\n",
       "      <td>60.000000</td>\n",
       "      <td>3.300000e+08</td>\n",
       "      <td>200.000000</td>\n",
       "      <td>0.800000</td>\n",
       "      <td>9.000000</td>\n",
       "      <td>1.000000</td>\n",
       "      <td>1.000000</td>\n",
       "      <td>1.000000</td>\n",
       "      <td>1.000000</td>\n",
       "      <td>2016.000000</td>\n",
       "      <td>2016.0</td>\n",
       "      <td>66.000000</td>\n",
       "      <td>8.518514</td>\n",
       "    </tr>\n",
       "  </tbody>\n",
       "</table>\n",
       "</div>"
      ],
      "text/plain": [
       "          ekikyori         price      menseki  kenpeiritsu  yousekiritsu  \\\n",
       "count  1880.000000  1.880000e+03  1880.000000  1880.000000   1880.000000   \n",
       "mean      7.515426  3.398229e+07    47.656915     0.686968      3.539894   \n",
       "std       6.107323  2.466596e+07    23.976702     0.106146      1.553397   \n",
       "min       0.000000  1.000000e+06    10.000000     0.400000      0.800000   \n",
       "25%       4.000000  1.900000e+07    25.000000     0.600000      2.000000   \n",
       "50%       6.000000  2.800000e+07    50.000000     0.600000      3.000000   \n",
       "75%       9.000000  4.200000e+07    65.000000     0.800000      5.000000   \n",
       "max      60.000000  3.300000e+08   200.000000     0.800000      9.000000   \n",
       "\n",
       "       is_reformed  is_not_reformed   is_auction  is_direct_transaction  \\\n",
       "count  1880.000000      1880.000000  1880.000000            1880.000000   \n",
       "mean      0.269681         0.729787     0.012766               0.001064   \n",
       "std       0.443912         0.444188     0.112293               0.032608   \n",
       "min       0.000000         0.000000     0.000000               0.000000   \n",
       "25%       0.000000         0.000000     0.000000               0.000000   \n",
       "50%       0.000000         1.000000     0.000000               0.000000   \n",
       "75%       1.000000         1.000000     0.000000               0.000000   \n",
       "max       1.000000         1.000000     1.000000               1.000000   \n",
       "\n",
       "       kenchiku_year  transaction_year          age  price_log10  \n",
       "count    1880.000000            1880.0  1880.000000  1880.000000  \n",
       "mean     1997.857979            2016.0    18.142021     7.441917  \n",
       "std        12.007783               0.0    12.007783     0.285177  \n",
       "min      1950.000000            2016.0     0.000000     6.000000  \n",
       "25%      1990.000000            2016.0     9.000000     7.278754  \n",
       "50%      2001.000000            2016.0    15.000000     7.447158  \n",
       "75%      2007.000000            2016.0    26.000000     7.623249  \n",
       "max      2016.000000            2016.0    66.000000     8.518514  "
      ]
     },
     "execution_count": 28,
     "metadata": {},
     "output_type": "execute_result"
    }
   ],
   "source": [
    "print('====testing=====')\n",
    "test.describe()"
   ]
  },
  {
   "cell_type": "code",
   "execution_count": 29,
   "metadata": {
    "collapsed": false,
    "deletable": true,
    "editable": true
   },
   "outputs": [
    {
     "data": {
      "text/plain": [
       "jiscode                  0\n",
       "shi                      0\n",
       "chiku                    0\n",
       "eki                      0\n",
       "ekikyori                 0\n",
       "price                    0\n",
       "madori                   0\n",
       "menseki                  0\n",
       "kenchikunen              0\n",
       "kouzou                   0\n",
       "youto                    0\n",
       "mokuteki                 0\n",
       "toshikeikaku             0\n",
       "kenpeiritsu              0\n",
       "yousekiritsu             0\n",
       "torihiki_jiten           0\n",
       "bikou                    0\n",
       "is_reformed              0\n",
       "is_not_reformed          0\n",
       "is_auction               0\n",
       "is_direct_transaction    0\n",
       "kenchiku_year            0\n",
       "transaction_year         0\n",
       "age                      0\n",
       "price_log10              0\n",
       "dtype: int64"
      ]
     },
     "execution_count": 29,
     "metadata": {},
     "output_type": "execute_result"
    }
   ],
   "source": [
    "train.isnull().sum()"
   ]
  },
  {
   "cell_type": "markdown",
   "metadata": {
    "deletable": true,
    "editable": true
   },
   "source": [
    "# The distribution of Price and its correlation with other variables\n",
    "The histogram of apartment price is concentrated to the left and is skewed to the right. It appears we have some outliers in the training data set."
   ]
  },
  {
   "cell_type": "code",
   "execution_count": 30,
   "metadata": {
    "collapsed": false,
    "deletable": true,
    "editable": true
   },
   "outputs": [
    {
     "data": {
      "text/plain": [
       "<matplotlib.text.Text at 0x1120c7080>"
      ]
     },
     "execution_count": 30,
     "metadata": {},
     "output_type": "execute_result"
    },
    {
     "data": {
      "image/png": "[encoded data removed]",
      "text/plain": [
       "<matplotlib.figure.Figure at 0x1115adb00>"
      ]
     },
     "metadata": {},
     "output_type": "display_data"
    }
   ],
   "source": [
    "sns.distplot(train.price, kde=False, rug=False)\n",
    "sns.plt.title('The variation of Price in Training data set')"
   ]
  },
  {
   "cell_type": "code",
   "execution_count": 32,
   "metadata": {
    "collapsed": false,
    "deletable": true,
    "editable": true
   },
   "outputs": [
    {
     "data": {
      "text/plain": [
       "<matplotlib.text.Text at 0x10e6a5ac8>"
      ]
     },
     "execution_count": 32,
     "metadata": {},
     "output_type": "execute_result"
    },
    {
     "data": {
      "image/png": "[encoded data removed]",
      "text/plain": [
       "<matplotlib.figure.Figure at 0x1115adb38>"
      ]
     },
     "metadata": {},
     "output_type": "display_data"
    }
   ],
   "source": [
    "d['price_log10'] = np.log10(d.price)\n",
    "train['price_log10'] = np.log10(train.price)\n",
    "sns.distplot(train.price_log10, kde=False, rug=False)\n",
    "sns.plt.title('The variation of Price in Training data set')"
   ]
  },
  {
   "cell_type": "markdown",
   "metadata": {
    "deletable": true,
    "editable": true
   },
   "source": [
    "The graph shows the histogram of price in Log 10 scale, and it is symetric and looks normally distributed. We check the distribution of price with other variables."
   ]
  },
  {
   "cell_type": "markdown",
   "metadata": {
    "deletable": true,
    "editable": true
   },
   "source": [
    "Price is positively correlated with menseki. The larger the room is the higher the price is. Ekikyori does not look highly correlated with the price as we don't see any trend. When is_reformed = 1, the prices looks slightly higher. "
   ]
  },
  {
   "cell_type": "code",
   "execution_count": 40,
   "metadata": {
    "collapsed": false,
    "deletable": true,
    "editable": true
   },
   "outputs": [
    {
     "data": {
      "text/plain": [
       "<seaborn.axisgrid.PairGrid at 0x1220bd2e8>"
      ]
     },
     "execution_count": 40,
     "metadata": {},
     "output_type": "execute_result"
    },
    {
     "data": {
      "image/png": "[encoded data removed]",
      "text/plain": [
       "<matplotlib.figure.Figure at 0x10f2890b8>"
      ]
     },
     "metadata": {},
     "output_type": "display_data"
    }
   ],
   "source": [
    "sns.pairplot(train[['price_log10','menseki','ekikyori','is_reformed','madori']])"
   ]
  },
  {
   "cell_type": "code",
   "execution_count": 41,
   "metadata": {
    "collapsed": false,
    "deletable": true,
    "editable": true
   },
   "outputs": [
    {
     "data": {
      "text/plain": [
       "<seaborn.axisgrid.PairGrid at 0x1264daac8>"
      ]
     },
     "execution_count": 41,
     "metadata": {},
     "output_type": "execute_result"
    },
    {
     "data": {
      "image/png": "[encoded data removed]",
      "text/plain": [
       "<matplotlib.figure.Figure at 0x1264dae48>"
      ]
     },
     "metadata": {},
     "output_type": "display_data"
    }
   ],
   "source": [
    "sns.pairplot(train[['price_log10','kouzou','youto','mokuteki','kenpeiritsu','yousekiritsu','bikou','is_auction']])"
   ]
  },
  {
   "cell_type": "markdown",
   "metadata": {
    "deletable": true,
    "editable": true
   },
   "source": [
    "Kenpeiritsu and Yousekiritsu do not look correlated with the price very much. is_auction does not look correlated with price either, though the variance of the distribution of price is different for is_aucition = 0 and is_aucitin = 1."
   ]
  },
  {
   "cell_type": "code",
   "execution_count": 42,
   "metadata": {
    "collapsed": false,
    "deletable": true,
    "editable": true
   },
   "outputs": [
    {
     "data": {
      "text/plain": [
       "<seaborn.axisgrid.PairGrid at 0x1230ecb38>"
      ]
     },
     "execution_count": 42,
     "metadata": {},
     "output_type": "execute_result"
    },
    {
     "data": {
      "image/png": "[encoded data removed]",
      "text/plain": [
       "<matplotlib.figure.Figure at 0x1230ec908>"
      ]
     },
     "metadata": {},
     "output_type": "display_data"
    }
   ],
   "source": [
    "sns.pairplot(train[['price_log10','is_direct_transaction','age','transaction_year']])"
   ]
  },
  {
   "cell_type": "markdown",
   "metadata": {
    "deletable": true,
    "editable": true
   },
   "source": [
    "A similar observation can be found for is_direct_transaction. It does not correlated but when is_direct = 1, the variation of the price is smaller than that of the price when is_direct = 0. For the transaction year, The price looks lower when the transaction year = 2016 than year 2015. As the age increases (i.e. apartment gets older), the price tends to be lower. "
   ]
  },
  {
   "cell_type": "markdown",
   "metadata": {
    "deletable": true,
    "editable": true
   },
   "source": [
    "# Benchmark model\n",
    "We build a benchmark model by linear regression and calculate the MSE."
   ]
  },
  {
   "cell_type": "code",
   "execution_count": 46,
   "metadata": {
    "collapsed": false,
    "deletable": true,
    "editable": true
   },
   "outputs": [
    {
     "ename": "ValueError",
     "evalue": "could not convert string to float: '改装済を購入'",
     "output_type": "error",
     "traceback": [
      "\u001b[0;31m---------------------------------------------------------------------------\u001b[0m",
      "\u001b[0;31mValueError\u001b[0m                                Traceback (most recent call last)",
      "\u001b[0;32m<ipython-input-46-b9ac57198f2b>\u001b[0m in \u001b[0;36m<module>\u001b[0;34m()\u001b[0m\n\u001b[1;32m     12\u001b[0m \u001b[0;31m# cross_val_predict returns an array of the same size as `y` where each entry\u001b[0m\u001b[0;34m\u001b[0m\u001b[0;34m\u001b[0m\u001b[0m\n\u001b[1;32m     13\u001b[0m \u001b[0;31m# is a prediction obtained by cross validation:\u001b[0m\u001b[0;34m\u001b[0m\u001b[0;34m\u001b[0m\u001b[0m\n\u001b[0;32m---> 14\u001b[0;31m \u001b[0mpredicted\u001b[0m \u001b[0;34m=\u001b[0m \u001b[0mcross_val_predict\u001b[0m\u001b[0;34m(\u001b[0m\u001b[0mlr\u001b[0m\u001b[0;34m,\u001b[0m \u001b[0mX\u001b[0m\u001b[0;34m,\u001b[0m \u001b[0my\u001b[0m\u001b[0;34m,\u001b[0m \u001b[0mcv\u001b[0m\u001b[0;34m=\u001b[0m\u001b[0;36m10\u001b[0m\u001b[0;34m)\u001b[0m\u001b[0;34m\u001b[0m\u001b[0m\n\u001b[0m",
      "\u001b[0;32m//anaconda/envs/mlnd-capstone/lib/python3.5/site-packages/sklearn/model_selection/_validation.py\u001b[0m in \u001b[0;36mcross_val_predict\u001b[0;34m(estimator, X, y, groups, cv, n_jobs, verbose, fit_params, pre_dispatch, method)\u001b[0m\n\u001b[1;32m    399\u001b[0m     prediction_blocks = parallel(delayed(_fit_and_predict)(\n\u001b[1;32m    400\u001b[0m         clone(estimator), X, y, train, test, verbose, fit_params, method)\n\u001b[0;32m--> 401\u001b[0;31m         for train, test in cv_iter)\n\u001b[0m\u001b[1;32m    402\u001b[0m \u001b[0;34m\u001b[0m\u001b[0m\n\u001b[1;32m    403\u001b[0m     \u001b[0;31m# Concatenate the predictions\u001b[0m\u001b[0;34m\u001b[0m\u001b[0;34m\u001b[0m\u001b[0m\n",
      "\u001b[0;32m//anaconda/envs/mlnd-capstone/lib/python3.5/site-packages/sklearn/externals/joblib/parallel.py\u001b[0m in \u001b[0;36m__call__\u001b[0;34m(self, iterable)\u001b[0m\n\u001b[1;32m    756\u001b[0m             \u001b[0;31m# was dispatched. In particular this covers the edge\u001b[0m\u001b[0;34m\u001b[0m\u001b[0;34m\u001b[0m\u001b[0m\n\u001b[1;32m    757\u001b[0m             \u001b[0;31m# case of Parallel used with an exhausted iterator.\u001b[0m\u001b[0;34m\u001b[0m\u001b[0;34m\u001b[0m\u001b[0m\n\u001b[0;32m--> 758\u001b[0;31m             \u001b[0;32mwhile\u001b[0m \u001b[0mself\u001b[0m\u001b[0;34m.\u001b[0m\u001b[0mdispatch_one_batch\u001b[0m\u001b[0;34m(\u001b[0m\u001b[0miterator\u001b[0m\u001b[0;34m)\u001b[0m\u001b[0;34m:\u001b[0m\u001b[0;34m\u001b[0m\u001b[0m\n\u001b[0m\u001b[1;32m    759\u001b[0m                 \u001b[0mself\u001b[0m\u001b[0;34m.\u001b[0m\u001b[0m_iterating\u001b[0m \u001b[0;34m=\u001b[0m \u001b[0;32mTrue\u001b[0m\u001b[0;34m\u001b[0m\u001b[0m\n\u001b[1;32m    760\u001b[0m             \u001b[0;32melse\u001b[0m\u001b[0;34m:\u001b[0m\u001b[0;34m\u001b[0m\u001b[0m\n",
      "\u001b[0;32m//anaconda/envs/mlnd-capstone/lib/python3.5/site-packages/sklearn/externals/joblib/parallel.py\u001b[0m in \u001b[0;36mdispatch_one_batch\u001b[0;34m(self, iterator)\u001b[0m\n\u001b[1;32m    606\u001b[0m                 \u001b[0;32mreturn\u001b[0m \u001b[0;32mFalse\u001b[0m\u001b[0;34m\u001b[0m\u001b[0m\n\u001b[1;32m    607\u001b[0m             \u001b[0;32melse\u001b[0m\u001b[0;34m:\u001b[0m\u001b[0;34m\u001b[0m\u001b[0m\n\u001b[0;32m--> 608\u001b[0;31m                 \u001b[0mself\u001b[0m\u001b[0;34m.\u001b[0m\u001b[0m_dispatch\u001b[0m\u001b[0;34m(\u001b[0m\u001b[0mtasks\u001b[0m\u001b[0;34m)\u001b[0m\u001b[0;34m\u001b[0m\u001b[0m\n\u001b[0m\u001b[1;32m    609\u001b[0m                 \u001b[0;32mreturn\u001b[0m \u001b[0;32mTrue\u001b[0m\u001b[0;34m\u001b[0m\u001b[0m\n\u001b[1;32m    610\u001b[0m \u001b[0;34m\u001b[0m\u001b[0m\n",
      "\u001b[0;32m//anaconda/envs/mlnd-capstone/lib/python3.5/site-packages/sklearn/externals/joblib/parallel.py\u001b[0m in \u001b[0;36m_dispatch\u001b[0;34m(self, batch)\u001b[0m\n\u001b[1;32m    569\u001b[0m         \u001b[0mdispatch_timestamp\u001b[0m \u001b[0;34m=\u001b[0m \u001b[0mtime\u001b[0m\u001b[0;34m.\u001b[0m\u001b[0mtime\u001b[0m\u001b[0;34m(\u001b[0m\u001b[0;34m)\u001b[0m\u001b[0;34m\u001b[0m\u001b[0m\n\u001b[1;32m    570\u001b[0m         \u001b[0mcb\u001b[0m \u001b[0;34m=\u001b[0m \u001b[0mBatchCompletionCallBack\u001b[0m\u001b[0;34m(\u001b[0m\u001b[0mdispatch_timestamp\u001b[0m\u001b[0;34m,\u001b[0m \u001b[0mlen\u001b[0m\u001b[0;34m(\u001b[0m\u001b[0mbatch\u001b[0m\u001b[0;34m)\u001b[0m\u001b[0;34m,\u001b[0m \u001b[0mself\u001b[0m\u001b[0;34m)\u001b[0m\u001b[0;34m\u001b[0m\u001b[0m\n\u001b[0;32m--> 571\u001b[0;31m         \u001b[0mjob\u001b[0m \u001b[0;34m=\u001b[0m \u001b[0mself\u001b[0m\u001b[0;34m.\u001b[0m\u001b[0m_backend\u001b[0m\u001b[0;34m.\u001b[0m\u001b[0mapply_async\u001b[0m\u001b[0;34m(\u001b[0m\u001b[0mbatch\u001b[0m\u001b[0;34m,\u001b[0m \u001b[0mcallback\u001b[0m\u001b[0;34m=\u001b[0m\u001b[0mcb\u001b[0m\u001b[0;34m)\u001b[0m\u001b[0;34m\u001b[0m\u001b[0m\n\u001b[0m\u001b[1;32m    572\u001b[0m         \u001b[0mself\u001b[0m\u001b[0;34m.\u001b[0m\u001b[0m_jobs\u001b[0m\u001b[0;34m.\u001b[0m\u001b[0mappend\u001b[0m\u001b[0;34m(\u001b[0m\u001b[0mjob\u001b[0m\u001b[0;34m)\u001b[0m\u001b[0;34m\u001b[0m\u001b[0m\n\u001b[1;32m    573\u001b[0m \u001b[0;34m\u001b[0m\u001b[0m\n",
      "\u001b[0;32m//anaconda/envs/mlnd-capstone/lib/python3.5/site-packages/sklearn/externals/joblib/_parallel_backends.py\u001b[0m in \u001b[0;36mapply_async\u001b[0;34m(self, func, callback)\u001b[0m\n\u001b[1;32m    107\u001b[0m     \u001b[0;32mdef\u001b[0m \u001b[0mapply_async\u001b[0m\u001b[0;34m(\u001b[0m\u001b[0mself\u001b[0m\u001b[0;34m,\u001b[0m \u001b[0mfunc\u001b[0m\u001b[0;34m,\u001b[0m \u001b[0mcallback\u001b[0m\u001b[0;34m=\u001b[0m\u001b[0;32mNone\u001b[0m\u001b[0;34m)\u001b[0m\u001b[0;34m:\u001b[0m\u001b[0;34m\u001b[0m\u001b[0m\n\u001b[1;32m    108\u001b[0m         \u001b[0;34m\"\"\"Schedule a func to be run\"\"\"\u001b[0m\u001b[0;34m\u001b[0m\u001b[0m\n\u001b[0;32m--> 109\u001b[0;31m         \u001b[0mresult\u001b[0m \u001b[0;34m=\u001b[0m \u001b[0mImmediateResult\u001b[0m\u001b[0;34m(\u001b[0m\u001b[0mfunc\u001b[0m\u001b[0;34m)\u001b[0m\u001b[0;34m\u001b[0m\u001b[0m\n\u001b[0m\u001b[1;32m    110\u001b[0m         \u001b[0;32mif\u001b[0m \u001b[0mcallback\u001b[0m\u001b[0;34m:\u001b[0m\u001b[0;34m\u001b[0m\u001b[0m\n\u001b[1;32m    111\u001b[0m             \u001b[0mcallback\u001b[0m\u001b[0;34m(\u001b[0m\u001b[0mresult\u001b[0m\u001b[0;34m)\u001b[0m\u001b[0;34m\u001b[0m\u001b[0m\n",
      "\u001b[0;32m//anaconda/envs/mlnd-capstone/lib/python3.5/site-packages/sklearn/externals/joblib/_parallel_backends.py\u001b[0m in \u001b[0;36m__init__\u001b[0;34m(self, batch)\u001b[0m\n\u001b[1;32m    324\u001b[0m         \u001b[0;31m# Don't delay the application, to avoid keeping the input\u001b[0m\u001b[0;34m\u001b[0m\u001b[0;34m\u001b[0m\u001b[0m\n\u001b[1;32m    325\u001b[0m         \u001b[0;31m# arguments in memory\u001b[0m\u001b[0;34m\u001b[0m\u001b[0;34m\u001b[0m\u001b[0m\n\u001b[0;32m--> 326\u001b[0;31m         \u001b[0mself\u001b[0m\u001b[0;34m.\u001b[0m\u001b[0mresults\u001b[0m \u001b[0;34m=\u001b[0m \u001b[0mbatch\u001b[0m\u001b[0;34m(\u001b[0m\u001b[0;34m)\u001b[0m\u001b[0;34m\u001b[0m\u001b[0m\n\u001b[0m\u001b[1;32m    327\u001b[0m \u001b[0;34m\u001b[0m\u001b[0m\n\u001b[1;32m    328\u001b[0m     \u001b[0;32mdef\u001b[0m \u001b[0mget\u001b[0m\u001b[0;34m(\u001b[0m\u001b[0mself\u001b[0m\u001b[0;34m)\u001b[0m\u001b[0;34m:\u001b[0m\u001b[0;34m\u001b[0m\u001b[0m\n",
      "\u001b[0;32m//anaconda/envs/mlnd-capstone/lib/python3.5/site-packages/sklearn/externals/joblib/parallel.py\u001b[0m in \u001b[0;36m__call__\u001b[0;34m(self)\u001b[0m\n\u001b[1;32m    129\u001b[0m \u001b[0;34m\u001b[0m\u001b[0m\n\u001b[1;32m    130\u001b[0m     \u001b[0;32mdef\u001b[0m \u001b[0m__call__\u001b[0m\u001b[0;34m(\u001b[0m\u001b[0mself\u001b[0m\u001b[0;34m)\u001b[0m\u001b[0;34m:\u001b[0m\u001b[0;34m\u001b[0m\u001b[0m\n\u001b[0;32m--> 131\u001b[0;31m         \u001b[0;32mreturn\u001b[0m \u001b[0;34m[\u001b[0m\u001b[0mfunc\u001b[0m\u001b[0;34m(\u001b[0m\u001b[0;34m*\u001b[0m\u001b[0margs\u001b[0m\u001b[0;34m,\u001b[0m \u001b[0;34m**\u001b[0m\u001b[0mkwargs\u001b[0m\u001b[0;34m)\u001b[0m \u001b[0;32mfor\u001b[0m \u001b[0mfunc\u001b[0m\u001b[0;34m,\u001b[0m \u001b[0margs\u001b[0m\u001b[0;34m,\u001b[0m \u001b[0mkwargs\u001b[0m \u001b[0;32min\u001b[0m \u001b[0mself\u001b[0m\u001b[0;34m.\u001b[0m\u001b[0mitems\u001b[0m\u001b[0;34m]\u001b[0m\u001b[0;34m\u001b[0m\u001b[0m\n\u001b[0m\u001b[1;32m    132\u001b[0m \u001b[0;34m\u001b[0m\u001b[0m\n\u001b[1;32m    133\u001b[0m     \u001b[0;32mdef\u001b[0m \u001b[0m__len__\u001b[0m\u001b[0;34m(\u001b[0m\u001b[0mself\u001b[0m\u001b[0;34m)\u001b[0m\u001b[0;34m:\u001b[0m\u001b[0;34m\u001b[0m\u001b[0m\n",
      "\u001b[0;32m//anaconda/envs/mlnd-capstone/lib/python3.5/site-packages/sklearn/externals/joblib/parallel.py\u001b[0m in \u001b[0;36m<listcomp>\u001b[0;34m(.0)\u001b[0m\n\u001b[1;32m    129\u001b[0m \u001b[0;34m\u001b[0m\u001b[0m\n\u001b[1;32m    130\u001b[0m     \u001b[0;32mdef\u001b[0m \u001b[0m__call__\u001b[0m\u001b[0;34m(\u001b[0m\u001b[0mself\u001b[0m\u001b[0;34m)\u001b[0m\u001b[0;34m:\u001b[0m\u001b[0;34m\u001b[0m\u001b[0m\n\u001b[0;32m--> 131\u001b[0;31m         \u001b[0;32mreturn\u001b[0m \u001b[0;34m[\u001b[0m\u001b[0mfunc\u001b[0m\u001b[0;34m(\u001b[0m\u001b[0;34m*\u001b[0m\u001b[0margs\u001b[0m\u001b[0;34m,\u001b[0m \u001b[0;34m**\u001b[0m\u001b[0mkwargs\u001b[0m\u001b[0;34m)\u001b[0m \u001b[0;32mfor\u001b[0m \u001b[0mfunc\u001b[0m\u001b[0;34m,\u001b[0m \u001b[0margs\u001b[0m\u001b[0;34m,\u001b[0m \u001b[0mkwargs\u001b[0m \u001b[0;32min\u001b[0m \u001b[0mself\u001b[0m\u001b[0;34m.\u001b[0m\u001b[0mitems\u001b[0m\u001b[0;34m]\u001b[0m\u001b[0;34m\u001b[0m\u001b[0m\n\u001b[0m\u001b[1;32m    132\u001b[0m \u001b[0;34m\u001b[0m\u001b[0m\n\u001b[1;32m    133\u001b[0m     \u001b[0;32mdef\u001b[0m \u001b[0m__len__\u001b[0m\u001b[0;34m(\u001b[0m\u001b[0mself\u001b[0m\u001b[0;34m)\u001b[0m\u001b[0;34m:\u001b[0m\u001b[0;34m\u001b[0m\u001b[0m\n",
      "\u001b[0;32m//anaconda/envs/mlnd-capstone/lib/python3.5/site-packages/sklearn/model_selection/_validation.py\u001b[0m in \u001b[0;36m_fit_and_predict\u001b[0;34m(estimator, X, y, train, test, verbose, fit_params, method)\u001b[0m\n\u001b[1;32m    472\u001b[0m         \u001b[0mestimator\u001b[0m\u001b[0;34m.\u001b[0m\u001b[0mfit\u001b[0m\u001b[0;34m(\u001b[0m\u001b[0mX_train\u001b[0m\u001b[0;34m,\u001b[0m \u001b[0;34m**\u001b[0m\u001b[0mfit_params\u001b[0m\u001b[0;34m)\u001b[0m\u001b[0;34m\u001b[0m\u001b[0m\n\u001b[1;32m    473\u001b[0m     \u001b[0;32melse\u001b[0m\u001b[0;34m:\u001b[0m\u001b[0;34m\u001b[0m\u001b[0m\n\u001b[0;32m--> 474\u001b[0;31m         \u001b[0mestimator\u001b[0m\u001b[0;34m.\u001b[0m\u001b[0mfit\u001b[0m\u001b[0;34m(\u001b[0m\u001b[0mX_train\u001b[0m\u001b[0;34m,\u001b[0m \u001b[0my_train\u001b[0m\u001b[0;34m,\u001b[0m \u001b[0;34m**\u001b[0m\u001b[0mfit_params\u001b[0m\u001b[0;34m)\u001b[0m\u001b[0;34m\u001b[0m\u001b[0m\n\u001b[0m\u001b[1;32m    475\u001b[0m     \u001b[0mfunc\u001b[0m \u001b[0;34m=\u001b[0m \u001b[0mgetattr\u001b[0m\u001b[0;34m(\u001b[0m\u001b[0mestimator\u001b[0m\u001b[0;34m,\u001b[0m \u001b[0mmethod\u001b[0m\u001b[0;34m)\u001b[0m\u001b[0;34m\u001b[0m\u001b[0m\n\u001b[1;32m    476\u001b[0m     \u001b[0mpredictions\u001b[0m \u001b[0;34m=\u001b[0m \u001b[0mfunc\u001b[0m\u001b[0;34m(\u001b[0m\u001b[0mX_test\u001b[0m\u001b[0;34m)\u001b[0m\u001b[0;34m\u001b[0m\u001b[0m\n",
      "\u001b[0;32m//anaconda/envs/mlnd-capstone/lib/python3.5/site-packages/sklearn/linear_model/base.py\u001b[0m in \u001b[0;36mfit\u001b[0;34m(self, X, y, sample_weight)\u001b[0m\n\u001b[1;32m    510\u001b[0m         \u001b[0mn_jobs_\u001b[0m \u001b[0;34m=\u001b[0m \u001b[0mself\u001b[0m\u001b[0;34m.\u001b[0m\u001b[0mn_jobs\u001b[0m\u001b[0;34m\u001b[0m\u001b[0m\n\u001b[1;32m    511\u001b[0m         X, y = check_X_y(X, y, accept_sparse=['csr', 'csc', 'coo'],\n\u001b[0;32m--> 512\u001b[0;31m                          y_numeric=True, multi_output=True)\n\u001b[0m\u001b[1;32m    513\u001b[0m \u001b[0;34m\u001b[0m\u001b[0m\n\u001b[1;32m    514\u001b[0m         \u001b[0;32mif\u001b[0m \u001b[0msample_weight\u001b[0m \u001b[0;32mis\u001b[0m \u001b[0;32mnot\u001b[0m \u001b[0;32mNone\u001b[0m \u001b[0;32mand\u001b[0m \u001b[0mnp\u001b[0m\u001b[0;34m.\u001b[0m\u001b[0matleast_1d\u001b[0m\u001b[0;34m(\u001b[0m\u001b[0msample_weight\u001b[0m\u001b[0;34m)\u001b[0m\u001b[0;34m.\u001b[0m\u001b[0mndim\u001b[0m \u001b[0;34m>\u001b[0m \u001b[0;36m1\u001b[0m\u001b[0;34m:\u001b[0m\u001b[0;34m\u001b[0m\u001b[0m\n",
      "\u001b[0;32m//anaconda/envs/mlnd-capstone/lib/python3.5/site-packages/sklearn/utils/validation.py\u001b[0m in \u001b[0;36mcheck_X_y\u001b[0;34m(X, y, accept_sparse, dtype, order, copy, force_all_finite, ensure_2d, allow_nd, multi_output, ensure_min_samples, ensure_min_features, y_numeric, warn_on_dtype, estimator)\u001b[0m\n\u001b[1;32m    519\u001b[0m     X = check_array(X, accept_sparse, dtype, order, copy, force_all_finite,\n\u001b[1;32m    520\u001b[0m                     \u001b[0mensure_2d\u001b[0m\u001b[0;34m,\u001b[0m \u001b[0mallow_nd\u001b[0m\u001b[0;34m,\u001b[0m \u001b[0mensure_min_samples\u001b[0m\u001b[0;34m,\u001b[0m\u001b[0;34m\u001b[0m\u001b[0m\n\u001b[0;32m--> 521\u001b[0;31m                     ensure_min_features, warn_on_dtype, estimator)\n\u001b[0m\u001b[1;32m    522\u001b[0m     \u001b[0;32mif\u001b[0m \u001b[0mmulti_output\u001b[0m\u001b[0;34m:\u001b[0m\u001b[0;34m\u001b[0m\u001b[0m\n\u001b[1;32m    523\u001b[0m         y = check_array(y, 'csr', force_all_finite=True, ensure_2d=False,\n",
      "\u001b[0;32m//anaconda/envs/mlnd-capstone/lib/python3.5/site-packages/sklearn/utils/validation.py\u001b[0m in \u001b[0;36mcheck_array\u001b[0;34m(array, accept_sparse, dtype, order, copy, force_all_finite, ensure_2d, allow_nd, ensure_min_samples, ensure_min_features, warn_on_dtype, estimator)\u001b[0m\n\u001b[1;32m    400\u001b[0m         \u001b[0;31m# make sure we actually converted to numeric:\u001b[0m\u001b[0;34m\u001b[0m\u001b[0;34m\u001b[0m\u001b[0m\n\u001b[1;32m    401\u001b[0m         \u001b[0;32mif\u001b[0m \u001b[0mdtype_numeric\u001b[0m \u001b[0;32mand\u001b[0m \u001b[0marray\u001b[0m\u001b[0;34m.\u001b[0m\u001b[0mdtype\u001b[0m\u001b[0;34m.\u001b[0m\u001b[0mkind\u001b[0m \u001b[0;34m==\u001b[0m \u001b[0;34m\"O\"\u001b[0m\u001b[0;34m:\u001b[0m\u001b[0;34m\u001b[0m\u001b[0m\n\u001b[0;32m--> 402\u001b[0;31m             \u001b[0marray\u001b[0m \u001b[0;34m=\u001b[0m \u001b[0marray\u001b[0m\u001b[0;34m.\u001b[0m\u001b[0mastype\u001b[0m\u001b[0;34m(\u001b[0m\u001b[0mnp\u001b[0m\u001b[0;34m.\u001b[0m\u001b[0mfloat64\u001b[0m\u001b[0;34m)\u001b[0m\u001b[0;34m\u001b[0m\u001b[0m\n\u001b[0m\u001b[1;32m    403\u001b[0m         \u001b[0;32mif\u001b[0m \u001b[0;32mnot\u001b[0m \u001b[0mallow_nd\u001b[0m \u001b[0;32mand\u001b[0m \u001b[0marray\u001b[0m\u001b[0;34m.\u001b[0m\u001b[0mndim\u001b[0m \u001b[0;34m>=\u001b[0m \u001b[0;36m3\u001b[0m\u001b[0;34m:\u001b[0m\u001b[0;34m\u001b[0m\u001b[0m\n\u001b[1;32m    404\u001b[0m             raise ValueError(\"Found array with dim %d. %s expected <= 2.\"\n",
      "\u001b[0;31mValueError\u001b[0m: could not convert string to float: '改装済を購入'"
     ]
    }
   ],
   "source": [
    "from sklearn import linear_model\n",
    "import matplotlib.pyplot as plt\n",
    "from sklearn.model_selection import cross_val_predict\n",
    "\n",
    "predicting_cols = ['menseki','ekikyori','is_reformed','madori','kouzou','youto','mokuteki','kenpeiritsu','yousekiritsu','bikou','is_auction',\n",
    "                  'is_direct_transaction','age','transaction_year']\n",
    "lr = linear_model.LinearRegression()\n",
    "\n",
    "y = train.price_log10\n",
    "X = train[predicting_cols]\n",
    "\n",
    "# cross_val_predict returns an array of the same size as `y` where each entry\n",
    "# is a prediction obtained by cross validation:\n",
    "predicted = cross_val_predict(lr, X, y, cv=10)\n"
   ]
  },
  {
   "cell_type": "code",
   "execution_count": null,
   "metadata": {
    "collapsed": true,
    "deletable": true,
    "editable": true
   },
   "outputs": [],
   "source": []
  }
 ],
 "metadata": {
  "kernelspec": {
   "display_name": "Python 3",
   "language": "python",
   "name": "python3"
  },
  "language_info": {
   "codemirror_mode": {
    "name": "ipython",
    "version": 3
   },
   "file_extension": ".py",
   "mimetype": "text/x-python",
   "name": "python",
   "nbconvert_exporter": "python",
   "pygments_lexer": "ipython3",
   "version": "3.5.3"
  }
 },
 "nbformat": 4,
 "nbformat_minor": 2
}
