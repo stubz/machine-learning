{
 "cells": [
  {
   "cell_type": "code",
   "execution_count": 2,
   "metadata": {
    "collapsed": false,
    "deletable": true,
    "editable": true
   },
   "outputs": [],
   "source": [
    "import pandas as pd\n",
    "import numpy as np\n",
    "import matplotlib as plt\n",
    "import seaborn as sns"
   ]
  },
  {
   "cell_type": "markdown",
   "metadata": {
    "deletable": true,
    "editable": true
   },
   "source": [
    "# Preprocessing\n",
    "First read the housing price data set."
   ]
  },
  {
   "cell_type": "code",
   "execution_count": 3,
   "metadata": {
    "collapsed": false,
    "deletable": true,
    "editable": true
   },
   "outputs": [],
   "source": [
    "\"\"\"\n",
    "dat = pd.read_csv('13_Tokyo_20053_20163.csv', sep=',', header=None, \n",
    "                 names=('id','type','chiiki','jiscode','ken','shi','chiku','eki','ekikyori',\n",
    "                        'price','unit_price','madori','menseki','unit_price2','keijo',\n",
    "                        'maguchi','nobeyuka','kenchikunen','kouzou','youto','mokuteki','dourohoui',\n",
    "                        'dourotype','douro_fukuin','toshikeikaku','kenpeiritsu',\n",
    "                        'yousekiritsu','torihiki_jiten','bikou'),\n",
    "                 dtype={'id':np.int, 'type':np.str, 'chiiki':np.str, 'jiscode':np.str, 'ken':np.str, 'shi':np.str, 'chiku':np.str, 'eki':np.str,\n",
    "                       'ekikyori':np.float32, 'price':np.float32, 'unit_price':np.float32, 'madori':np.str, 'menseki':np.float32, 'unit_price2':np.float32,\n",
    "                       'keijo':np.str, 'maguchi':np.str, 'nobeyuka':np.float32, 'kenchikunen':np.str, 'kouzou':np.str, 'youto':np.str, 'mokuteki':np.str,\n",
    "                       'dourohoui':np.str, 'dourotype':np.str, 'douro_fukuin':np.str, 'toshikeikaku':np.str, 'kenpeiritsu':np.float32, \n",
    "                       'yousekiritsu':np.float32, 'torihiki_jiten':np.str, 'bikou':np.str})\n",
    "\"\"\"\n",
    "dat = pd.read_csv('13_Tokyo_20053_20163.csv', sep=',', header=None, index_col='id',\n",
    "                 names=('id','type','chiiki','jiscode','ken','shi','chiku','eki','ekikyori',\n",
    "                        'price','unit_price','madori','menseki','unit_price2','keijo',\n",
    "                        'maguchi','nobeyuka','kenchikunen','kouzou','youto','mokuteki','dourohoui',\n",
    "                        'dourotype','douro_fukuin','toshikeikaku','kenpeiritsu',\n",
    "                        'yousekiritsu','torihiki_jiten','bikou'),\n",
    "                 dtype='object')"
   ]
  },
  {
   "cell_type": "code",
   "execution_count": 4,
   "metadata": {
    "collapsed": false,
    "deletable": true,
    "editable": true
   },
   "outputs": [
    {
     "data": {
      "text/html": [
       "<div>\n",
       "<table border=\"1\" class=\"dataframe\">\n",
       "  <thead>\n",
       "    <tr style=\"text-align: right;\">\n",
       "      <th></th>\n",
       "      <th>type</th>\n",
       "      <th>chiiki</th>\n",
       "      <th>jiscode</th>\n",
       "      <th>ken</th>\n",
       "      <th>shi</th>\n",
       "      <th>chiku</th>\n",
       "      <th>eki</th>\n",
       "      <th>ekikyori</th>\n",
       "      <th>price</th>\n",
       "      <th>unit_price</th>\n",
       "      <th>...</th>\n",
       "      <th>youto</th>\n",
       "      <th>mokuteki</th>\n",
       "      <th>dourohoui</th>\n",
       "      <th>dourotype</th>\n",
       "      <th>douro_fukuin</th>\n",
       "      <th>toshikeikaku</th>\n",
       "      <th>kenpeiritsu</th>\n",
       "      <th>yousekiritsu</th>\n",
       "      <th>torihiki_jiten</th>\n",
       "      <th>bikou</th>\n",
       "    </tr>\n",
       "    <tr>\n",
       "      <th>id</th>\n",
       "      <th></th>\n",
       "      <th></th>\n",
       "      <th></th>\n",
       "      <th></th>\n",
       "      <th></th>\n",
       "      <th></th>\n",
       "      <th></th>\n",
       "      <th></th>\n",
       "      <th></th>\n",
       "      <th></th>\n",
       "      <th></th>\n",
       "      <th></th>\n",
       "      <th></th>\n",
       "      <th></th>\n",
       "      <th></th>\n",
       "      <th></th>\n",
       "      <th></th>\n",
       "      <th></th>\n",
       "      <th></th>\n",
       "      <th></th>\n",
       "      <th></th>\n",
       "    </tr>\n",
       "  </thead>\n",
       "  <tbody>\n",
       "    <tr>\n",
       "      <th>1</th>\n",
       "      <td>中古マンション等</td>\n",
       "      <td>NaN</td>\n",
       "      <td>13101</td>\n",
       "      <td>東京都</td>\n",
       "      <td>千代田区</td>\n",
       "      <td>飯田橋</td>\n",
       "      <td>飯田橋</td>\n",
       "      <td>1</td>\n",
       "      <td>51000000</td>\n",
       "      <td>NaN</td>\n",
       "      <td>...</td>\n",
       "      <td>住宅</td>\n",
       "      <td>住宅</td>\n",
       "      <td>NaN</td>\n",
       "      <td>NaN</td>\n",
       "      <td>NaN</td>\n",
       "      <td>商業地域</td>\n",
       "      <td>80</td>\n",
       "      <td>600</td>\n",
       "      <td>平成28年第３四半期</td>\n",
       "      <td>未改装を購入</td>\n",
       "    </tr>\n",
       "    <tr>\n",
       "      <th>2</th>\n",
       "      <td>宅地(土地と建物)</td>\n",
       "      <td>商業地</td>\n",
       "      <td>13101</td>\n",
       "      <td>東京都</td>\n",
       "      <td>千代田区</td>\n",
       "      <td>飯田橋</td>\n",
       "      <td>飯田橋</td>\n",
       "      <td>5</td>\n",
       "      <td>300000000</td>\n",
       "      <td>NaN</td>\n",
       "      <td>...</td>\n",
       "      <td>その他</td>\n",
       "      <td>住宅</td>\n",
       "      <td>北東</td>\n",
       "      <td>区道</td>\n",
       "      <td>5.0</td>\n",
       "      <td>商業地域</td>\n",
       "      <td>80</td>\n",
       "      <td>500</td>\n",
       "      <td>平成28年第１四半期</td>\n",
       "      <td>NaN</td>\n",
       "    </tr>\n",
       "    <tr>\n",
       "      <th>3</th>\n",
       "      <td>宅地(土地と建物)</td>\n",
       "      <td>商業地</td>\n",
       "      <td>13101</td>\n",
       "      <td>東京都</td>\n",
       "      <td>千代田区</td>\n",
       "      <td>飯田橋</td>\n",
       "      <td>飯田橋</td>\n",
       "      <td>4</td>\n",
       "      <td>170000000</td>\n",
       "      <td>NaN</td>\n",
       "      <td>...</td>\n",
       "      <td>事務所、倉庫</td>\n",
       "      <td>住宅</td>\n",
       "      <td>北東</td>\n",
       "      <td>区道</td>\n",
       "      <td>4.0</td>\n",
       "      <td>商業地域</td>\n",
       "      <td>80</td>\n",
       "      <td>700</td>\n",
       "      <td>平成28年第１四半期</td>\n",
       "      <td>NaN</td>\n",
       "    </tr>\n",
       "  </tbody>\n",
       "</table>\n",
       "<p>3 rows × 28 columns</p>\n",
       "</div>"
      ],
      "text/plain": [
       "         type chiiki jiscode  ken   shi chiku  eki ekikyori      price  \\\n",
       "id                                                                       \n",
       "1    中古マンション等    NaN   13101  東京都  千代田区   飯田橋  飯田橋        1   51000000   \n",
       "2   宅地(土地と建物)    商業地   13101  東京都  千代田区   飯田橋  飯田橋        5  300000000   \n",
       "3   宅地(土地と建物)    商業地   13101  東京都  千代田区   飯田橋  飯田橋        4  170000000   \n",
       "\n",
       "   unit_price   ...     youto mokuteki dourohoui dourotype douro_fukuin  \\\n",
       "id              ...                                                       \n",
       "1         NaN   ...        住宅       住宅       NaN       NaN          NaN   \n",
       "2         NaN   ...       その他       住宅        北東        区道          5.0   \n",
       "3         NaN   ...    事務所、倉庫       住宅        北東        区道          4.0   \n",
       "\n",
       "   toshikeikaku kenpeiritsu yousekiritsu torihiki_jiten   bikou  \n",
       "id                                                               \n",
       "1          商業地域          80          600     平成28年第３四半期  未改装を購入  \n",
       "2          商業地域          80          500     平成28年第１四半期     NaN  \n",
       "3          商業地域          80          700     平成28年第１四半期     NaN  \n",
       "\n",
       "[3 rows x 28 columns]"
      ]
     },
     "execution_count": 4,
     "metadata": {},
     "output_type": "execute_result"
    }
   ],
   "source": [
    "dat.head(3)"
   ]
  },
  {
   "cell_type": "code",
   "execution_count": 5,
   "metadata": {
    "collapsed": false,
    "deletable": true,
    "editable": true
   },
   "outputs": [
    {
     "data": {
      "text/plain": [
       "ekikyori\n",
       "0           1127\n",
       "1           5273\n",
       "10          6702\n",
       "11          6257\n",
       "12          3538\n",
       "13          3999\n",
       "14          3058\n",
       "15          2917\n",
       "16          2184\n",
       "17           620\n",
       "18          1419\n",
       "19          1071\n",
       "1H30?2H        8\n",
       "1H?1H30       81\n",
       "2           7886\n",
       "20           818\n",
       "21           575\n",
       "22           172\n",
       "23           576\n",
       "24           389\n",
       "25           372\n",
       "26           243\n",
       "27            59\n",
       "28           223\n",
       "29           204\n",
       "2H?           16\n",
       "3          11317\n",
       "30分?60分     1075\n",
       "4          12681\n",
       "5          11617\n",
       "6          13151\n",
       "7           9143\n",
       "8          10375\n",
       "9           8970\n",
       "Name: type, dtype: int64"
      ]
     },
     "execution_count": 5,
     "metadata": {},
     "output_type": "execute_result"
    }
   ],
   "source": [
    "d = dat[(dat.type=='中古マンション等') & (dat.youto=='住宅')]\n",
    "d.groupby('ekikyori')['type'].count()"
   ]
  },
  {
   "cell_type": "markdown",
   "metadata": {
    "deletable": true,
    "editable": true
   },
   "source": [
    "# Converting each column into the right format\n",
    "We read all the variables as 'object.' We convert some columns into values where appropriate.\n",
    "\n",
    "'ekikyori' takes integer for most records, and we can see '1H30' and '30分'. We will convert to a value"
   ]
  },
  {
   "cell_type": "code",
   "execution_count": 6,
   "metadata": {
    "collapsed": false,
    "deletable": true,
    "editable": true
   },
   "outputs": [
    {
     "name": "stderr",
     "output_type": "stream",
     "text": [
      "//anaconda/envs/mlnd-capstone/lib/python3.5/site-packages/pandas/core/indexing.py:141: SettingWithCopyWarning: \n",
      "A value is trying to be set on a copy of a slice from a DataFrame\n",
      "\n",
      "See the caveats in the documentation: http://pandas.pydata.org/pandas-docs/stable/indexing.html#indexing-view-versus-copy\n",
      "  self._setitem_with_indexer(indexer, value)\n",
      "//anaconda/envs/mlnd-capstone/lib/python3.5/site-packages/ipykernel/__main__.py:1: SettingWithCopyWarning: \n",
      "A value is trying to be set on a copy of a slice from a DataFrame\n",
      "\n",
      "See the caveats in the documentation: http://pandas.pydata.org/pandas-docs/stable/indexing.html#indexing-view-versus-copy\n",
      "  if __name__ == '__main__':\n",
      "//anaconda/envs/mlnd-capstone/lib/python3.5/site-packages/ipykernel/__main__.py:2: SettingWithCopyWarning: \n",
      "A value is trying to be set on a copy of a slice from a DataFrame\n",
      "\n",
      "See the caveats in the documentation: http://pandas.pydata.org/pandas-docs/stable/indexing.html#indexing-view-versus-copy\n",
      "  from ipykernel import kernelapp as app\n",
      "//anaconda/envs/mlnd-capstone/lib/python3.5/site-packages/ipykernel/__main__.py:3: SettingWithCopyWarning: \n",
      "A value is trying to be set on a copy of a slice from a DataFrame\n",
      "\n",
      "See the caveats in the documentation: http://pandas.pydata.org/pandas-docs/stable/indexing.html#indexing-view-versus-copy\n",
      "  app.launch_new_instance()\n",
      "//anaconda/envs/mlnd-capstone/lib/python3.5/site-packages/ipykernel/__main__.py:4: SettingWithCopyWarning: \n",
      "A value is trying to be set on a copy of a slice from a DataFrame\n",
      "\n",
      "See the caveats in the documentation: http://pandas.pydata.org/pandas-docs/stable/indexing.html#indexing-view-versus-copy\n"
     ]
    }
   ],
   "source": [
    "d.loc[d.ekikyori=='30分?60分', 'ekikyori'] = '60'\n",
    "d.loc[d.ekikyori=='2H?', 'ekikyori'] = '120'\n",
    "d.loc[d.ekikyori=='1H30?2H', 'ekikyori'] = '120'\n",
    "d.loc[d.ekikyori=='1H?1H30', 'ekikyori'] = '90'"
   ]
  },
  {
   "cell_type": "code",
   "execution_count": 7,
   "metadata": {
    "collapsed": false,
    "deletable": true,
    "editable": true
   },
   "outputs": [
    {
     "name": "stderr",
     "output_type": "stream",
     "text": [
      "//anaconda/envs/mlnd-capstone/lib/python3.5/site-packages/pandas/core/generic.py:2773: SettingWithCopyWarning: \n",
      "A value is trying to be set on a copy of a slice from a DataFrame.\n",
      "Try using .loc[row_indexer,col_indexer] = value instead\n",
      "\n",
      "See the caveats in the documentation: http://pandas.pydata.org/pandas-docs/stable/indexing.html#indexing-view-versus-copy\n",
      "  self[name] = value\n"
     ]
    }
   ],
   "source": [
    "d.ekikyori = pd.to_numeric(d.ekikyori)\n",
    "d.menseki = pd.to_numeric(d.menseki)\n",
    "d.kenpeiritsu = pd.to_numeric(d.kenpeiritsu)/100.0\n",
    "d.yousekiritsu = pd.to_numeric(d.yousekiritsu)/100.0"
   ]
  },
  {
   "cell_type": "code",
   "execution_count": 8,
   "metadata": {
    "collapsed": false,
    "deletable": true,
    "editable": true
   },
   "outputs": [
    {
     "name": "stderr",
     "output_type": "stream",
     "text": [
      "//anaconda/envs/mlnd-capstone/lib/python3.5/site-packages/pandas/core/generic.py:2773: SettingWithCopyWarning: \n",
      "A value is trying to be set on a copy of a slice from a DataFrame.\n",
      "Try using .loc[row_indexer,col_indexer] = value instead\n",
      "\n",
      "See the caveats in the documentation: http://pandas.pydata.org/pandas-docs/stable/indexing.html#indexing-view-versus-copy\n",
      "  self[name] = value\n"
     ]
    }
   ],
   "source": [
    "d.price = pd.to_numeric(d.price)"
   ]
  },
  {
   "cell_type": "code",
   "execution_count": 9,
   "metadata": {
    "collapsed": false,
    "deletable": true,
    "editable": true
   },
   "outputs": [
    {
     "data": {
      "text/html": [
       "<div>\n",
       "<table border=\"1\" class=\"dataframe\">\n",
       "  <thead>\n",
       "    <tr style=\"text-align: right;\">\n",
       "      <th></th>\n",
       "      <th>yousekiritsu</th>\n",
       "      <th>torihiki_jiten</th>\n",
       "      <th>bikou</th>\n",
       "    </tr>\n",
       "    <tr>\n",
       "      <th>id</th>\n",
       "      <th></th>\n",
       "      <th></th>\n",
       "      <th></th>\n",
       "    </tr>\n",
       "  </thead>\n",
       "  <tbody>\n",
       "    <tr>\n",
       "      <th>1</th>\n",
       "      <td>6.0</td>\n",
       "      <td>平成28年第３四半期</td>\n",
       "      <td>未改装を購入</td>\n",
       "    </tr>\n",
       "    <tr>\n",
       "      <th>4</th>\n",
       "      <td>5.0</td>\n",
       "      <td>平成28年第１四半期</td>\n",
       "      <td>未改装を購入</td>\n",
       "    </tr>\n",
       "    <tr>\n",
       "      <th>5</th>\n",
       "      <td>7.0</td>\n",
       "      <td>平成28年第１四半期</td>\n",
       "      <td>未改装を購入</td>\n",
       "    </tr>\n",
       "  </tbody>\n",
       "</table>\n",
       "</div>"
      ],
      "text/plain": [
       "    yousekiritsu torihiki_jiten   bikou\n",
       "id                                     \n",
       "1            6.0     平成28年第３四半期  未改装を購入\n",
       "4            5.0     平成28年第１四半期  未改装を購入\n",
       "5            7.0     平成28年第１四半期  未改装を購入"
      ]
     },
     "execution_count": 9,
     "metadata": {},
     "output_type": "execute_result"
    }
   ],
   "source": [
    "d.iloc[:3, 25:30]"
   ]
  },
  {
   "cell_type": "code",
   "execution_count": 10,
   "metadata": {
    "collapsed": false,
    "deletable": true,
    "editable": true
   },
   "outputs": [
    {
     "data": {
      "text/plain": [
       "bikou\n",
       "その他事情有り                        1\n",
       "他の権利・負担付き                      1\n",
       "他の権利・負担付き、改装済を購入               4\n",
       "他の権利・負担付き、未改装を購入              15\n",
       "他の権利・負担付き、調停・競売等、未改装を購入        1\n",
       "改装済を購入                     32550\n",
       "改装済を購入、その他事情有り                 4\n",
       "未改装を購入                     88887\n",
       "未改装を購入、その他事情有り                22\n",
       "瑕疵有りの可能性、改装済を購入                3\n",
       "瑕疵有りの可能性、未改装を購入                6\n",
       "調停・競売等                       457\n",
       "調停・競売等、改装済を購入                101\n",
       "調停・競売等、未改装を購入               2479\n",
       "関係者間取引                        14\n",
       "関係者間取引、改装済を購入                 31\n",
       "関係者間取引、未改装を購入                191\n",
       "Name: type, dtype: int64"
      ]
     },
     "execution_count": 10,
     "metadata": {},
     "output_type": "execute_result"
    }
   ],
   "source": [
    "d.groupby('bikou')['type'].count()\n",
    "# remove\n",
    "# unit_price\n",
    "# unit_price2\n",
    "# keijo\n",
    "# maguchi\n",
    "# nobeyuka\n",
    "# dourohoui\n",
    "# dourotype\n",
    "# douro_fukuin"
   ]
  },
  {
   "cell_type": "markdown",
   "metadata": {
    "deletable": true,
    "editable": true
   },
   "source": [
    "From 'bikou' column, we can find if the apartment was reformed or not, the transaction between two professional dealers."
   ]
  },
  {
   "cell_type": "code",
   "execution_count": 11,
   "metadata": {
    "collapsed": false,
    "deletable": true,
    "editable": true
   },
   "outputs": [
    {
     "name": "stderr",
     "output_type": "stream",
     "text": [
      "//anaconda/envs/mlnd-capstone/lib/python3.5/site-packages/ipykernel/__main__.py:2: SettingWithCopyWarning: \n",
      "A value is trying to be set on a copy of a slice from a DataFrame.\n",
      "Try using .loc[row_indexer,col_indexer] = value instead\n",
      "\n",
      "See the caveats in the documentation: http://pandas.pydata.org/pandas-docs/stable/indexing.html#indexing-view-versus-copy\n",
      "  from ipykernel import kernelapp as app\n",
      "//anaconda/envs/mlnd-capstone/lib/python3.5/site-packages/ipykernel/__main__.py:5: SettingWithCopyWarning: \n",
      "A value is trying to be set on a copy of a slice from a DataFrame.\n",
      "Try using .loc[row_indexer,col_indexer] = value instead\n",
      "\n",
      "See the caveats in the documentation: http://pandas.pydata.org/pandas-docs/stable/indexing.html#indexing-view-versus-copy\n",
      "//anaconda/envs/mlnd-capstone/lib/python3.5/site-packages/ipykernel/__main__.py:6: SettingWithCopyWarning: \n",
      "A value is trying to be set on a copy of a slice from a DataFrame.\n",
      "Try using .loc[row_indexer,col_indexer] = value instead\n",
      "\n",
      "See the caveats in the documentation: http://pandas.pydata.org/pandas-docs/stable/indexing.html#indexing-view-versus-copy\n",
      "//anaconda/envs/mlnd-capstone/lib/python3.5/site-packages/ipykernel/__main__.py:7: SettingWithCopyWarning: \n",
      "A value is trying to be set on a copy of a slice from a DataFrame.\n",
      "Try using .loc[row_indexer,col_indexer] = value instead\n",
      "\n",
      "See the caveats in the documentation: http://pandas.pydata.org/pandas-docs/stable/indexing.html#indexing-view-versus-copy\n"
     ]
    }
   ],
   "source": [
    "d['is_reformed'] = [1 if x in (['他の権利・負担付き、改装済を購入','改装済を購入','改装済を購入、その他事情有り',\n",
    "                               '瑕疵有りの可能性、改装済を購入','調停・競売等、改装済を購入','関係者間取引、改装済を購入']) else 0 for x in d.bikou]\n",
    "d['is_not_reformed'] = [1 if x in (['他の権利・負担付き、未改装を購入','他の権利・負担付き、調停・競売等、未改装を購入','未改装を購入',\n",
    "                               '未改装を購入、その他事情有り','瑕疵有りの可能性、未改装を購入','調停・競売等、未改装を購入',\n",
    "                                   '関係者間取引、未改装を購入']) else 0 for x in d.bikou]\n",
    "d['is_auction'] = [1 if x in ['調停・競売等','調停・競売等、改装済を購入','調停・競売等、未改装を購入'] else 0 for x in d.bikou]\n",
    "d['is_direct_transaction'] = [1 if x in ['関係者間取引','関係者間取引、改装済を購入','関係者間取引、未改装を購入'] else 0 for x in d.bikou]\n"
   ]
  },
  {
   "cell_type": "markdown",
   "metadata": {
    "deletable": true,
    "editable": true
   },
   "source": [
    "We need to convert 'torihiki_jiten' (transaction date) and 'kenchikunen' (year of built). These are denoted by gengou."
   ]
  },
  {
   "cell_type": "code",
   "execution_count": 12,
   "metadata": {
    "collapsed": false,
    "deletable": true,
    "editable": true
   },
   "outputs": [
    {
     "name": "stdout",
     "output_type": "stream",
     "text": [
      "kenchikunen\n",
      "平成10年    4510\n",
      "平成11年    4523\n",
      "平成12年    5419\n",
      "平成13年    4607\n",
      "平成14年    5124\n",
      "平成15年    5874\n",
      "平成16年    5733\n",
      "平成17年    6856\n",
      "平成18年    6592\n",
      "平成19年    5593\n",
      "平成20年    5138\n",
      "平成21年    4469\n",
      "平成22年    2840\n",
      "平成23年    1867\n",
      "平成24年    2009\n",
      "平成25年    1290\n",
      "平成26年    1110\n",
      "平成27年    1091\n",
      "平成28年     147\n",
      "平成2年     2299\n",
      "平成3年     2924\n",
      "平成4年     2330\n",
      "平成5年     1339\n",
      "平成6年     1909\n",
      "平成7年     3145\n",
      "平成8年     3341\n",
      "平成9年     3565\n",
      "平成元年     2242\n",
      "戦前        123\n",
      "昭和21年       5\n",
      "         ... \n",
      "昭和34年      14\n",
      "昭和35年       4\n",
      "昭和36年      10\n",
      "昭和37年      10\n",
      "昭和38年      26\n",
      "昭和39年      63\n",
      "昭和40年      76\n",
      "昭和41年     146\n",
      "昭和42年     170\n",
      "昭和43年     474\n",
      "昭和44年     690\n",
      "昭和45年    1204\n",
      "昭和46年    1495\n",
      "昭和47年    1307\n",
      "昭和48年    1323\n",
      "昭和49年    1666\n",
      "昭和50年     824\n",
      "昭和51年    1002\n",
      "昭和52年    1013\n",
      "昭和53年    1734\n",
      "昭和54年    1983\n",
      "昭和55年    1805\n",
      "昭和56年    1465\n",
      "昭和57年    1692\n",
      "昭和58年    1649\n",
      "昭和59年    3426\n",
      "昭和60年    2728\n",
      "昭和61年    2221\n",
      "昭和62年    2452\n",
      "昭和63年    2665\n",
      "Name: type, dtype: int64\n"
     ]
    }
   ],
   "source": [
    "print(d.groupby('kenchikunen')['type'].count())"
   ]
  },
  {
   "cell_type": "markdown",
   "metadata": {
    "deletable": true,
    "editable": true
   },
   "source": [
    "We make a list of years manually."
   ]
  },
  {
   "cell_type": "code",
   "execution_count": 13,
   "metadata": {
    "collapsed": true,
    "deletable": true,
    "editable": true
   },
   "outputs": [],
   "source": [
    "gengou = []\n",
    "gengou.append(\"戦前\")\n",
    "shouwa = range(21, 64)\n",
    "for yr in shouwa:\n",
    "    gengou.append(\"昭和\"+np.str(yr)+\"年\")\n",
    "# 平成元年\n",
    "gengou.append(\"平成元年\")\n",
    "# 平成２年以降\n",
    "heisei = range(2, 30)\n",
    "for yr in heisei:\n",
    "    gengou.append(\"平成\"+np.str(yr)+\"年\")\n",
    "seireki = range(1945, 2018) \n",
    "kenchikunen = {k: v for k, v in zip(gengou, seireki)}\n",
    "# {平成２８年: 2016, 昭和５４年: 1979, ...}\n"
   ]
  },
  {
   "cell_type": "markdown",
   "metadata": {
    "deletable": true,
    "editable": true
   },
   "source": [
    "We now change the kenchikunen in the data set. But kenchikunen has 3025 null values, so we need to delete those records."
   ]
  },
  {
   "cell_type": "code",
   "execution_count": 14,
   "metadata": {
    "collapsed": false,
    "deletable": true,
    "editable": true
   },
   "outputs": [
    {
     "data": {
      "text/plain": [
       "type                          0\n",
       "chiiki                   136394\n",
       "jiscode                       0\n",
       "ken                           0\n",
       "shi                           0\n",
       "chiku                        44\n",
       "eki                         283\n",
       "ekikyori                   8278\n",
       "price                         0\n",
       "unit_price               136394\n",
       "madori                     4034\n",
       "menseki                       0\n",
       "unit_price2              136394\n",
       "keijo                    136394\n",
       "maguchi                  136394\n",
       "nobeyuka                 136394\n",
       "kenchikunen                3025\n",
       "kouzou                     1033\n",
       "youto                         0\n",
       "mokuteki                 102656\n",
       "dourohoui                136394\n",
       "dourotype                136394\n",
       "douro_fukuin             136394\n",
       "toshikeikaku               2441\n",
       "kenpeiritsu                2986\n",
       "yousekiritsu               2986\n",
       "torihiki_jiten                0\n",
       "bikou                     11627\n",
       "is_reformed                   0\n",
       "is_not_reformed               0\n",
       "is_auction                    0\n",
       "is_direct_transaction         0\n",
       "dtype: int64"
      ]
     },
     "execution_count": 14,
     "metadata": {},
     "output_type": "execute_result"
    }
   ],
   "source": [
    "d.isnull().sum()"
   ]
  },
  {
   "cell_type": "code",
   "execution_count": 15,
   "metadata": {
    "collapsed": false,
    "deletable": true,
    "editable": true
   },
   "outputs": [
    {
     "name": "stderr",
     "output_type": "stream",
     "text": [
      "//anaconda/envs/mlnd-capstone/lib/python3.5/site-packages/ipykernel/__main__.py:1: SettingWithCopyWarning: \n",
      "A value is trying to be set on a copy of a slice from a DataFrame.\n",
      "Try using .loc[row_indexer,col_indexer] = value instead\n",
      "\n",
      "See the caveats in the documentation: http://pandas.pydata.org/pandas-docs/stable/indexing.html#indexing-view-versus-copy\n",
      "  if __name__ == '__main__':\n"
     ]
    },
    {
     "data": {
      "text/html": [
       "<div>\n",
       "<table border=\"1\" class=\"dataframe\">\n",
       "  <thead>\n",
       "    <tr style=\"text-align: right;\">\n",
       "      <th></th>\n",
       "      <th>kenchikunen</th>\n",
       "      <th>kenchiku_year</th>\n",
       "    </tr>\n",
       "    <tr>\n",
       "      <th>id</th>\n",
       "      <th></th>\n",
       "      <th></th>\n",
       "    </tr>\n",
       "  </thead>\n",
       "  <tbody>\n",
       "    <tr>\n",
       "      <th>1</th>\n",
       "      <td>昭和59年</td>\n",
       "      <td>1984.0</td>\n",
       "    </tr>\n",
       "    <tr>\n",
       "      <th>4</th>\n",
       "      <td>平成19年</td>\n",
       "      <td>2007.0</td>\n",
       "    </tr>\n",
       "    <tr>\n",
       "      <th>5</th>\n",
       "      <td>昭和57年</td>\n",
       "      <td>1982.0</td>\n",
       "    </tr>\n",
       "    <tr>\n",
       "      <th>6</th>\n",
       "      <td>平成19年</td>\n",
       "      <td>2007.0</td>\n",
       "    </tr>\n",
       "    <tr>\n",
       "      <th>10</th>\n",
       "      <td>平成11年</td>\n",
       "      <td>1999.0</td>\n",
       "    </tr>\n",
       "  </tbody>\n",
       "</table>\n",
       "</div>"
      ],
      "text/plain": [
       "   kenchikunen  kenchiku_year\n",
       "id                           \n",
       "1        昭和59年         1984.0\n",
       "4        平成19年         2007.0\n",
       "5        昭和57年         1982.0\n",
       "6        平成19年         2007.0\n",
       "10       平成11年         1999.0"
      ]
     },
     "execution_count": 15,
     "metadata": {},
     "output_type": "execute_result"
    }
   ],
   "source": [
    "d['kenchiku_year'] = [np.nan if pd.isnull(y) else kenchikunen[y] for y in d.kenchikunen]\n",
    "d[['kenchikunen', 'kenchiku_year']].head(5)"
   ]
  },
  {
   "cell_type": "markdown",
   "metadata": {
    "deletable": true,
    "editable": true
   },
   "source": [
    "From the kenchiku_year, we can calculate the age of the apartment as of the transaction date. The transaction quarter is available in the data set, so we take the difference between the two years."
   ]
  },
  {
   "cell_type": "code",
   "execution_count": 16,
   "metadata": {
    "collapsed": false,
    "deletable": true,
    "editable": true
   },
   "outputs": [
    {
     "name": "stderr",
     "output_type": "stream",
     "text": [
      "//anaconda/envs/mlnd-capstone/lib/python3.5/site-packages/ipykernel/__main__.py:1: SettingWithCopyWarning: \n",
      "A value is trying to be set on a copy of a slice from a DataFrame.\n",
      "Try using .loc[row_indexer,col_indexer] = value instead\n",
      "\n",
      "See the caveats in the documentation: http://pandas.pydata.org/pandas-docs/stable/indexing.html#indexing-view-versus-copy\n",
      "  if __name__ == '__main__':\n"
     ]
    },
    {
     "data": {
      "text/html": [
       "<div>\n",
       "<table border=\"1\" class=\"dataframe\">\n",
       "  <thead>\n",
       "    <tr style=\"text-align: right;\">\n",
       "      <th></th>\n",
       "      <th>torihiki_jiten</th>\n",
       "      <th>transaction_year</th>\n",
       "    </tr>\n",
       "    <tr>\n",
       "      <th>id</th>\n",
       "      <th></th>\n",
       "      <th></th>\n",
       "    </tr>\n",
       "  </thead>\n",
       "  <tbody>\n",
       "    <tr>\n",
       "      <th>1</th>\n",
       "      <td>平成28年第３四半期</td>\n",
       "      <td>2016</td>\n",
       "    </tr>\n",
       "    <tr>\n",
       "      <th>4</th>\n",
       "      <td>平成28年第１四半期</td>\n",
       "      <td>2016</td>\n",
       "    </tr>\n",
       "    <tr>\n",
       "      <th>5</th>\n",
       "      <td>平成28年第１四半期</td>\n",
       "      <td>2016</td>\n",
       "    </tr>\n",
       "    <tr>\n",
       "      <th>6</th>\n",
       "      <td>平成28年第１四半期</td>\n",
       "      <td>2016</td>\n",
       "    </tr>\n",
       "    <tr>\n",
       "      <th>10</th>\n",
       "      <td>平成27年第４四半期</td>\n",
       "      <td>2015</td>\n",
       "    </tr>\n",
       "  </tbody>\n",
       "</table>\n",
       "</div>"
      ],
      "text/plain": [
       "   torihiki_jiten  transaction_year\n",
       "id                                 \n",
       "1      平成28年第３四半期              2016\n",
       "4      平成28年第１四半期              2016\n",
       "5      平成28年第１四半期              2016\n",
       "6      平成28年第１四半期              2016\n",
       "10     平成27年第４四半期              2015"
      ]
     },
     "execution_count": 16,
     "metadata": {},
     "output_type": "execute_result"
    }
   ],
   "source": [
    "d['transaction_year'] = [kenchikunen[v[:5]] for v in d.torihiki_jiten]\n",
    "d[['torihiki_jiten', 'transaction_year']].head(5)\n",
    "#for x in d.torihiki_jiten[:10]:\n",
    "#    print(x[:5], kenchikunen[x[:5]])"
   ]
  },
  {
   "cell_type": "code",
   "execution_count": 17,
   "metadata": {
    "collapsed": false,
    "deletable": true,
    "editable": true
   },
   "outputs": [
    {
     "name": "stdout",
     "output_type": "stream",
     "text": [
      "id\n",
      "1     32.0\n",
      "4      9.0\n",
      "5     34.0\n",
      "6      9.0\n",
      "10    16.0\n",
      "11    31.0\n",
      "12    33.0\n",
      "13     8.0\n",
      "14    31.0\n",
      "16    31.0\n",
      "17     8.0\n",
      "18    30.0\n",
      "19     NaN\n",
      "20     2.0\n",
      "21    31.0\n",
      "22    11.0\n",
      "23     7.0\n",
      "24     7.0\n",
      "25    11.0\n",
      "26    30.0\n",
      "Name: age, dtype: float64\n"
     ]
    },
    {
     "name": "stderr",
     "output_type": "stream",
     "text": [
      "//anaconda/envs/mlnd-capstone/lib/python3.5/site-packages/ipykernel/__main__.py:1: SettingWithCopyWarning: \n",
      "A value is trying to be set on a copy of a slice from a DataFrame.\n",
      "Try using .loc[row_indexer,col_indexer] = value instead\n",
      "\n",
      "See the caveats in the documentation: http://pandas.pydata.org/pandas-docs/stable/indexing.html#indexing-view-versus-copy\n",
      "  if __name__ == '__main__':\n"
     ]
    }
   ],
   "source": [
    "d['age'] = np.maximum(d.transaction_year - d.kenchiku_year, 0)\n",
    "print(d.age[:20])"
   ]
  },
  {
   "cell_type": "markdown",
   "metadata": {
    "deletable": true,
    "editable": true
   },
   "source": [
    "The price can take a large value, ranging from one million yen. We take the log of the price."
   ]
  },
  {
   "cell_type": "code",
   "execution_count": 18,
   "metadata": {
    "collapsed": false,
    "deletable": true,
    "editable": true
   },
   "outputs": [
    {
     "name": "stderr",
     "output_type": "stream",
     "text": [
      "//anaconda/envs/mlnd-capstone/lib/python3.5/site-packages/ipykernel/__main__.py:1: SettingWithCopyWarning: \n",
      "A value is trying to be set on a copy of a slice from a DataFrame.\n",
      "Try using .loc[row_indexer,col_indexer] = value instead\n",
      "\n",
      "See the caveats in the documentation: http://pandas.pydata.org/pandas-docs/stable/indexing.html#indexing-view-versus-copy\n",
      "  if __name__ == '__main__':\n"
     ]
    }
   ],
   "source": [
    "d['price_log10'] = np.log10(d.price)"
   ]
  },
  {
   "cell_type": "markdown",
   "metadata": {
    "deletable": true,
    "editable": true
   },
   "source": [
    "We now save the data set into pickle so we can re-start easily."
   ]
  },
  {
   "cell_type": "code",
   "execution_count": 19,
   "metadata": {
    "collapsed": false,
    "deletable": true,
    "editable": true
   },
   "outputs": [],
   "source": [
    "# remove useless columns\n",
    "d.isnull().sum()/d.shape[0] # ratio of null values\n",
    "# chiiki, unit_price, unit_price2, keijo, maguchi, nobeyuka, dourohoui, dourotype, douro_fukuin are all NaN\n",
    "d = d.drop(['chiiki','unit_price','unit_price2','keijo','maguchi','nobeyuka','dourohoui','dourotype','douro_fukuin'], axis=1)"
   ]
  },
  {
   "cell_type": "code",
   "execution_count": 20,
   "metadata": {
    "collapsed": false,
    "deletable": true,
    "editable": true
   },
   "outputs": [],
   "source": [
    "d.head(3)\n",
    "# type is all apartment, and ken is Tokyo. so we remove these too.\n",
    "d = d.drop(['type','ken'], axis=1)"
   ]
  },
  {
   "cell_type": "markdown",
   "metadata": {
    "deletable": true,
    "editable": true
   },
   "source": [
    "We are going to use one year of records as the training data set, the next one quarter as the validation and the next one quarter as the test data set.\n",
    "\n",
    "The dataset includes null values. We count the number of blank records for each column."
   ]
  },
  {
   "cell_type": "code",
   "execution_count": 21,
   "metadata": {
    "collapsed": false,
    "deletable": true,
    "editable": true,
    "scrolled": true
   },
   "outputs": [
    {
     "data": {
      "text/plain": [
       "jiscode                     0\n",
       "shi                         0\n",
       "chiku                       0\n",
       "eki                         2\n",
       "ekikyori                   47\n",
       "price                       0\n",
       "madori                   1062\n",
       "menseki                     0\n",
       "kenchikunen               751\n",
       "kouzou                     90\n",
       "youto                       0\n",
       "mokuteki                 1232\n",
       "toshikeikaku              196\n",
       "kenpeiritsu               268\n",
       "yousekiritsu              268\n",
       "torihiki_jiten              0\n",
       "bikou                    3131\n",
       "is_reformed                 0\n",
       "is_not_reformed             0\n",
       "is_auction                  0\n",
       "is_direct_transaction       0\n",
       "kenchiku_year             751\n",
       "transaction_year            0\n",
       "age                       751\n",
       "price_log10                 0\n",
       "dtype: int64"
      ]
     },
     "execution_count": 21,
     "metadata": {},
     "output_type": "execute_result"
    }
   ],
   "source": [
    "d[d.transaction_year>=2015].isnull().sum()"
   ]
  },
  {
   "cell_type": "markdown",
   "metadata": {
    "deletable": true,
    "editable": true
   },
   "source": [
    "## Dummy variables\n",
    "We need to convert character variables by one-hot encoding. First check what variables need to be converted.\n",
    "* shi\n",
    "* chiku\n",
    "* eki\n",
    "* madori\n",
    "* kenchikunen\n",
    "* kouzou\n",
    "* youto\n",
    "* mokuteki\n",
    "* toshikeikaku\n",
    "* bikou\n",
    "\n",
    "Kenchikunen is already conveted to age variable. bikou is converted into is_reformed, is_direct_sales and is_aucition. The rest of the variables will be converted by pandas.get_dummies function. In order to avoid the indistinguishable problem, we drop one of the factors."
   ]
  },
  {
   "cell_type": "code",
   "execution_count": 89,
   "metadata": {
    "collapsed": false,
    "deletable": true,
    "editable": true
   },
   "outputs": [
    {
     "data": {
      "text/html": [
       "<div>\n",
       "<table border=\"1\" class=\"dataframe\">\n",
       "  <thead>\n",
       "    <tr style=\"text-align: right;\">\n",
       "      <th></th>\n",
       "      <th>shi</th>\n",
       "      <th>chiku</th>\n",
       "      <th>eki</th>\n",
       "      <th>madori</th>\n",
       "      <th>kenchikunen</th>\n",
       "      <th>kouzou</th>\n",
       "      <th>youto</th>\n",
       "      <th>mokuteki</th>\n",
       "      <th>toshikeikaku</th>\n",
       "      <th>bikou</th>\n",
       "    </tr>\n",
       "    <tr>\n",
       "      <th>id</th>\n",
       "      <th></th>\n",
       "      <th></th>\n",
       "      <th></th>\n",
       "      <th></th>\n",
       "      <th></th>\n",
       "      <th></th>\n",
       "      <th></th>\n",
       "      <th></th>\n",
       "      <th></th>\n",
       "      <th></th>\n",
       "    </tr>\n",
       "  </thead>\n",
       "  <tbody>\n",
       "    <tr>\n",
       "      <th>1</th>\n",
       "      <td>千代田区</td>\n",
       "      <td>飯田橋</td>\n",
       "      <td>飯田橋</td>\n",
       "      <td>２ＬＤＫ</td>\n",
       "      <td>昭和59年</td>\n",
       "      <td>ＳＲＣ</td>\n",
       "      <td>住宅</td>\n",
       "      <td>住宅</td>\n",
       "      <td>商業地域</td>\n",
       "      <td>未改装を購入</td>\n",
       "    </tr>\n",
       "    <tr>\n",
       "      <th>4</th>\n",
       "      <td>千代田区</td>\n",
       "      <td>飯田橋</td>\n",
       "      <td>飯田橋</td>\n",
       "      <td>２ＬＤＫ</td>\n",
       "      <td>平成19年</td>\n",
       "      <td>ＲＣ</td>\n",
       "      <td>住宅</td>\n",
       "      <td>住宅</td>\n",
       "      <td>商業地域</td>\n",
       "      <td>未改装を購入</td>\n",
       "    </tr>\n",
       "    <tr>\n",
       "      <th>5</th>\n",
       "      <td>千代田区</td>\n",
       "      <td>飯田橋</td>\n",
       "      <td>飯田橋</td>\n",
       "      <td>１Ｋ</td>\n",
       "      <td>昭和57年</td>\n",
       "      <td>ＳＲＣ</td>\n",
       "      <td>住宅</td>\n",
       "      <td>事務所</td>\n",
       "      <td>商業地域</td>\n",
       "      <td>未改装を購入</td>\n",
       "    </tr>\n",
       "    <tr>\n",
       "      <th>6</th>\n",
       "      <td>千代田区</td>\n",
       "      <td>飯田橋</td>\n",
       "      <td>飯田橋</td>\n",
       "      <td>３ＬＤＫ</td>\n",
       "      <td>平成19年</td>\n",
       "      <td>ＲＣ</td>\n",
       "      <td>住宅</td>\n",
       "      <td>住宅</td>\n",
       "      <td>商業地域</td>\n",
       "      <td>未改装を購入</td>\n",
       "    </tr>\n",
       "    <tr>\n",
       "      <th>10</th>\n",
       "      <td>千代田区</td>\n",
       "      <td>飯田橋</td>\n",
       "      <td>飯田橋</td>\n",
       "      <td>１ＤＫ</td>\n",
       "      <td>平成11年</td>\n",
       "      <td>ＳＲＣ</td>\n",
       "      <td>住宅</td>\n",
       "      <td>住宅</td>\n",
       "      <td>商業地域</td>\n",
       "      <td>改装済を購入</td>\n",
       "    </tr>\n",
       "    <tr>\n",
       "      <th>11</th>\n",
       "      <td>千代田区</td>\n",
       "      <td>飯田橋</td>\n",
       "      <td>飯田橋</td>\n",
       "      <td>NaN</td>\n",
       "      <td>昭和59年</td>\n",
       "      <td>ＳＲＣ</td>\n",
       "      <td>住宅</td>\n",
       "      <td>住宅</td>\n",
       "      <td>商業地域</td>\n",
       "      <td>未改装を購入</td>\n",
       "    </tr>\n",
       "    <tr>\n",
       "      <th>12</th>\n",
       "      <td>千代田区</td>\n",
       "      <td>飯田橋</td>\n",
       "      <td>飯田橋</td>\n",
       "      <td>２ＤＫ</td>\n",
       "      <td>昭和57年</td>\n",
       "      <td>ＳＲＣ</td>\n",
       "      <td>住宅</td>\n",
       "      <td>住宅</td>\n",
       "      <td>商業地域</td>\n",
       "      <td>改装済を購入</td>\n",
       "    </tr>\n",
       "    <tr>\n",
       "      <th>13</th>\n",
       "      <td>千代田区</td>\n",
       "      <td>飯田橋</td>\n",
       "      <td>飯田橋</td>\n",
       "      <td>１ＬＤＫ</td>\n",
       "      <td>平成19年</td>\n",
       "      <td>ＲＣ</td>\n",
       "      <td>住宅</td>\n",
       "      <td>住宅</td>\n",
       "      <td>商業地域</td>\n",
       "      <td>未改装を購入</td>\n",
       "    </tr>\n",
       "    <tr>\n",
       "      <th>14</th>\n",
       "      <td>千代田区</td>\n",
       "      <td>飯田橋</td>\n",
       "      <td>飯田橋</td>\n",
       "      <td>２ＬＤＫ</td>\n",
       "      <td>昭和59年</td>\n",
       "      <td>ＳＲＣ</td>\n",
       "      <td>住宅</td>\n",
       "      <td>住宅</td>\n",
       "      <td>商業地域</td>\n",
       "      <td>未改装を購入</td>\n",
       "    </tr>\n",
       "    <tr>\n",
       "      <th>16</th>\n",
       "      <td>千代田区</td>\n",
       "      <td>飯田橋</td>\n",
       "      <td>飯田橋</td>\n",
       "      <td>３ＬＤＫ</td>\n",
       "      <td>昭和59年</td>\n",
       "      <td>ＳＲＣ</td>\n",
       "      <td>住宅</td>\n",
       "      <td>住宅</td>\n",
       "      <td>商業地域</td>\n",
       "      <td>NaN</td>\n",
       "    </tr>\n",
       "  </tbody>\n",
       "</table>\n",
       "</div>"
      ],
      "text/plain": [
       "     shi chiku  eki madori kenchikunen kouzou youto mokuteki toshikeikaku  \\\n",
       "id                                                                          \n",
       "1   千代田区   飯田橋  飯田橋   ２ＬＤＫ       昭和59年    ＳＲＣ    住宅       住宅         商業地域   \n",
       "4   千代田区   飯田橋  飯田橋   ２ＬＤＫ       平成19年     ＲＣ    住宅       住宅         商業地域   \n",
       "5   千代田区   飯田橋  飯田橋     １Ｋ       昭和57年    ＳＲＣ    住宅      事務所         商業地域   \n",
       "6   千代田区   飯田橋  飯田橋   ３ＬＤＫ       平成19年     ＲＣ    住宅       住宅         商業地域   \n",
       "10  千代田区   飯田橋  飯田橋    １ＤＫ       平成11年    ＳＲＣ    住宅       住宅         商業地域   \n",
       "11  千代田区   飯田橋  飯田橋    NaN       昭和59年    ＳＲＣ    住宅       住宅         商業地域   \n",
       "12  千代田区   飯田橋  飯田橋    ２ＤＫ       昭和57年    ＳＲＣ    住宅       住宅         商業地域   \n",
       "13  千代田区   飯田橋  飯田橋   １ＬＤＫ       平成19年     ＲＣ    住宅       住宅         商業地域   \n",
       "14  千代田区   飯田橋  飯田橋   ２ＬＤＫ       昭和59年    ＳＲＣ    住宅       住宅         商業地域   \n",
       "16  千代田区   飯田橋  飯田橋   ３ＬＤＫ       昭和59年    ＳＲＣ    住宅       住宅         商業地域   \n",
       "\n",
       "     bikou  \n",
       "id          \n",
       "1   未改装を購入  \n",
       "4   未改装を購入  \n",
       "5   未改装を購入  \n",
       "6   未改装を購入  \n",
       "10  改装済を購入  \n",
       "11  未改装を購入  \n",
       "12  改装済を購入  \n",
       "13  未改装を購入  \n",
       "14  未改装を購入  \n",
       "16     NaN  "
      ]
     },
     "execution_count": 89,
     "metadata": {},
     "output_type": "execute_result"
    }
   ],
   "source": [
    "d[['shi','chiku','eki','madori','kenchikunen','kouzou','youto','mokuteki','toshikeikaku','bikou']].head(10)"
   ]
  },
  {
   "cell_type": "markdown",
   "metadata": {
    "deletable": true,
    "editable": true
   },
   "source": [
    "### Toshikeikaku\n",
    "Toshikeikaku (zoning) has 10 categories. https://en.wikipedia.org/wiki/Zoning#Japan\n",
    "\n",
    "It shows whether the area can be used for what types of building and the shape of the area."
   ]
  },
  {
   "cell_type": "code",
   "execution_count": 101,
   "metadata": {
    "collapsed": false,
    "deletable": true,
    "editable": true
   },
   "outputs": [
    {
     "data": {
      "text/html": [
       "<div>\n",
       "<table border=\"1\" class=\"dataframe\">\n",
       "  <thead>\n",
       "    <tr style=\"text-align: right;\">\n",
       "      <th></th>\n",
       "      <th>toshikeikaku</th>\n",
       "      <th>count</th>\n",
       "    </tr>\n",
       "  </thead>\n",
       "  <tbody>\n",
       "    <tr>\n",
       "      <th>0</th>\n",
       "      <td>商業地域</td>\n",
       "      <td>41998</td>\n",
       "    </tr>\n",
       "    <tr>\n",
       "      <th>4</th>\n",
       "      <td>準工業地域</td>\n",
       "      <td>25024</td>\n",
       "    </tr>\n",
       "    <tr>\n",
       "      <th>6</th>\n",
       "      <td>第１種中高層住居専用地域</td>\n",
       "      <td>17447</td>\n",
       "    </tr>\n",
       "    <tr>\n",
       "      <th>12</th>\n",
       "      <td>近隣商業地域</td>\n",
       "      <td>17369</td>\n",
       "    </tr>\n",
       "    <tr>\n",
       "      <th>8</th>\n",
       "      <td>第１種住居地域</td>\n",
       "      <td>13511</td>\n",
       "    </tr>\n",
       "    <tr>\n",
       "      <th>11</th>\n",
       "      <td>第２種住居地域</td>\n",
       "      <td>4828</td>\n",
       "    </tr>\n",
       "    <tr>\n",
       "      <th>7</th>\n",
       "      <td>第１種低層住居専用地域</td>\n",
       "      <td>4738</td>\n",
       "    </tr>\n",
       "    <tr>\n",
       "      <th>9</th>\n",
       "      <td>第２種中高層住居専用地域</td>\n",
       "      <td>3302</td>\n",
       "    </tr>\n",
       "    <tr>\n",
       "      <th>3</th>\n",
       "      <td>準住居地域</td>\n",
       "      <td>2698</td>\n",
       "    </tr>\n",
       "    <tr>\n",
       "      <th>1</th>\n",
       "      <td>工業地域</td>\n",
       "      <td>2600</td>\n",
       "    </tr>\n",
       "    <tr>\n",
       "      <th>10</th>\n",
       "      <td>第２種低層住居専用地域</td>\n",
       "      <td>366</td>\n",
       "    </tr>\n",
       "    <tr>\n",
       "      <th>2</th>\n",
       "      <td>工業専用地域</td>\n",
       "      <td>36</td>\n",
       "    </tr>\n",
       "    <tr>\n",
       "      <th>5</th>\n",
       "      <td>準都市計画区域</td>\n",
       "      <td>1</td>\n",
       "    </tr>\n",
       "  </tbody>\n",
       "</table>\n",
       "</div>"
      ],
      "text/plain": [
       "    toshikeikaku  count\n",
       "0           商業地域  41998\n",
       "4          準工業地域  25024\n",
       "6   第１種中高層住居専用地域  17447\n",
       "12        近隣商業地域  17369\n",
       "8        第１種住居地域  13511\n",
       "11       第２種住居地域   4828\n",
       "7    第１種低層住居専用地域   4738\n",
       "9   第２種中高層住居専用地域   3302\n",
       "3          準住居地域   2698\n",
       "1           工業地域   2600\n",
       "10   第２種低層住居専用地域    366\n",
       "2         工業専用地域     36\n",
       "5        準都市計画区域      1"
      ]
     },
     "execution_count": 101,
     "metadata": {},
     "output_type": "execute_result"
    }
   ],
   "source": [
    "d.groupby('toshikeikaku')['eki'].count().reset_index(name='count').sort_values(['count'], ascending=False)"
   ]
  },
  {
   "cell_type": "markdown",
   "metadata": {
    "deletable": true,
    "editable": true
   },
   "source": [
    "準都市計画区域 has only one count, so we drop this."
   ]
  },
  {
   "cell_type": "code",
   "execution_count": 125,
   "metadata": {
    "collapsed": false,
    "deletable": true,
    "editable": true
   },
   "outputs": [
    {
     "name": "stdout",
     "output_type": "stream",
     "text": [
      "Index(['zoning_商業地域', 'zoning_工業地域', 'zoning_工業専用地域', 'zoning_準住居地域',\n",
      "       'zoning_準工業地域', 'zoning_準都市計画区域', 'zoning_第１種中高層住居専用地域',\n",
      "       'zoning_第１種低層住居専用地域', 'zoning_第１種住居地域', 'zoning_第２種中高層住居専用地域',\n",
      "       'zoning_第２種低層住居専用地域', 'zoning_第２種住居地域', 'zoning_近隣商業地域'],\n",
      "      dtype='object')\n"
     ]
    }
   ],
   "source": [
    "zoning = pd.get_dummies(d.toshikeikaku, prefix='zoning')\n",
    "print(zoning.columns)\n",
    "zoning = zoning.drop(['zoning_準都市計画区域'], axis=1)"
   ]
  },
  {
   "cell_type": "markdown",
   "metadata": {
    "deletable": true,
    "editable": true
   },
   "source": [
    "### Youto & Mokuteki\n",
    "As we already filtered youto = '住宅' it has only one value and no need to convert to dummy variable. Mokuteki has four levels; housing, office, shop and other.\n"
   ]
  },
  {
   "cell_type": "code",
   "execution_count": 128,
   "metadata": {
    "collapsed": false,
    "deletable": true,
    "editable": true
   },
   "outputs": [
    {
     "data": {
      "text/html": [
       "<div>\n",
       "<table border=\"1\" class=\"dataframe\">\n",
       "  <thead>\n",
       "    <tr style=\"text-align: right;\">\n",
       "      <th></th>\n",
       "      <th>mokuteki</th>\n",
       "      <th>count</th>\n",
       "    </tr>\n",
       "  </thead>\n",
       "  <tbody>\n",
       "    <tr>\n",
       "      <th>2</th>\n",
       "      <td>住宅</td>\n",
       "      <td>30867</td>\n",
       "    </tr>\n",
       "    <tr>\n",
       "      <th>0</th>\n",
       "      <td>その他</td>\n",
       "      <td>2464</td>\n",
       "    </tr>\n",
       "    <tr>\n",
       "      <th>1</th>\n",
       "      <td>事務所</td>\n",
       "      <td>395</td>\n",
       "    </tr>\n",
       "    <tr>\n",
       "      <th>3</th>\n",
       "      <td>店舗</td>\n",
       "      <td>10</td>\n",
       "    </tr>\n",
       "  </tbody>\n",
       "</table>\n",
       "</div>"
      ],
      "text/plain": [
       "  mokuteki  count\n",
       "2       住宅  30867\n",
       "0      その他   2464\n",
       "1      事務所    395\n",
       "3       店舗     10"
      ]
     },
     "execution_count": 128,
     "metadata": {},
     "output_type": "execute_result"
    }
   ],
   "source": [
    "d.groupby('mokuteki')['eki'].count().reset_index(name='count').sort_values(['count'], ascending=False)"
   ]
  },
  {
   "cell_type": "code",
   "execution_count": 130,
   "metadata": {
    "collapsed": false,
    "deletable": true,
    "editable": true
   },
   "outputs": [
    {
     "data": {
      "text/plain": [
       "Index(['purpose_その他', 'purpose_事務所', 'purpose_住宅'], dtype='object')"
      ]
     },
     "execution_count": 130,
     "metadata": {},
     "output_type": "execute_result"
    }
   ],
   "source": [
    "purpose = pd.get_dummies(d.mokuteki, prefix='purpose')\n",
    "purpose = purpose.drop(['purpose_店舗'], axis=1)\n",
    "purpose.columns"
   ]
  },
  {
   "cell_type": "markdown",
   "metadata": {
    "deletable": true,
    "editable": true
   },
   "source": [
    "### Kouzou\n",
    "We have Reinforced-Concrete (RC), steel reinforced concrete (SRC), Steel, and a combination of these."
   ]
  },
  {
   "cell_type": "code",
   "execution_count": 132,
   "metadata": {
    "collapsed": false,
    "deletable": true,
    "editable": true
   },
   "outputs": [
    {
     "data": {
      "text/html": [
       "<div>\n",
       "<table border=\"1\" class=\"dataframe\">\n",
       "  <thead>\n",
       "    <tr style=\"text-align: right;\">\n",
       "      <th></th>\n",
       "      <th>kouzou</th>\n",
       "      <th>count</th>\n",
       "    </tr>\n",
       "  </thead>\n",
       "  <tbody>\n",
       "    <tr>\n",
       "      <th>3</th>\n",
       "      <td>ＲＣ</td>\n",
       "      <td>90901</td>\n",
       "    </tr>\n",
       "    <tr>\n",
       "      <th>6</th>\n",
       "      <td>ＳＲＣ</td>\n",
       "      <td>43072</td>\n",
       "    </tr>\n",
       "    <tr>\n",
       "      <th>2</th>\n",
       "      <td>鉄骨造</td>\n",
       "      <td>1025</td>\n",
       "    </tr>\n",
       "    <tr>\n",
       "      <th>8</th>\n",
       "      <td>ＳＲＣ、ＲＣ</td>\n",
       "      <td>77</td>\n",
       "    </tr>\n",
       "    <tr>\n",
       "      <th>5</th>\n",
       "      <td>ＲＣ、鉄骨造</td>\n",
       "      <td>58</td>\n",
       "    </tr>\n",
       "    <tr>\n",
       "      <th>1</th>\n",
       "      <td>軽量鉄骨造</td>\n",
       "      <td>8</td>\n",
       "    </tr>\n",
       "    <tr>\n",
       "      <th>0</th>\n",
       "      <td>木造</td>\n",
       "      <td>7</td>\n",
       "    </tr>\n",
       "    <tr>\n",
       "      <th>4</th>\n",
       "      <td>ＲＣ、木造</td>\n",
       "      <td>1</td>\n",
       "    </tr>\n",
       "    <tr>\n",
       "      <th>7</th>\n",
       "      <td>ＳＲＣ、鉄骨造</td>\n",
       "      <td>1</td>\n",
       "    </tr>\n",
       "  </tbody>\n",
       "</table>\n",
       "</div>"
      ],
      "text/plain": [
       "    kouzou  count\n",
       "3       ＲＣ  90901\n",
       "6      ＳＲＣ  43072\n",
       "2      鉄骨造   1025\n",
       "8   ＳＲＣ、ＲＣ     77\n",
       "5   ＲＣ、鉄骨造     58\n",
       "1    軽量鉄骨造      8\n",
       "0       木造      7\n",
       "4    ＲＣ、木造      1\n",
       "7  ＳＲＣ、鉄骨造      1"
      ]
     },
     "execution_count": 132,
     "metadata": {},
     "output_type": "execute_result"
    }
   ],
   "source": [
    "d.groupby('kouzou')['eki'].count().reset_index(name='count').sort_values(['count'], ascending=False)"
   ]
  },
  {
   "cell_type": "code",
   "execution_count": 135,
   "metadata": {
    "collapsed": false,
    "deletable": true,
    "editable": true
   },
   "outputs": [
    {
     "data": {
      "text/plain": [
       "Index(['material_鉄骨造', 'material_ＲＣ', 'material_ＳＲＣ'], dtype='object')"
      ]
     },
     "execution_count": 135,
     "metadata": {},
     "output_type": "execute_result"
    }
   ],
   "source": [
    "material = pd.get_dummies(d.kouzou, prefix='material')\n",
    "material = material.drop(['material_ＳＲＣ、ＲＣ', 'material_ＲＣ、鉄骨造', \n",
    "               'material_軽量鉄骨造', 'material_木造', 'material_ＲＣ、木造', 'material_ＳＲＣ、鉄骨造'],\n",
    "             axis = 1)\n",
    "material.columns"
   ]
  },
  {
   "cell_type": "markdown",
   "metadata": {
    "deletable": true,
    "editable": true
   },
   "source": [
    "### Madori\n",
    "Madori is convereted into the number of bedrooms. "
   ]
  },
  {
   "cell_type": "code",
   "execution_count": 137,
   "metadata": {
    "collapsed": false,
    "deletable": true,
    "editable": true
   },
   "outputs": [],
   "source": [
    "#print(d.groupby('madori')['torihiki_jiten'].count())\n",
    "# d['bedrooms']\n",
    "x=d.madori[:10].values\n",
    "\"\"\"\n",
    "オープンフロア      272\n",
    "スタジオ          62\n",
    "メゾネット          8\n",
    "\"\"\"\n",
    "#print(x[5])\n",
    "#print(isinstance(x[5], str))\n",
    "# [map(int, v[0]) for v in x]\n",
    "#print(int(x[5][0]))\n",
    "def numberOfRooms(madori):\n",
    "    try:\n",
    "        return int(madori[0])\n",
    "    except TypeError:\n",
    "        return 0\n",
    "    except ValueError:\n",
    "        return 0\n",
    "numrooms = []\n",
    "for x in d.madori:\n",
    "    numrooms.append(numberOfRooms(x))\n",
    "d['bedrooms'] = numrooms\n",
    "# numberOfRooms(x[:10])\n",
    "#d['bedrooms'] = [map(numberOfRooms, x) for x in d.madori]\n",
    "#[map(numberOfRooms, x) for x in d.madori[:10].values]"
   ]
  },
  {
   "cell_type": "markdown",
   "metadata": {
    "deletable": true,
    "editable": true
   },
   "source": [
    "### Shi, Chiku and Eki\n",
    "We have area variables. Shi (Town), Chiku (area) and Eki (Station). First we check the distribution of these variables."
   ]
  },
  {
   "cell_type": "code",
   "execution_count": 142,
   "metadata": {
    "collapsed": false,
    "deletable": true,
    "editable": true
   },
   "outputs": [
    {
     "data": {
      "text/html": [
       "<div>\n",
       "<table border=\"1\" class=\"dataframe\">\n",
       "  <thead>\n",
       "    <tr style=\"text-align: right;\">\n",
       "      <th></th>\n",
       "      <th>shi</th>\n",
       "      <th>count</th>\n",
       "    </tr>\n",
       "  </thead>\n",
       "  <tbody>\n",
       "    <tr>\n",
       "      <th>14</th>\n",
       "      <td>大田区</td>\n",
       "      <td>8555</td>\n",
       "    </tr>\n",
       "    <tr>\n",
       "      <th>30</th>\n",
       "      <td>江東区</td>\n",
       "      <td>7996</td>\n",
       "    </tr>\n",
       "    <tr>\n",
       "      <th>2</th>\n",
       "      <td>世田谷区</td>\n",
       "      <td>7812</td>\n",
       "    </tr>\n",
       "    <tr>\n",
       "      <th>33</th>\n",
       "      <td>港区</td>\n",
       "      <td>7776</td>\n",
       "    </tr>\n",
       "    <tr>\n",
       "      <th>19</th>\n",
       "      <td>新宿区</td>\n",
       "      <td>6996</td>\n",
       "    </tr>\n",
       "    <tr>\n",
       "      <th>9</th>\n",
       "      <td>品川区</td>\n",
       "      <td>6529</td>\n",
       "    </tr>\n",
       "    <tr>\n",
       "      <th>26</th>\n",
       "      <td>板橋区</td>\n",
       "      <td>6170</td>\n",
       "    </tr>\n",
       "    <tr>\n",
       "      <th>3</th>\n",
       "      <td>中央区</td>\n",
       "      <td>5709</td>\n",
       "    </tr>\n",
       "    <tr>\n",
       "      <th>40</th>\n",
       "      <td>練馬区</td>\n",
       "      <td>5601</td>\n",
       "    </tr>\n",
       "    <tr>\n",
       "      <th>48</th>\n",
       "      <td>足立区</td>\n",
       "      <td>5012</td>\n",
       "    </tr>\n",
       "    <tr>\n",
       "      <th>22</th>\n",
       "      <td>杉並区</td>\n",
       "      <td>4980</td>\n",
       "    </tr>\n",
       "    <tr>\n",
       "      <th>18</th>\n",
       "      <td>文京区</td>\n",
       "      <td>4729</td>\n",
       "    </tr>\n",
       "    <tr>\n",
       "      <th>32</th>\n",
       "      <td>渋谷区</td>\n",
       "      <td>4648</td>\n",
       "    </tr>\n",
       "    <tr>\n",
       "      <th>47</th>\n",
       "      <td>豊島区</td>\n",
       "      <td>4451</td>\n",
       "    </tr>\n",
       "    <tr>\n",
       "      <th>12</th>\n",
       "      <td>墨田区</td>\n",
       "      <td>4353</td>\n",
       "    </tr>\n",
       "    <tr>\n",
       "      <th>8</th>\n",
       "      <td>台東区</td>\n",
       "      <td>3748</td>\n",
       "    </tr>\n",
       "    <tr>\n",
       "      <th>29</th>\n",
       "      <td>江戸川区</td>\n",
       "      <td>3417</td>\n",
       "    </tr>\n",
       "    <tr>\n",
       "      <th>43</th>\n",
       "      <td>葛飾区</td>\n",
       "      <td>3298</td>\n",
       "    </tr>\n",
       "    <tr>\n",
       "      <th>36</th>\n",
       "      <td>目黒区</td>\n",
       "      <td>3166</td>\n",
       "    </tr>\n",
       "    <tr>\n",
       "      <th>5</th>\n",
       "      <td>八王子市</td>\n",
       "      <td>3160</td>\n",
       "    </tr>\n",
       "    <tr>\n",
       "      <th>4</th>\n",
       "      <td>中野区</td>\n",
       "      <td>2962</td>\n",
       "    </tr>\n",
       "    <tr>\n",
       "      <th>6</th>\n",
       "      <td>北区</td>\n",
       "      <td>2957</td>\n",
       "    </tr>\n",
       "    <tr>\n",
       "      <th>42</th>\n",
       "      <td>荒川区</td>\n",
       "      <td>2372</td>\n",
       "    </tr>\n",
       "    <tr>\n",
       "      <th>7</th>\n",
       "      <td>千代田区</td>\n",
       "      <td>2116</td>\n",
       "    </tr>\n",
       "    <tr>\n",
       "      <th>17</th>\n",
       "      <td>府中市</td>\n",
       "      <td>1759</td>\n",
       "    </tr>\n",
       "    <tr>\n",
       "      <th>35</th>\n",
       "      <td>町田市</td>\n",
       "      <td>1619</td>\n",
       "    </tr>\n",
       "    <tr>\n",
       "      <th>46</th>\n",
       "      <td>調布市</td>\n",
       "      <td>1555</td>\n",
       "    </tr>\n",
       "    <tr>\n",
       "      <th>13</th>\n",
       "      <td>多摩市</td>\n",
       "      <td>1341</td>\n",
       "    </tr>\n",
       "    <tr>\n",
       "      <th>45</th>\n",
       "      <td>西東京市</td>\n",
       "      <td>1192</td>\n",
       "    </tr>\n",
       "    <tr>\n",
       "      <th>39</th>\n",
       "      <td>立川市</td>\n",
       "      <td>1038</td>\n",
       "    </tr>\n",
       "    <tr>\n",
       "      <th>49</th>\n",
       "      <td>青梅市</td>\n",
       "      <td>904</td>\n",
       "    </tr>\n",
       "    <tr>\n",
       "      <th>28</th>\n",
       "      <td>武蔵野市</td>\n",
       "      <td>785</td>\n",
       "    </tr>\n",
       "    <tr>\n",
       "      <th>15</th>\n",
       "      <td>小平市</td>\n",
       "      <td>750</td>\n",
       "    </tr>\n",
       "    <tr>\n",
       "      <th>25</th>\n",
       "      <td>東村山市</td>\n",
       "      <td>724</td>\n",
       "    </tr>\n",
       "    <tr>\n",
       "      <th>1</th>\n",
       "      <td>三鷹市</td>\n",
       "      <td>704</td>\n",
       "    </tr>\n",
       "    <tr>\n",
       "      <th>20</th>\n",
       "      <td>日野市</td>\n",
       "      <td>637</td>\n",
       "    </tr>\n",
       "    <tr>\n",
       "      <th>10</th>\n",
       "      <td>国分寺市</td>\n",
       "      <td>581</td>\n",
       "    </tr>\n",
       "    <tr>\n",
       "      <th>38</th>\n",
       "      <td>稲城市</td>\n",
       "      <td>568</td>\n",
       "    </tr>\n",
       "    <tr>\n",
       "      <th>16</th>\n",
       "      <td>小金井市</td>\n",
       "      <td>528</td>\n",
       "    </tr>\n",
       "    <tr>\n",
       "      <th>34</th>\n",
       "      <td>狛江市</td>\n",
       "      <td>500</td>\n",
       "    </tr>\n",
       "    <tr>\n",
       "      <th>23</th>\n",
       "      <td>東久留米市</td>\n",
       "      <td>447</td>\n",
       "    </tr>\n",
       "    <tr>\n",
       "      <th>21</th>\n",
       "      <td>昭島市</td>\n",
       "      <td>432</td>\n",
       "    </tr>\n",
       "    <tr>\n",
       "      <th>11</th>\n",
       "      <td>国立市</td>\n",
       "      <td>428</td>\n",
       "    </tr>\n",
       "    <tr>\n",
       "      <th>24</th>\n",
       "      <td>東大和市</td>\n",
       "      <td>328</td>\n",
       "    </tr>\n",
       "    <tr>\n",
       "      <th>31</th>\n",
       "      <td>清瀬市</td>\n",
       "      <td>261</td>\n",
       "    </tr>\n",
       "    <tr>\n",
       "      <th>37</th>\n",
       "      <td>福生市</td>\n",
       "      <td>243</td>\n",
       "    </tr>\n",
       "    <tr>\n",
       "      <th>41</th>\n",
       "      <td>羽村市</td>\n",
       "      <td>185</td>\n",
       "    </tr>\n",
       "    <tr>\n",
       "      <th>27</th>\n",
       "      <td>武蔵村山市</td>\n",
       "      <td>63</td>\n",
       "    </tr>\n",
       "    <tr>\n",
       "      <th>0</th>\n",
       "      <td>あきる野市</td>\n",
       "      <td>17</td>\n",
       "    </tr>\n",
       "    <tr>\n",
       "      <th>44</th>\n",
       "      <td>西多摩郡瑞穂町</td>\n",
       "      <td>9</td>\n",
       "    </tr>\n",
       "  </tbody>\n",
       "</table>\n",
       "</div>"
      ],
      "text/plain": [
       "        shi  count\n",
       "14      大田区   8555\n",
       "30      江東区   7996\n",
       "2      世田谷区   7812\n",
       "33       港区   7776\n",
       "19      新宿区   6996\n",
       "9       品川区   6529\n",
       "26      板橋区   6170\n",
       "3       中央区   5709\n",
       "40      練馬区   5601\n",
       "48      足立区   5012\n",
       "22      杉並区   4980\n",
       "18      文京区   4729\n",
       "32      渋谷区   4648\n",
       "47      豊島区   4451\n",
       "12      墨田区   4353\n",
       "8       台東区   3748\n",
       "29     江戸川区   3417\n",
       "43      葛飾区   3298\n",
       "36      目黒区   3166\n",
       "5      八王子市   3160\n",
       "4       中野区   2962\n",
       "6        北区   2957\n",
       "42      荒川区   2372\n",
       "7      千代田区   2116\n",
       "17      府中市   1759\n",
       "35      町田市   1619\n",
       "46      調布市   1555\n",
       "13      多摩市   1341\n",
       "45     西東京市   1192\n",
       "39      立川市   1038\n",
       "49      青梅市    904\n",
       "28     武蔵野市    785\n",
       "15      小平市    750\n",
       "25     東村山市    724\n",
       "1       三鷹市    704\n",
       "20      日野市    637\n",
       "10     国分寺市    581\n",
       "38      稲城市    568\n",
       "16     小金井市    528\n",
       "34      狛江市    500\n",
       "23    東久留米市    447\n",
       "21      昭島市    432\n",
       "11      国立市    428\n",
       "24     東大和市    328\n",
       "31      清瀬市    261\n",
       "37      福生市    243\n",
       "41      羽村市    185\n",
       "27    武蔵村山市     63\n",
       "0     あきる野市     17\n",
       "44  西多摩郡瑞穂町      9"
      ]
     },
     "execution_count": 142,
     "metadata": {},
     "output_type": "execute_result"
    }
   ],
   "source": [
    "d.groupby('shi')['eki'].count().reset_index(name='count').sort_values(['count'], ascending=False)\n",
    "#d.groupby('shi')['eki'].count().reset_index(name='count')"
   ]
  },
  {
   "cell_type": "markdown",
   "metadata": {
    "deletable": true,
    "editable": true
   },
   "source": [
    "There are 50 values in \"Shi\" variable, and it stands for a name of a town. We drop 西多摩郡瑞穂町 which has the smallest sample."
   ]
  },
  {
   "cell_type": "code",
   "execution_count": 186,
   "metadata": {
    "collapsed": false,
    "deletable": true,
    "editable": true
   },
   "outputs": [
    {
     "data": {
      "text/plain": [
       "Index(['town_あきる野市', 'town_三鷹市', 'town_世田谷区', 'town_中央区', 'town_中野区',\n",
       "       'town_八王子市', 'town_北区', 'town_千代田区', 'town_台東区', 'town_品川区',\n",
       "       'town_国分寺市', 'town_国立市', 'town_墨田区', 'town_多摩市', 'town_大田区', 'town_小平市',\n",
       "       'town_小金井市', 'town_府中市', 'town_文京区', 'town_新宿区', 'town_日野市', 'town_昭島市',\n",
       "       'town_杉並区', 'town_東久留米市', 'town_東大和市', 'town_東村山市', 'town_板橋区',\n",
       "       'town_武蔵村山市', 'town_武蔵野市', 'town_江戸川区', 'town_江東区', 'town_清瀬市',\n",
       "       'town_渋谷区', 'town_港区', 'town_狛江市', 'town_町田市', 'town_目黒区', 'town_福生市',\n",
       "       'town_稲城市', 'town_立川市', 'town_練馬区', 'town_羽村市', 'town_荒川区', 'town_葛飾区',\n",
       "       'town_西東京市', 'town_調布市', 'town_豊島区', 'town_足立区', 'town_青梅市'],\n",
       "      dtype='object')"
      ]
     },
     "execution_count": 186,
     "metadata": {},
     "output_type": "execute_result"
    }
   ],
   "source": [
    "town = pd.get_dummies(d.shi, prefix='town')\n",
    "town = town.drop(['town_西多摩郡瑞穂町'], axis=1)\n",
    "town.columns"
   ]
  },
  {
   "cell_type": "markdown",
   "metadata": {
    "deletable": true,
    "editable": true
   },
   "source": [
    "There are 1178 distinct values for 'chiku' variable. This represents an area of blocks inside a town. There are too many values so we ignore this variable. "
   ]
  },
  {
   "cell_type": "code",
   "execution_count": 187,
   "metadata": {
    "collapsed": false,
    "deletable": true,
    "editable": true
   },
   "outputs": [
    {
     "data": {
      "text/html": [
       "<div>\n",
       "<table border=\"1\" class=\"dataframe\">\n",
       "  <thead>\n",
       "    <tr style=\"text-align: right;\">\n",
       "      <th></th>\n",
       "      <th>chiku</th>\n",
       "      <th>count</th>\n",
       "    </tr>\n",
       "  </thead>\n",
       "  <tbody>\n",
       "    <tr>\n",
       "      <th>620</th>\n",
       "      <td>本町</td>\n",
       "      <td>1536</td>\n",
       "    </tr>\n",
       "    <tr>\n",
       "      <th>120</th>\n",
       "      <td>亀戸</td>\n",
       "      <td>1222</td>\n",
       "    </tr>\n",
       "    <tr>\n",
       "      <th>23</th>\n",
       "      <td>三田</td>\n",
       "      <td>903</td>\n",
       "    </tr>\n",
       "    <tr>\n",
       "      <th>1021</th>\n",
       "      <td>西新宿</td>\n",
       "      <td>896</td>\n",
       "    </tr>\n",
       "    <tr>\n",
       "      <th>958</th>\n",
       "      <td>芝浦</td>\n",
       "      <td>877</td>\n",
       "    </tr>\n",
       "    <tr>\n",
       "      <th>268</th>\n",
       "      <td>南大井</td>\n",
       "      <td>871</td>\n",
       "    </tr>\n",
       "    <tr>\n",
       "      <th>997</th>\n",
       "      <td>西五反田</td>\n",
       "      <td>870</td>\n",
       "    </tr>\n",
       "    <tr>\n",
       "      <th>1071</th>\n",
       "      <td>赤坂</td>\n",
       "      <td>853</td>\n",
       "    </tr>\n",
       "    <tr>\n",
       "      <th>201</th>\n",
       "      <td>勝どき</td>\n",
       "      <td>851</td>\n",
       "    </tr>\n",
       "    <tr>\n",
       "      <th>668</th>\n",
       "      <td>東池袋</td>\n",
       "      <td>784</td>\n",
       "    </tr>\n",
       "    <tr>\n",
       "      <th>376</th>\n",
       "      <td>大島</td>\n",
       "      <td>754</td>\n",
       "    </tr>\n",
       "    <tr>\n",
       "      <th>549</th>\n",
       "      <td>新宿</td>\n",
       "      <td>720</td>\n",
       "    </tr>\n",
       "    <tr>\n",
       "      <th>90</th>\n",
       "      <td>中央</td>\n",
       "      <td>678</td>\n",
       "    </tr>\n",
       "    <tr>\n",
       "      <th>803</th>\n",
       "      <td>港南</td>\n",
       "      <td>672</td>\n",
       "    </tr>\n",
       "    <tr>\n",
       "      <th>1058</th>\n",
       "      <td>豊洲</td>\n",
       "      <td>635</td>\n",
       "    </tr>\n",
       "    <tr>\n",
       "      <th>137</th>\n",
       "      <td>代々木</td>\n",
       "      <td>634</td>\n",
       "    </tr>\n",
       "    <tr>\n",
       "      <th>954</th>\n",
       "      <td>芝</td>\n",
       "      <td>634</td>\n",
       "    </tr>\n",
       "    <tr>\n",
       "      <th>1161</th>\n",
       "      <td>高輪</td>\n",
       "      <td>631</td>\n",
       "    </tr>\n",
       "    <tr>\n",
       "      <th>981</th>\n",
       "      <td>蒲田</td>\n",
       "      <td>592</td>\n",
       "    </tr>\n",
       "    <tr>\n",
       "      <th>287</th>\n",
       "      <td>南砂</td>\n",
       "      <td>590</td>\n",
       "    </tr>\n",
       "    <tr>\n",
       "      <th>215</th>\n",
       "      <td>北新宿</td>\n",
       "      <td>586</td>\n",
       "    </tr>\n",
       "    <tr>\n",
       "      <th>377</th>\n",
       "      <td>大崎</td>\n",
       "      <td>586</td>\n",
       "    </tr>\n",
       "    <tr>\n",
       "      <th>808</th>\n",
       "      <td>滝野川</td>\n",
       "      <td>580</td>\n",
       "    </tr>\n",
       "    <tr>\n",
       "      <th>631</th>\n",
       "      <td>東五反田</td>\n",
       "      <td>571</td>\n",
       "    </tr>\n",
       "    <tr>\n",
       "      <th>451</th>\n",
       "      <td>小石川</td>\n",
       "      <td>551</td>\n",
       "    </tr>\n",
       "    <tr>\n",
       "      <th>676</th>\n",
       "      <td>東砂</td>\n",
       "      <td>541</td>\n",
       "    </tr>\n",
       "    <tr>\n",
       "      <th>264</th>\n",
       "      <td>南千住</td>\n",
       "      <td>538</td>\n",
       "    </tr>\n",
       "    <tr>\n",
       "      <th>688</th>\n",
       "      <td>東陽</td>\n",
       "      <td>537</td>\n",
       "    </tr>\n",
       "    <tr>\n",
       "      <th>363</th>\n",
       "      <td>大塚</td>\n",
       "      <td>527</td>\n",
       "    </tr>\n",
       "    <tr>\n",
       "      <th>381</th>\n",
       "      <td>大森北</td>\n",
       "      <td>519</td>\n",
       "    </tr>\n",
       "    <tr>\n",
       "      <th>...</th>\n",
       "      <td>...</td>\n",
       "      <td>...</td>\n",
       "    </tr>\n",
       "    <tr>\n",
       "      <th>352</th>\n",
       "      <td>多摩湖町</td>\n",
       "      <td>3</td>\n",
       "    </tr>\n",
       "    <tr>\n",
       "      <th>1033</th>\n",
       "      <td>西砂町</td>\n",
       "      <td>3</td>\n",
       "    </tr>\n",
       "    <tr>\n",
       "      <th>542</th>\n",
       "      <td>拝島町</td>\n",
       "      <td>3</td>\n",
       "    </tr>\n",
       "    <tr>\n",
       "      <th>48</th>\n",
       "      <td>上石神井南町</td>\n",
       "      <td>2</td>\n",
       "    </tr>\n",
       "    <tr>\n",
       "      <th>364</th>\n",
       "      <td>大字宮</td>\n",
       "      <td>2</td>\n",
       "    </tr>\n",
       "    <tr>\n",
       "      <th>293</th>\n",
       "      <td>南街</td>\n",
       "      <td>2</td>\n",
       "    </tr>\n",
       "    <tr>\n",
       "      <th>1114</th>\n",
       "      <td>長房町</td>\n",
       "      <td>2</td>\n",
       "    </tr>\n",
       "    <tr>\n",
       "      <th>789</th>\n",
       "      <td>海辺</td>\n",
       "      <td>2</td>\n",
       "    </tr>\n",
       "    <tr>\n",
       "      <th>473</th>\n",
       "      <td>川口町</td>\n",
       "      <td>2</td>\n",
       "    </tr>\n",
       "    <tr>\n",
       "      <th>1137</th>\n",
       "      <td>須賀町</td>\n",
       "      <td>2</td>\n",
       "    </tr>\n",
       "    <tr>\n",
       "      <th>852</th>\n",
       "      <td>皿沼</td>\n",
       "      <td>2</td>\n",
       "    </tr>\n",
       "    <tr>\n",
       "      <th>387</th>\n",
       "      <td>大沢</td>\n",
       "      <td>2</td>\n",
       "    </tr>\n",
       "    <tr>\n",
       "      <th>710</th>\n",
       "      <td>柚木町</td>\n",
       "      <td>2</td>\n",
       "    </tr>\n",
       "    <tr>\n",
       "      <th>724</th>\n",
       "      <td>桐ケ丘</td>\n",
       "      <td>2</td>\n",
       "    </tr>\n",
       "    <tr>\n",
       "      <th>456</th>\n",
       "      <td>小野路町</td>\n",
       "      <td>2</td>\n",
       "    </tr>\n",
       "    <tr>\n",
       "      <th>391</th>\n",
       "      <td>大神町</td>\n",
       "      <td>2</td>\n",
       "    </tr>\n",
       "    <tr>\n",
       "      <th>925</th>\n",
       "      <td>細工町</td>\n",
       "      <td>2</td>\n",
       "    </tr>\n",
       "    <tr>\n",
       "      <th>56</th>\n",
       "      <td>上野公園</td>\n",
       "      <td>1</td>\n",
       "    </tr>\n",
       "    <tr>\n",
       "      <th>657</th>\n",
       "      <td>東平山</td>\n",
       "      <td>1</td>\n",
       "    </tr>\n",
       "    <tr>\n",
       "      <th>650</th>\n",
       "      <td>東寺方</td>\n",
       "      <td>1</td>\n",
       "    </tr>\n",
       "    <tr>\n",
       "      <th>221</th>\n",
       "      <td>北篠崎</td>\n",
       "      <td>1</td>\n",
       "    </tr>\n",
       "    <tr>\n",
       "      <th>580</th>\n",
       "      <td>日本橋横山町</td>\n",
       "      <td>1</td>\n",
       "    </tr>\n",
       "    <tr>\n",
       "      <th>183</th>\n",
       "      <td>六町</td>\n",
       "      <td>1</td>\n",
       "    </tr>\n",
       "    <tr>\n",
       "      <th>159</th>\n",
       "      <td>元和泉</td>\n",
       "      <td>1</td>\n",
       "    </tr>\n",
       "    <tr>\n",
       "      <th>564</th>\n",
       "      <td>日向和田</td>\n",
       "      <td>1</td>\n",
       "    </tr>\n",
       "    <tr>\n",
       "      <th>463</th>\n",
       "      <td>山田</td>\n",
       "      <td>1</td>\n",
       "    </tr>\n",
       "    <tr>\n",
       "      <th>531</th>\n",
       "      <td>戸倉</td>\n",
       "      <td>1</td>\n",
       "    </tr>\n",
       "    <tr>\n",
       "      <th>66</th>\n",
       "      <td>下代継</td>\n",
       "      <td>1</td>\n",
       "    </tr>\n",
       "    <tr>\n",
       "      <th>1177</th>\n",
       "      <td>麻布狸穴町</td>\n",
       "      <td>1</td>\n",
       "    </tr>\n",
       "    <tr>\n",
       "      <th>527</th>\n",
       "      <td>成木</td>\n",
       "      <td>0</td>\n",
       "    </tr>\n",
       "  </tbody>\n",
       "</table>\n",
       "<p>1178 rows × 2 columns</p>\n",
       "</div>"
      ],
      "text/plain": [
       "       chiku  count\n",
       "620       本町   1536\n",
       "120       亀戸   1222\n",
       "23        三田    903\n",
       "1021     西新宿    896\n",
       "958       芝浦    877\n",
       "268      南大井    871\n",
       "997     西五反田    870\n",
       "1071      赤坂    853\n",
       "201      勝どき    851\n",
       "668      東池袋    784\n",
       "376       大島    754\n",
       "549       新宿    720\n",
       "90        中央    678\n",
       "803       港南    672\n",
       "1058      豊洲    635\n",
       "137      代々木    634\n",
       "954        芝    634\n",
       "1161      高輪    631\n",
       "981       蒲田    592\n",
       "287       南砂    590\n",
       "215      北新宿    586\n",
       "377       大崎    586\n",
       "808      滝野川    580\n",
       "631     東五反田    571\n",
       "451      小石川    551\n",
       "676       東砂    541\n",
       "264      南千住    538\n",
       "688       東陽    537\n",
       "363       大塚    527\n",
       "381      大森北    519\n",
       "...      ...    ...\n",
       "352     多摩湖町      3\n",
       "1033     西砂町      3\n",
       "542      拝島町      3\n",
       "48    上石神井南町      2\n",
       "364      大字宮      2\n",
       "293       南街      2\n",
       "1114     長房町      2\n",
       "789       海辺      2\n",
       "473      川口町      2\n",
       "1137     須賀町      2\n",
       "852       皿沼      2\n",
       "387       大沢      2\n",
       "710      柚木町      2\n",
       "724      桐ケ丘      2\n",
       "456     小野路町      2\n",
       "391      大神町      2\n",
       "925      細工町      2\n",
       "56      上野公園      1\n",
       "657      東平山      1\n",
       "650      東寺方      1\n",
       "221      北篠崎      1\n",
       "580   日本橋横山町      1\n",
       "183       六町      1\n",
       "159      元和泉      1\n",
       "564     日向和田      1\n",
       "463       山田      1\n",
       "531       戸倉      1\n",
       "66       下代継      1\n",
       "1177   麻布狸穴町      1\n",
       "527       成木      0\n",
       "\n",
       "[1178 rows x 2 columns]"
      ]
     },
     "execution_count": 187,
     "metadata": {},
     "output_type": "execute_result"
    }
   ],
   "source": [
    "d.groupby('chiku')['eki'].count().reset_index(name='count').sort_values(['count'], ascending=False)\n",
    "#d.groupby('chiku')['eki'].count().reset_index(name='count')"
   ]
  },
  {
   "cell_type": "markdown",
   "metadata": {
    "deletable": true,
    "editable": true
   },
   "source": [
    "### Station\n",
    "There are 626 stations. Many of them have less than ten records. Even if we limit the size greater than 100, we still have 406 stations. So we ignore station."
   ]
  },
  {
   "cell_type": "code",
   "execution_count": null,
   "metadata": {
    "collapsed": true,
    "deletable": true,
    "editable": true
   },
   "outputs": [],
   "source": [
    "%matplotlib inline\n",
    "import matplotlib as plt\n",
    "import seaborn as sns\n",
    "sns.set(color_codes=True)\n",
    "sns.distplot(station_count.cnt, kde=False, rug=False)\n",
    "sns.plt.title('The variation of menseki in Training data set')"
   ]
  },
  {
   "cell_type": "code",
   "execution_count": 185,
   "metadata": {
    "collapsed": false,
    "deletable": true,
    "editable": true
   },
   "outputs": [
    {
     "data": {
      "text/html": [
       "<div>\n",
       "<table border=\"1\" class=\"dataframe\">\n",
       "  <thead>\n",
       "    <tr style=\"text-align: right;\">\n",
       "      <th></th>\n",
       "      <th>eki</th>\n",
       "      <th>cnt</th>\n",
       "    </tr>\n",
       "  </thead>\n",
       "  <tbody>\n",
       "    <tr>\n",
       "      <th>114</th>\n",
       "      <td>勝どき</td>\n",
       "      <td>1369</td>\n",
       "    </tr>\n",
       "    <tr>\n",
       "      <th>186</th>\n",
       "      <td>大森(東京)</td>\n",
       "      <td>1030</td>\n",
       "    </tr>\n",
       "    <tr>\n",
       "      <th>387</th>\n",
       "      <td>池袋</td>\n",
       "      <td>946</td>\n",
       "    </tr>\n",
       "    <tr>\n",
       "      <th>429</th>\n",
       "      <td>田町(東京)</td>\n",
       "      <td>916</td>\n",
       "    </tr>\n",
       "    <tr>\n",
       "      <th>42</th>\n",
       "      <td>両国</td>\n",
       "      <td>894</td>\n",
       "    </tr>\n",
       "    <tr>\n",
       "      <th>561</th>\n",
       "      <td>豊洲</td>\n",
       "      <td>890</td>\n",
       "    </tr>\n",
       "    <tr>\n",
       "      <th>61</th>\n",
       "      <td>亀戸</td>\n",
       "      <td>886</td>\n",
       "    </tr>\n",
       "    <tr>\n",
       "      <th>266</th>\n",
       "      <td>新小岩</td>\n",
       "      <td>877</td>\n",
       "    </tr>\n",
       "    <tr>\n",
       "      <th>438</th>\n",
       "      <td>白金高輪</td>\n",
       "      <td>875</td>\n",
       "    </tr>\n",
       "    <tr>\n",
       "      <th>182</th>\n",
       "      <td>大崎</td>\n",
       "      <td>843</td>\n",
       "    </tr>\n",
       "    <tr>\n",
       "      <th>141</th>\n",
       "      <td>南砂町</td>\n",
       "      <td>816</td>\n",
       "    </tr>\n",
       "    <tr>\n",
       "      <th>581</th>\n",
       "      <td>錦糸町</td>\n",
       "      <td>815</td>\n",
       "    </tr>\n",
       "    <tr>\n",
       "      <th>18</th>\n",
       "      <td>三鷹</td>\n",
       "      <td>786</td>\n",
       "    </tr>\n",
       "    <tr>\n",
       "      <th>336</th>\n",
       "      <td>東陽町</td>\n",
       "      <td>784</td>\n",
       "    </tr>\n",
       "    <tr>\n",
       "      <th>66</th>\n",
       "      <td>五反田</td>\n",
       "      <td>773</td>\n",
       "    </tr>\n",
       "    <tr>\n",
       "      <th>374</th>\n",
       "      <td>水天宮前</td>\n",
       "      <td>773</td>\n",
       "    </tr>\n",
       "    <tr>\n",
       "      <th>510</th>\n",
       "      <td>荻窪</td>\n",
       "      <td>732</td>\n",
       "    </tr>\n",
       "    <tr>\n",
       "      <th>551</th>\n",
       "      <td>西馬込</td>\n",
       "      <td>726</td>\n",
       "    </tr>\n",
       "    <tr>\n",
       "      <th>17</th>\n",
       "      <td>三軒茶屋</td>\n",
       "      <td>726</td>\n",
       "    </tr>\n",
       "    <tr>\n",
       "      <th>428</th>\n",
       "      <td>田無</td>\n",
       "      <td>719</td>\n",
       "    </tr>\n",
       "    <tr>\n",
       "      <th>517</th>\n",
       "      <td>蒲田</td>\n",
       "      <td>716</td>\n",
       "    </tr>\n",
       "    <tr>\n",
       "      <th>624</th>\n",
       "      <td>麻布十番</td>\n",
       "      <td>704</td>\n",
       "    </tr>\n",
       "    <tr>\n",
       "      <th>406</th>\n",
       "      <td>渋谷</td>\n",
       "      <td>694</td>\n",
       "    </tr>\n",
       "    <tr>\n",
       "      <th>122</th>\n",
       "      <td>北綾瀬</td>\n",
       "      <td>678</td>\n",
       "    </tr>\n",
       "    <tr>\n",
       "      <th>244</th>\n",
       "      <td>恵比寿</td>\n",
       "      <td>673</td>\n",
       "    </tr>\n",
       "    <tr>\n",
       "      <th>105</th>\n",
       "      <td>八王子</td>\n",
       "      <td>667</td>\n",
       "    </tr>\n",
       "    <tr>\n",
       "      <th>441</th>\n",
       "      <td>目黒</td>\n",
       "      <td>666</td>\n",
       "    </tr>\n",
       "    <tr>\n",
       "      <th>196</th>\n",
       "      <td>学芸大学</td>\n",
       "      <td>666</td>\n",
       "    </tr>\n",
       "    <tr>\n",
       "      <th>177</th>\n",
       "      <td>大塚(東京)</td>\n",
       "      <td>662</td>\n",
       "    </tr>\n",
       "    <tr>\n",
       "      <th>99</th>\n",
       "      <td>入谷(東京)</td>\n",
       "      <td>661</td>\n",
       "    </tr>\n",
       "    <tr>\n",
       "      <th>...</th>\n",
       "      <td>...</td>\n",
       "      <td>...</td>\n",
       "    </tr>\n",
       "    <tr>\n",
       "      <th>60</th>\n",
       "      <td>九段下</td>\n",
       "      <td>119</td>\n",
       "    </tr>\n",
       "    <tr>\n",
       "      <th>560</th>\n",
       "      <td>豊島園</td>\n",
       "      <td>119</td>\n",
       "    </tr>\n",
       "    <tr>\n",
       "      <th>540</th>\n",
       "      <td>西早稲田</td>\n",
       "      <td>118</td>\n",
       "    </tr>\n",
       "    <tr>\n",
       "      <th>62</th>\n",
       "      <td>亀戸水神</td>\n",
       "      <td>118</td>\n",
       "    </tr>\n",
       "    <tr>\n",
       "      <th>283</th>\n",
       "      <td>新高島平</td>\n",
       "      <td>118</td>\n",
       "    </tr>\n",
       "    <tr>\n",
       "      <th>498</th>\n",
       "      <td>若林(東京)</td>\n",
       "      <td>118</td>\n",
       "    </tr>\n",
       "    <tr>\n",
       "      <th>224</th>\n",
       "      <td>布田</td>\n",
       "      <td>116</td>\n",
       "    </tr>\n",
       "    <tr>\n",
       "      <th>152</th>\n",
       "      <td>品川シーサイド</td>\n",
       "      <td>116</td>\n",
       "    </tr>\n",
       "    <tr>\n",
       "      <th>180</th>\n",
       "      <td>大岡山</td>\n",
       "      <td>115</td>\n",
       "    </tr>\n",
       "    <tr>\n",
       "      <th>72</th>\n",
       "      <td>京成小岩</td>\n",
       "      <td>115</td>\n",
       "    </tr>\n",
       "    <tr>\n",
       "      <th>320</th>\n",
       "      <td>東大前</td>\n",
       "      <td>113</td>\n",
       "    </tr>\n",
       "    <tr>\n",
       "      <th>50</th>\n",
       "      <td>中神</td>\n",
       "      <td>113</td>\n",
       "    </tr>\n",
       "    <tr>\n",
       "      <th>547</th>\n",
       "      <td>西立川</td>\n",
       "      <td>113</td>\n",
       "    </tr>\n",
       "    <tr>\n",
       "      <th>465</th>\n",
       "      <td>稲荷町(東京)</td>\n",
       "      <td>112</td>\n",
       "    </tr>\n",
       "    <tr>\n",
       "      <th>486</th>\n",
       "      <td>羽村</td>\n",
       "      <td>111</td>\n",
       "    </tr>\n",
       "    <tr>\n",
       "      <th>346</th>\n",
       "      <td>柴又</td>\n",
       "      <td>111</td>\n",
       "    </tr>\n",
       "    <tr>\n",
       "      <th>254</th>\n",
       "      <td>拝島</td>\n",
       "      <td>109</td>\n",
       "    </tr>\n",
       "    <tr>\n",
       "      <th>171</th>\n",
       "      <td>多摩川</td>\n",
       "      <td>109</td>\n",
       "    </tr>\n",
       "    <tr>\n",
       "      <th>45</th>\n",
       "      <td>中延</td>\n",
       "      <td>108</td>\n",
       "    </tr>\n",
       "    <tr>\n",
       "      <th>303</th>\n",
       "      <td>有明テニスの森</td>\n",
       "      <td>107</td>\n",
       "    </tr>\n",
       "    <tr>\n",
       "      <th>600</th>\n",
       "      <td>馬喰横山</td>\n",
       "      <td>106</td>\n",
       "    </tr>\n",
       "    <tr>\n",
       "      <th>488</th>\n",
       "      <td>自由が丘(東京)</td>\n",
       "      <td>106</td>\n",
       "    </tr>\n",
       "    <tr>\n",
       "      <th>242</th>\n",
       "      <td>志茂</td>\n",
       "      <td>106</td>\n",
       "    </tr>\n",
       "    <tr>\n",
       "      <th>528</th>\n",
       "      <td>西国立</td>\n",
       "      <td>104</td>\n",
       "    </tr>\n",
       "    <tr>\n",
       "      <th>298</th>\n",
       "      <td>是政</td>\n",
       "      <td>104</td>\n",
       "    </tr>\n",
       "    <tr>\n",
       "      <th>208</th>\n",
       "      <td>小川町(東京)</td>\n",
       "      <td>103</td>\n",
       "    </tr>\n",
       "    <tr>\n",
       "      <th>543</th>\n",
       "      <td>西武柳沢</td>\n",
       "      <td>103</td>\n",
       "    </tr>\n",
       "    <tr>\n",
       "      <th>311</th>\n",
       "      <td>東あずま</td>\n",
       "      <td>101</td>\n",
       "    </tr>\n",
       "    <tr>\n",
       "      <th>378</th>\n",
       "      <td>永福町</td>\n",
       "      <td>101</td>\n",
       "    </tr>\n",
       "    <tr>\n",
       "      <th>390</th>\n",
       "      <td>沼部</td>\n",
       "      <td>100</td>\n",
       "    </tr>\n",
       "  </tbody>\n",
       "</table>\n",
       "<p>406 rows × 2 columns</p>\n",
       "</div>"
      ],
      "text/plain": [
       "          eki   cnt\n",
       "114       勝どき  1369\n",
       "186    大森(東京)  1030\n",
       "387        池袋   946\n",
       "429    田町(東京)   916\n",
       "42         両国   894\n",
       "561        豊洲   890\n",
       "61         亀戸   886\n",
       "266       新小岩   877\n",
       "438      白金高輪   875\n",
       "182        大崎   843\n",
       "141       南砂町   816\n",
       "581       錦糸町   815\n",
       "18         三鷹   786\n",
       "336       東陽町   784\n",
       "66        五反田   773\n",
       "374      水天宮前   773\n",
       "510        荻窪   732\n",
       "551       西馬込   726\n",
       "17       三軒茶屋   726\n",
       "428        田無   719\n",
       "517        蒲田   716\n",
       "624      麻布十番   704\n",
       "406        渋谷   694\n",
       "122       北綾瀬   678\n",
       "244       恵比寿   673\n",
       "105       八王子   667\n",
       "441        目黒   666\n",
       "196      学芸大学   666\n",
       "177    大塚(東京)   662\n",
       "99     入谷(東京)   661\n",
       "..        ...   ...\n",
       "60        九段下   119\n",
       "560       豊島園   119\n",
       "540      西早稲田   118\n",
       "62       亀戸水神   118\n",
       "283      新高島平   118\n",
       "498    若林(東京)   118\n",
       "224        布田   116\n",
       "152   品川シーサイド   116\n",
       "180       大岡山   115\n",
       "72       京成小岩   115\n",
       "320       東大前   113\n",
       "50         中神   113\n",
       "547       西立川   113\n",
       "465   稲荷町(東京)   112\n",
       "486        羽村   111\n",
       "346        柴又   111\n",
       "254        拝島   109\n",
       "171       多摩川   109\n",
       "45         中延   108\n",
       "303   有明テニスの森   107\n",
       "600      馬喰横山   106\n",
       "488  自由が丘(東京)   106\n",
       "242        志茂   106\n",
       "528       西国立   104\n",
       "298        是政   104\n",
       "208   小川町(東京)   103\n",
       "543      西武柳沢   103\n",
       "311      東あずま   101\n",
       "378       永福町   101\n",
       "390        沼部   100\n",
       "\n",
       "[406 rows x 2 columns]"
      ]
     },
     "execution_count": 185,
     "metadata": {},
     "output_type": "execute_result"
    }
   ],
   "source": [
    "#station_count = d.groupby('eki')['chiku'].count().reset_index(name='count').sort_values(['count'], ascending=False)\n",
    "station_count = d.groupby('eki')['chiku'].count().reset_index(name='cnt').sort_values(['cnt'], ascending=False)\n",
    "# d.filter(d.groupby('eki')['chiku'])\n",
    "station_idx = station_count.cnt >= 100\n",
    "station_count[station_idx]\n"
   ]
  },
  {
   "cell_type": "markdown",
   "metadata": {
    "deletable": true,
    "editable": true
   },
   "source": [
    "We combine shi, kouzou, mokuteki and zoning variables into one data frame, and merge them."
   ]
  },
  {
   "cell_type": "code",
   "execution_count": 260,
   "metadata": {
    "collapsed": false,
    "deletable": true,
    "editable": true
   },
   "outputs": [
    {
     "name": "stdout",
     "output_type": "stream",
     "text": [
      "136394\n",
      "27663\n",
      "Training: 14733\n",
      "Training Complete cases: 11479\n",
      "Validation All: 3664\n",
      "Testing All: 2464\n"
     ]
    }
   ],
   "source": [
    "d_dummies = pd.concat([town, material, purpose, zoning], axis=1)\n",
    "d_final = pd.concat([d, d_dummies], axis=1)\n",
    "d_comp = d_final.dropna(axis=0)\n",
    "print(d_final.shape[0])\n",
    "print(d_comp.shape[0])\n",
    "print(\"Training:\", d_final[d_final.torihiki_jiten.isin( ['平成27年第２四半期', '平成27年第３四半期','平成27年第４四半期','平成28年第１四半期'])].shape[0])\n",
    "print(\"Training Complete cases:\", d_comp[d_comp.torihiki_jiten.isin( ['平成27年第２四半期', '平成27年第３四半期','平成27年第４四半期','平成28年第１四半期'])].shape[0])\n",
    "print(\"Validation All:\", d_final[d_final.torihiki_jiten.isin( ['平成28年第２四半期'])].shape[0])\n",
    "print(\"Testing All:\", d_final[d_final.torihiki_jiten.isin( ['平成28年第３四半期'])].shape[0])\n",
    "\n"
   ]
  },
  {
   "cell_type": "markdown",
   "metadata": {
    "deletable": true,
    "editable": true
   },
   "source": [
    "### training and test data set\n",
    "From the final complete data set that excluded all the NA rows, we make the training, validation and test data set based on the transaction year. \n",
    "\n",
    "* Training: between 2015 Q2 and 2016 Q1\n",
    "* Validation: 2016 Q2\n",
    "* Test: 2016 Q3"
   ]
  },
  {
   "cell_type": "code",
   "execution_count": 202,
   "metadata": {
    "collapsed": false,
    "deletable": true,
    "editable": true
   },
   "outputs": [
    {
     "name": "stdout",
     "output_type": "stream",
     "text": [
      "torihiki_jiten\n",
      "平成25年第１四半期       7\n",
      "平成25年第２四半期       5\n",
      "平成25年第３四半期      20\n",
      "平成25年第４四半期      39\n",
      "平成26年第１四半期     560\n",
      "平成26年第２四半期    2511\n",
      "平成26年第３四半期    2617\n",
      "平成26年第４四半期    2716\n",
      "平成27年第１四半期    2934\n",
      "平成27年第２四半期    2865\n",
      "平成27年第３四半期    2846\n",
      "平成27年第４四半期    2825\n",
      "平成28年第１四半期    2943\n",
      "平成28年第２四半期    2895\n",
      "平成28年第３四半期    1880\n",
      "Name: shi, dtype: int64\n",
      "(11479, 93) (2895, 93) (1880, 93)\n"
     ]
    }
   ],
   "source": [
    "print(d_comp.groupby('torihiki_jiten')['shi'].count())\n",
    "train = d_comp[d_comp.torihiki_jiten.isin( ['平成27年第２四半期', '平成27年第３四半期','平成27年第４四半期','平成28年第１四半期'])]\n",
    "validation = d_comp[d_comp.torihiki_jiten=='平成28年第２四半期']\n",
    "test = d_comp[d_comp.torihiki_jiten=='平成28年第３四半期']\n",
    "print(train.shape, validation.shape, test.shape)"
   ]
  },
  {
   "cell_type": "markdown",
   "metadata": {
    "deletable": true,
    "editable": true
   },
   "source": [
    "We now save the data set for the analysis."
   ]
  },
  {
   "cell_type": "code",
   "execution_count": 203,
   "metadata": {
    "collapsed": true,
    "deletable": true,
    "editable": true
   },
   "outputs": [],
   "source": [
    "import pickle\n",
    "pickle.dump(d_final, open('tokyo_apartment.p', 'wb'))\n",
    "pickle.dump(d_comp, open('tokyo_apartment_comp.p', 'wb'))\n",
    "pickle.dump(train, open('tokyo_apartment_train.p', 'wb'))\n",
    "pickle.dump(validation, open('tokyo_apartment_validation.p', 'wb'))\n",
    "pickle.dump(test, open('tokyo_apartment_test.p', 'wb'))\n"
   ]
  },
  {
   "cell_type": "code",
   "execution_count": 204,
   "metadata": {
    "collapsed": false,
    "deletable": true,
    "editable": true
   },
   "outputs": [],
   "source": [
    "d = pickle.load(open('tokyo_apartment.p', 'rb'))\n",
    "d_comp = pickle.load(open('tokyo_apartment_comp.p', 'rb'))\n",
    "train = pickle.load(open('tokyo_apartment_train.p', 'rb'))\n",
    "validation = pickle.load(open('tokyo_apartment_validation.p', 'rb'))\n",
    "test = pickle.load(open('tokyo_apartment_test.p', 'rb'))"
   ]
  },
  {
   "cell_type": "markdown",
   "metadata": {
    "deletable": true,
    "editable": true
   },
   "source": [
    "## Visualise the data set\n",
    "First, we visualise the training data set. This is to understand which factors are correlated with the price in what way, and to understand the distribution of the price and variables, which will help us decide whether we need to transform the variables."
   ]
  },
  {
   "cell_type": "code",
   "execution_count": 205,
   "metadata": {
    "collapsed": false,
    "deletable": true,
    "editable": true
   },
   "outputs": [
    {
     "data": {
      "text/plain": [
       "<matplotlib.text.Text at 0x113ea0668>"
      ]
     },
     "execution_count": 205,
     "metadata": {},
     "output_type": "execute_result"
    },
    {
     "data": {
      "image/png": "[encoded data removed]",
      "text/plain": [
       "<matplotlib.figure.Figure at 0x115beb6a0>"
      ]
     },
     "metadata": {},
     "output_type": "display_data"
    }
   ],
   "source": [
    "%matplotlib inline\n",
    "import matplotlib as plt\n",
    "import seaborn as sns\n",
    "sns.set(color_codes=True)\n",
    "sns.distplot(train.menseki, kde=False, rug=False)\n",
    "sns.plt.title('The variation of menseki in Training data set')\n",
    "sns.distplot(validation.menseki, kde=False, rug=False)\n",
    "sns.plt.title('The variation of menseki in Validation data set')\n",
    "sns.distplot(test.menseki, kde=False, rug=False)\n",
    "sns.plt.title('The variation of menseki in Test data set')"
   ]
  },
  {
   "cell_type": "markdown",
   "metadata": {
    "deletable": true,
    "editable": true
   },
   "source": [
    "We can observe a few outliers but menseki ranges between 0 and 400. We can check the min and maximum from tables below. The maximum is 450."
   ]
  },
  {
   "cell_type": "code",
   "execution_count": 206,
   "metadata": {
    "collapsed": false,
    "deletable": true,
    "editable": true
   },
   "outputs": [
    {
     "name": "stdout",
     "output_type": "stream",
     "text": [
      "====training=====\n"
     ]
    },
    {
     "data": {
      "text/html": [
       "<div>\n",
       "<table border=\"1\" class=\"dataframe\">\n",
       "  <thead>\n",
       "    <tr style=\"text-align: right;\">\n",
       "      <th></th>\n",
       "      <th>ekikyori</th>\n",
       "      <th>price</th>\n",
       "      <th>menseki</th>\n",
       "      <th>kenpeiritsu</th>\n",
       "      <th>yousekiritsu</th>\n",
       "      <th>is_reformed</th>\n",
       "      <th>is_not_reformed</th>\n",
       "      <th>is_auction</th>\n",
       "      <th>is_direct_transaction</th>\n",
       "      <th>kenchiku_year</th>\n",
       "      <th>...</th>\n",
       "      <th>zoning_工業専用地域</th>\n",
       "      <th>zoning_準住居地域</th>\n",
       "      <th>zoning_準工業地域</th>\n",
       "      <th>zoning_第１種中高層住居専用地域</th>\n",
       "      <th>zoning_第１種低層住居専用地域</th>\n",
       "      <th>zoning_第１種住居地域</th>\n",
       "      <th>zoning_第２種中高層住居専用地域</th>\n",
       "      <th>zoning_第２種低層住居専用地域</th>\n",
       "      <th>zoning_第２種住居地域</th>\n",
       "      <th>zoning_近隣商業地域</th>\n",
       "    </tr>\n",
       "  </thead>\n",
       "  <tbody>\n",
       "    <tr>\n",
       "      <th>count</th>\n",
       "      <td>11479.000000</td>\n",
       "      <td>1.147900e+04</td>\n",
       "      <td>11479.000000</td>\n",
       "      <td>11479.000000</td>\n",
       "      <td>11479.000000</td>\n",
       "      <td>11479.000000</td>\n",
       "      <td>11479.000000</td>\n",
       "      <td>11479.000000</td>\n",
       "      <td>11479.000000</td>\n",
       "      <td>11479.00000</td>\n",
       "      <td>...</td>\n",
       "      <td>11479.0</td>\n",
       "      <td>11479.000000</td>\n",
       "      <td>11479.000000</td>\n",
       "      <td>11479.000000</td>\n",
       "      <td>11479.000000</td>\n",
       "      <td>11479.000000</td>\n",
       "      <td>11479.000000</td>\n",
       "      <td>11479.000000</td>\n",
       "      <td>11479.000000</td>\n",
       "      <td>11479.000000</td>\n",
       "    </tr>\n",
       "    <tr>\n",
       "      <th>mean</th>\n",
       "      <td>7.874815</td>\n",
       "      <td>3.363435e+07</td>\n",
       "      <td>48.990330</td>\n",
       "      <td>0.685129</td>\n",
       "      <td>3.482821</td>\n",
       "      <td>0.267009</td>\n",
       "      <td>0.728809</td>\n",
       "      <td>0.012196</td>\n",
       "      <td>0.001133</td>\n",
       "      <td>1997.43462</td>\n",
       "      <td>...</td>\n",
       "      <td>0.0</td>\n",
       "      <td>0.018817</td>\n",
       "      <td>0.187124</td>\n",
       "      <td>0.132241</td>\n",
       "      <td>0.039376</td>\n",
       "      <td>0.104713</td>\n",
       "      <td>0.023783</td>\n",
       "      <td>0.002439</td>\n",
       "      <td>0.032059</td>\n",
       "      <td>0.126840</td>\n",
       "    </tr>\n",
       "    <tr>\n",
       "      <th>std</th>\n",
       "      <td>6.664992</td>\n",
       "      <td>4.343275e+07</td>\n",
       "      <td>24.331537</td>\n",
       "      <td>0.106772</td>\n",
       "      <td>1.530995</td>\n",
       "      <td>0.442417</td>\n",
       "      <td>0.444594</td>\n",
       "      <td>0.109766</td>\n",
       "      <td>0.033635</td>\n",
       "      <td>11.99035</td>\n",
       "      <td>...</td>\n",
       "      <td>0.0</td>\n",
       "      <td>0.135884</td>\n",
       "      <td>0.390028</td>\n",
       "      <td>0.338768</td>\n",
       "      <td>0.194497</td>\n",
       "      <td>0.306197</td>\n",
       "      <td>0.152378</td>\n",
       "      <td>0.049331</td>\n",
       "      <td>0.176163</td>\n",
       "      <td>0.332809</td>\n",
       "    </tr>\n",
       "    <tr>\n",
       "      <th>min</th>\n",
       "      <td>0.000000</td>\n",
       "      <td>2.400000e+05</td>\n",
       "      <td>10.000000</td>\n",
       "      <td>0.300000</td>\n",
       "      <td>0.600000</td>\n",
       "      <td>0.000000</td>\n",
       "      <td>0.000000</td>\n",
       "      <td>0.000000</td>\n",
       "      <td>0.000000</td>\n",
       "      <td>1945.00000</td>\n",
       "      <td>...</td>\n",
       "      <td>0.0</td>\n",
       "      <td>0.000000</td>\n",
       "      <td>0.000000</td>\n",
       "      <td>0.000000</td>\n",
       "      <td>0.000000</td>\n",
       "      <td>0.000000</td>\n",
       "      <td>0.000000</td>\n",
       "      <td>0.000000</td>\n",
       "      <td>0.000000</td>\n",
       "      <td>0.000000</td>\n",
       "    </tr>\n",
       "    <tr>\n",
       "      <th>25%</th>\n",
       "      <td>4.000000</td>\n",
       "      <td>1.800000e+07</td>\n",
       "      <td>25.000000</td>\n",
       "      <td>0.600000</td>\n",
       "      <td>2.000000</td>\n",
       "      <td>0.000000</td>\n",
       "      <td>0.000000</td>\n",
       "      <td>0.000000</td>\n",
       "      <td>0.000000</td>\n",
       "      <td>1989.00000</td>\n",
       "      <td>...</td>\n",
       "      <td>0.0</td>\n",
       "      <td>0.000000</td>\n",
       "      <td>0.000000</td>\n",
       "      <td>0.000000</td>\n",
       "      <td>0.000000</td>\n",
       "      <td>0.000000</td>\n",
       "      <td>0.000000</td>\n",
       "      <td>0.000000</td>\n",
       "      <td>0.000000</td>\n",
       "      <td>0.000000</td>\n",
       "    </tr>\n",
       "    <tr>\n",
       "      <th>50%</th>\n",
       "      <td>7.000000</td>\n",
       "      <td>2.700000e+07</td>\n",
       "      <td>50.000000</td>\n",
       "      <td>0.600000</td>\n",
       "      <td>3.000000</td>\n",
       "      <td>0.000000</td>\n",
       "      <td>1.000000</td>\n",
       "      <td>0.000000</td>\n",
       "      <td>0.000000</td>\n",
       "      <td>2000.00000</td>\n",
       "      <td>...</td>\n",
       "      <td>0.0</td>\n",
       "      <td>0.000000</td>\n",
       "      <td>0.000000</td>\n",
       "      <td>0.000000</td>\n",
       "      <td>0.000000</td>\n",
       "      <td>0.000000</td>\n",
       "      <td>0.000000</td>\n",
       "      <td>0.000000</td>\n",
       "      <td>0.000000</td>\n",
       "      <td>0.000000</td>\n",
       "    </tr>\n",
       "    <tr>\n",
       "      <th>75%</th>\n",
       "      <td>10.000000</td>\n",
       "      <td>4.000000e+07</td>\n",
       "      <td>65.000000</td>\n",
       "      <td>0.800000</td>\n",
       "      <td>5.000000</td>\n",
       "      <td>1.000000</td>\n",
       "      <td>1.000000</td>\n",
       "      <td>0.000000</td>\n",
       "      <td>0.000000</td>\n",
       "      <td>2006.00000</td>\n",
       "      <td>...</td>\n",
       "      <td>0.0</td>\n",
       "      <td>0.000000</td>\n",
       "      <td>0.000000</td>\n",
       "      <td>0.000000</td>\n",
       "      <td>0.000000</td>\n",
       "      <td>0.000000</td>\n",
       "      <td>0.000000</td>\n",
       "      <td>0.000000</td>\n",
       "      <td>0.000000</td>\n",
       "      <td>0.000000</td>\n",
       "    </tr>\n",
       "    <tr>\n",
       "      <th>max</th>\n",
       "      <td>120.000000</td>\n",
       "      <td>3.200000e+09</td>\n",
       "      <td>250.000000</td>\n",
       "      <td>0.800000</td>\n",
       "      <td>9.000000</td>\n",
       "      <td>1.000000</td>\n",
       "      <td>1.000000</td>\n",
       "      <td>1.000000</td>\n",
       "      <td>1.000000</td>\n",
       "      <td>2016.00000</td>\n",
       "      <td>...</td>\n",
       "      <td>0.0</td>\n",
       "      <td>1.000000</td>\n",
       "      <td>1.000000</td>\n",
       "      <td>1.000000</td>\n",
       "      <td>1.000000</td>\n",
       "      <td>1.000000</td>\n",
       "      <td>1.000000</td>\n",
       "      <td>1.000000</td>\n",
       "      <td>1.000000</td>\n",
       "      <td>1.000000</td>\n",
       "    </tr>\n",
       "  </tbody>\n",
       "</table>\n",
       "<p>8 rows × 81 columns</p>\n",
       "</div>"
      ],
      "text/plain": [
       "           ekikyori         price       menseki   kenpeiritsu  yousekiritsu  \\\n",
       "count  11479.000000  1.147900e+04  11479.000000  11479.000000  11479.000000   \n",
       "mean       7.874815  3.363435e+07     48.990330      0.685129      3.482821   \n",
       "std        6.664992  4.343275e+07     24.331537      0.106772      1.530995   \n",
       "min        0.000000  2.400000e+05     10.000000      0.300000      0.600000   \n",
       "25%        4.000000  1.800000e+07     25.000000      0.600000      2.000000   \n",
       "50%        7.000000  2.700000e+07     50.000000      0.600000      3.000000   \n",
       "75%       10.000000  4.000000e+07     65.000000      0.800000      5.000000   \n",
       "max      120.000000  3.200000e+09    250.000000      0.800000      9.000000   \n",
       "\n",
       "        is_reformed  is_not_reformed    is_auction  is_direct_transaction  \\\n",
       "count  11479.000000     11479.000000  11479.000000           11479.000000   \n",
       "mean       0.267009         0.728809      0.012196               0.001133   \n",
       "std        0.442417         0.444594      0.109766               0.033635   \n",
       "min        0.000000         0.000000      0.000000               0.000000   \n",
       "25%        0.000000         0.000000      0.000000               0.000000   \n",
       "50%        0.000000         1.000000      0.000000               0.000000   \n",
       "75%        1.000000         1.000000      0.000000               0.000000   \n",
       "max        1.000000         1.000000      1.000000               1.000000   \n",
       "\n",
       "       kenchiku_year      ...        zoning_工業専用地域  zoning_準住居地域  \\\n",
       "count    11479.00000      ...              11479.0  11479.000000   \n",
       "mean      1997.43462      ...                  0.0      0.018817   \n",
       "std         11.99035      ...                  0.0      0.135884   \n",
       "min       1945.00000      ...                  0.0      0.000000   \n",
       "25%       1989.00000      ...                  0.0      0.000000   \n",
       "50%       2000.00000      ...                  0.0      0.000000   \n",
       "75%       2006.00000      ...                  0.0      0.000000   \n",
       "max       2016.00000      ...                  0.0      1.000000   \n",
       "\n",
       "       zoning_準工業地域  zoning_第１種中高層住居専用地域  zoning_第１種低層住居専用地域  zoning_第１種住居地域  \\\n",
       "count  11479.000000         11479.000000        11479.000000    11479.000000   \n",
       "mean       0.187124             0.132241            0.039376        0.104713   \n",
       "std        0.390028             0.338768            0.194497        0.306197   \n",
       "min        0.000000             0.000000            0.000000        0.000000   \n",
       "25%        0.000000             0.000000            0.000000        0.000000   \n",
       "50%        0.000000             0.000000            0.000000        0.000000   \n",
       "75%        0.000000             0.000000            0.000000        0.000000   \n",
       "max        1.000000             1.000000            1.000000        1.000000   \n",
       "\n",
       "       zoning_第２種中高層住居専用地域  zoning_第２種低層住居専用地域  zoning_第２種住居地域  zoning_近隣商業地域  \n",
       "count         11479.000000        11479.000000    11479.000000   11479.000000  \n",
       "mean              0.023783            0.002439        0.032059       0.126840  \n",
       "std               0.152378            0.049331        0.176163       0.332809  \n",
       "min               0.000000            0.000000        0.000000       0.000000  \n",
       "25%               0.000000            0.000000        0.000000       0.000000  \n",
       "50%               0.000000            0.000000        0.000000       0.000000  \n",
       "75%               0.000000            0.000000        0.000000       0.000000  \n",
       "max               1.000000            1.000000        1.000000       1.000000  \n",
       "\n",
       "[8 rows x 81 columns]"
      ]
     },
     "execution_count": 206,
     "metadata": {},
     "output_type": "execute_result"
    }
   ],
   "source": [
    "print('====training=====')\n",
    "train.describe()\n"
   ]
  },
  {
   "cell_type": "code",
   "execution_count": 207,
   "metadata": {
    "collapsed": false,
    "deletable": true,
    "editable": true
   },
   "outputs": [
    {
     "name": "stdout",
     "output_type": "stream",
     "text": [
      "====validation=====\n"
     ]
    },
    {
     "data": {
      "text/html": [
       "<div>\n",
       "<table border=\"1\" class=\"dataframe\">\n",
       "  <thead>\n",
       "    <tr style=\"text-align: right;\">\n",
       "      <th></th>\n",
       "      <th>ekikyori</th>\n",
       "      <th>price</th>\n",
       "      <th>menseki</th>\n",
       "      <th>kenpeiritsu</th>\n",
       "      <th>yousekiritsu</th>\n",
       "      <th>is_reformed</th>\n",
       "      <th>is_not_reformed</th>\n",
       "      <th>is_auction</th>\n",
       "      <th>is_direct_transaction</th>\n",
       "      <th>kenchiku_year</th>\n",
       "      <th>...</th>\n",
       "      <th>zoning_工業専用地域</th>\n",
       "      <th>zoning_準住居地域</th>\n",
       "      <th>zoning_準工業地域</th>\n",
       "      <th>zoning_第１種中高層住居専用地域</th>\n",
       "      <th>zoning_第１種低層住居専用地域</th>\n",
       "      <th>zoning_第１種住居地域</th>\n",
       "      <th>zoning_第２種中高層住居専用地域</th>\n",
       "      <th>zoning_第２種低層住居専用地域</th>\n",
       "      <th>zoning_第２種住居地域</th>\n",
       "      <th>zoning_近隣商業地域</th>\n",
       "    </tr>\n",
       "  </thead>\n",
       "  <tbody>\n",
       "    <tr>\n",
       "      <th>count</th>\n",
       "      <td>2895.00000</td>\n",
       "      <td>2.895000e+03</td>\n",
       "      <td>2895.000000</td>\n",
       "      <td>2895.000000</td>\n",
       "      <td>2895.000000</td>\n",
       "      <td>2895.000000</td>\n",
       "      <td>2895.000000</td>\n",
       "      <td>2895.000000</td>\n",
       "      <td>2895.000000</td>\n",
       "      <td>2895.000000</td>\n",
       "      <td>...</td>\n",
       "      <td>2895.000000</td>\n",
       "      <td>2895.000000</td>\n",
       "      <td>2895.000000</td>\n",
       "      <td>2895.000000</td>\n",
       "      <td>2895.000000</td>\n",
       "      <td>2895.000000</td>\n",
       "      <td>2895.000000</td>\n",
       "      <td>2895.000000</td>\n",
       "      <td>2895.000000</td>\n",
       "      <td>2895.000000</td>\n",
       "    </tr>\n",
       "    <tr>\n",
       "      <th>mean</th>\n",
       "      <td>7.66563</td>\n",
       "      <td>3.332950e+07</td>\n",
       "      <td>47.756477</td>\n",
       "      <td>0.687427</td>\n",
       "      <td>3.523765</td>\n",
       "      <td>0.249741</td>\n",
       "      <td>0.749914</td>\n",
       "      <td>0.007945</td>\n",
       "      <td>0.001727</td>\n",
       "      <td>1997.783074</td>\n",
       "      <td>...</td>\n",
       "      <td>0.000345</td>\n",
       "      <td>0.021071</td>\n",
       "      <td>0.196546</td>\n",
       "      <td>0.123316</td>\n",
       "      <td>0.036269</td>\n",
       "      <td>0.099482</td>\n",
       "      <td>0.024870</td>\n",
       "      <td>0.002763</td>\n",
       "      <td>0.037306</td>\n",
       "      <td>0.129534</td>\n",
       "    </tr>\n",
       "    <tr>\n",
       "      <th>std</th>\n",
       "      <td>6.39795</td>\n",
       "      <td>2.920084e+07</td>\n",
       "      <td>25.557727</td>\n",
       "      <td>0.105092</td>\n",
       "      <td>1.524028</td>\n",
       "      <td>0.432938</td>\n",
       "      <td>0.433137</td>\n",
       "      <td>0.088794</td>\n",
       "      <td>0.041530</td>\n",
       "      <td>12.189329</td>\n",
       "      <td>...</td>\n",
       "      <td>0.018586</td>\n",
       "      <td>0.143645</td>\n",
       "      <td>0.397455</td>\n",
       "      <td>0.328856</td>\n",
       "      <td>0.186992</td>\n",
       "      <td>0.299360</td>\n",
       "      <td>0.155757</td>\n",
       "      <td>0.052504</td>\n",
       "      <td>0.189543</td>\n",
       "      <td>0.335848</td>\n",
       "    </tr>\n",
       "    <tr>\n",
       "      <th>min</th>\n",
       "      <td>0.00000</td>\n",
       "      <td>1.000000e+06</td>\n",
       "      <td>10.000000</td>\n",
       "      <td>0.300000</td>\n",
       "      <td>0.600000</td>\n",
       "      <td>0.000000</td>\n",
       "      <td>0.000000</td>\n",
       "      <td>0.000000</td>\n",
       "      <td>0.000000</td>\n",
       "      <td>1963.000000</td>\n",
       "      <td>...</td>\n",
       "      <td>0.000000</td>\n",
       "      <td>0.000000</td>\n",
       "      <td>0.000000</td>\n",
       "      <td>0.000000</td>\n",
       "      <td>0.000000</td>\n",
       "      <td>0.000000</td>\n",
       "      <td>0.000000</td>\n",
       "      <td>0.000000</td>\n",
       "      <td>0.000000</td>\n",
       "      <td>0.000000</td>\n",
       "    </tr>\n",
       "    <tr>\n",
       "      <th>25%</th>\n",
       "      <td>4.00000</td>\n",
       "      <td>1.900000e+07</td>\n",
       "      <td>25.000000</td>\n",
       "      <td>0.600000</td>\n",
       "      <td>2.000000</td>\n",
       "      <td>0.000000</td>\n",
       "      <td>0.500000</td>\n",
       "      <td>0.000000</td>\n",
       "      <td>0.000000</td>\n",
       "      <td>1989.000000</td>\n",
       "      <td>...</td>\n",
       "      <td>0.000000</td>\n",
       "      <td>0.000000</td>\n",
       "      <td>0.000000</td>\n",
       "      <td>0.000000</td>\n",
       "      <td>0.000000</td>\n",
       "      <td>0.000000</td>\n",
       "      <td>0.000000</td>\n",
       "      <td>0.000000</td>\n",
       "      <td>0.000000</td>\n",
       "      <td>0.000000</td>\n",
       "    </tr>\n",
       "    <tr>\n",
       "      <th>50%</th>\n",
       "      <td>6.00000</td>\n",
       "      <td>2.700000e+07</td>\n",
       "      <td>50.000000</td>\n",
       "      <td>0.600000</td>\n",
       "      <td>3.000000</td>\n",
       "      <td>0.000000</td>\n",
       "      <td>1.000000</td>\n",
       "      <td>0.000000</td>\n",
       "      <td>0.000000</td>\n",
       "      <td>2001.000000</td>\n",
       "      <td>...</td>\n",
       "      <td>0.000000</td>\n",
       "      <td>0.000000</td>\n",
       "      <td>0.000000</td>\n",
       "      <td>0.000000</td>\n",
       "      <td>0.000000</td>\n",
       "      <td>0.000000</td>\n",
       "      <td>0.000000</td>\n",
       "      <td>0.000000</td>\n",
       "      <td>0.000000</td>\n",
       "      <td>0.000000</td>\n",
       "    </tr>\n",
       "    <tr>\n",
       "      <th>75%</th>\n",
       "      <td>10.00000</td>\n",
       "      <td>4.100000e+07</td>\n",
       "      <td>65.000000</td>\n",
       "      <td>0.800000</td>\n",
       "      <td>5.000000</td>\n",
       "      <td>0.000000</td>\n",
       "      <td>1.000000</td>\n",
       "      <td>0.000000</td>\n",
       "      <td>0.000000</td>\n",
       "      <td>2007.000000</td>\n",
       "      <td>...</td>\n",
       "      <td>0.000000</td>\n",
       "      <td>0.000000</td>\n",
       "      <td>0.000000</td>\n",
       "      <td>0.000000</td>\n",
       "      <td>0.000000</td>\n",
       "      <td>0.000000</td>\n",
       "      <td>0.000000</td>\n",
       "      <td>0.000000</td>\n",
       "      <td>0.000000</td>\n",
       "      <td>0.000000</td>\n",
       "    </tr>\n",
       "    <tr>\n",
       "      <th>max</th>\n",
       "      <td>60.00000</td>\n",
       "      <td>7.500000e+08</td>\n",
       "      <td>450.000000</td>\n",
       "      <td>0.800000</td>\n",
       "      <td>9.000000</td>\n",
       "      <td>1.000000</td>\n",
       "      <td>1.000000</td>\n",
       "      <td>1.000000</td>\n",
       "      <td>1.000000</td>\n",
       "      <td>2016.000000</td>\n",
       "      <td>...</td>\n",
       "      <td>1.000000</td>\n",
       "      <td>1.000000</td>\n",
       "      <td>1.000000</td>\n",
       "      <td>1.000000</td>\n",
       "      <td>1.000000</td>\n",
       "      <td>1.000000</td>\n",
       "      <td>1.000000</td>\n",
       "      <td>1.000000</td>\n",
       "      <td>1.000000</td>\n",
       "      <td>1.000000</td>\n",
       "    </tr>\n",
       "  </tbody>\n",
       "</table>\n",
       "<p>8 rows × 81 columns</p>\n",
       "</div>"
      ],
      "text/plain": [
       "         ekikyori         price      menseki  kenpeiritsu  yousekiritsu  \\\n",
       "count  2895.00000  2.895000e+03  2895.000000  2895.000000   2895.000000   \n",
       "mean      7.66563  3.332950e+07    47.756477     0.687427      3.523765   \n",
       "std       6.39795  2.920084e+07    25.557727     0.105092      1.524028   \n",
       "min       0.00000  1.000000e+06    10.000000     0.300000      0.600000   \n",
       "25%       4.00000  1.900000e+07    25.000000     0.600000      2.000000   \n",
       "50%       6.00000  2.700000e+07    50.000000     0.600000      3.000000   \n",
       "75%      10.00000  4.100000e+07    65.000000     0.800000      5.000000   \n",
       "max      60.00000  7.500000e+08   450.000000     0.800000      9.000000   \n",
       "\n",
       "       is_reformed  is_not_reformed   is_auction  is_direct_transaction  \\\n",
       "count  2895.000000      2895.000000  2895.000000            2895.000000   \n",
       "mean      0.249741         0.749914     0.007945               0.001727   \n",
       "std       0.432938         0.433137     0.088794               0.041530   \n",
       "min       0.000000         0.000000     0.000000               0.000000   \n",
       "25%       0.000000         0.500000     0.000000               0.000000   \n",
       "50%       0.000000         1.000000     0.000000               0.000000   \n",
       "75%       0.000000         1.000000     0.000000               0.000000   \n",
       "max       1.000000         1.000000     1.000000               1.000000   \n",
       "\n",
       "       kenchiku_year      ...        zoning_工業専用地域  zoning_準住居地域  \\\n",
       "count    2895.000000      ...          2895.000000   2895.000000   \n",
       "mean     1997.783074      ...             0.000345      0.021071   \n",
       "std        12.189329      ...             0.018586      0.143645   \n",
       "min      1963.000000      ...             0.000000      0.000000   \n",
       "25%      1989.000000      ...             0.000000      0.000000   \n",
       "50%      2001.000000      ...             0.000000      0.000000   \n",
       "75%      2007.000000      ...             0.000000      0.000000   \n",
       "max      2016.000000      ...             1.000000      1.000000   \n",
       "\n",
       "       zoning_準工業地域  zoning_第１種中高層住居専用地域  zoning_第１種低層住居専用地域  zoning_第１種住居地域  \\\n",
       "count   2895.000000          2895.000000         2895.000000     2895.000000   \n",
       "mean       0.196546             0.123316            0.036269        0.099482   \n",
       "std        0.397455             0.328856            0.186992        0.299360   \n",
       "min        0.000000             0.000000            0.000000        0.000000   \n",
       "25%        0.000000             0.000000            0.000000        0.000000   \n",
       "50%        0.000000             0.000000            0.000000        0.000000   \n",
       "75%        0.000000             0.000000            0.000000        0.000000   \n",
       "max        1.000000             1.000000            1.000000        1.000000   \n",
       "\n",
       "       zoning_第２種中高層住居専用地域  zoning_第２種低層住居専用地域  zoning_第２種住居地域  zoning_近隣商業地域  \n",
       "count          2895.000000         2895.000000     2895.000000    2895.000000  \n",
       "mean              0.024870            0.002763        0.037306       0.129534  \n",
       "std               0.155757            0.052504        0.189543       0.335848  \n",
       "min               0.000000            0.000000        0.000000       0.000000  \n",
       "25%               0.000000            0.000000        0.000000       0.000000  \n",
       "50%               0.000000            0.000000        0.000000       0.000000  \n",
       "75%               0.000000            0.000000        0.000000       0.000000  \n",
       "max               1.000000            1.000000        1.000000       1.000000  \n",
       "\n",
       "[8 rows x 81 columns]"
      ]
     },
     "execution_count": 207,
     "metadata": {},
     "output_type": "execute_result"
    }
   ],
   "source": [
    "print('====validation=====')\n",
    "validation.describe()\n"
   ]
  },
  {
   "cell_type": "code",
   "execution_count": 208,
   "metadata": {
    "collapsed": false,
    "deletable": true,
    "editable": true
   },
   "outputs": [
    {
     "name": "stdout",
     "output_type": "stream",
     "text": [
      "====testing=====\n"
     ]
    },
    {
     "data": {
      "text/html": [
       "<div>\n",
       "<table border=\"1\" class=\"dataframe\">\n",
       "  <thead>\n",
       "    <tr style=\"text-align: right;\">\n",
       "      <th></th>\n",
       "      <th>ekikyori</th>\n",
       "      <th>price</th>\n",
       "      <th>menseki</th>\n",
       "      <th>kenpeiritsu</th>\n",
       "      <th>yousekiritsu</th>\n",
       "      <th>is_reformed</th>\n",
       "      <th>is_not_reformed</th>\n",
       "      <th>is_auction</th>\n",
       "      <th>is_direct_transaction</th>\n",
       "      <th>kenchiku_year</th>\n",
       "      <th>...</th>\n",
       "      <th>zoning_工業専用地域</th>\n",
       "      <th>zoning_準住居地域</th>\n",
       "      <th>zoning_準工業地域</th>\n",
       "      <th>zoning_第１種中高層住居専用地域</th>\n",
       "      <th>zoning_第１種低層住居専用地域</th>\n",
       "      <th>zoning_第１種住居地域</th>\n",
       "      <th>zoning_第２種中高層住居専用地域</th>\n",
       "      <th>zoning_第２種低層住居専用地域</th>\n",
       "      <th>zoning_第２種住居地域</th>\n",
       "      <th>zoning_近隣商業地域</th>\n",
       "    </tr>\n",
       "  </thead>\n",
       "  <tbody>\n",
       "    <tr>\n",
       "      <th>count</th>\n",
       "      <td>1880.000000</td>\n",
       "      <td>1.880000e+03</td>\n",
       "      <td>1880.000000</td>\n",
       "      <td>1880.000000</td>\n",
       "      <td>1880.000000</td>\n",
       "      <td>1880.000000</td>\n",
       "      <td>1880.000000</td>\n",
       "      <td>1880.000000</td>\n",
       "      <td>1880.000000</td>\n",
       "      <td>1880.000000</td>\n",
       "      <td>...</td>\n",
       "      <td>1880.0</td>\n",
       "      <td>1880.000000</td>\n",
       "      <td>1880.000000</td>\n",
       "      <td>1880.000000</td>\n",
       "      <td>1880.000000</td>\n",
       "      <td>1880.000000</td>\n",
       "      <td>1880.000000</td>\n",
       "      <td>1880.000000</td>\n",
       "      <td>1880.000000</td>\n",
       "      <td>1880.000000</td>\n",
       "    </tr>\n",
       "    <tr>\n",
       "      <th>mean</th>\n",
       "      <td>7.515426</td>\n",
       "      <td>3.398229e+07</td>\n",
       "      <td>47.656915</td>\n",
       "      <td>0.686968</td>\n",
       "      <td>3.539894</td>\n",
       "      <td>0.269681</td>\n",
       "      <td>0.729787</td>\n",
       "      <td>0.012766</td>\n",
       "      <td>0.001064</td>\n",
       "      <td>1997.857979</td>\n",
       "      <td>...</td>\n",
       "      <td>0.0</td>\n",
       "      <td>0.015957</td>\n",
       "      <td>0.195213</td>\n",
       "      <td>0.137234</td>\n",
       "      <td>0.036170</td>\n",
       "      <td>0.092021</td>\n",
       "      <td>0.022340</td>\n",
       "      <td>0.000532</td>\n",
       "      <td>0.036170</td>\n",
       "      <td>0.128723</td>\n",
       "    </tr>\n",
       "    <tr>\n",
       "      <th>std</th>\n",
       "      <td>6.107323</td>\n",
       "      <td>2.466596e+07</td>\n",
       "      <td>23.976702</td>\n",
       "      <td>0.106146</td>\n",
       "      <td>1.553397</td>\n",
       "      <td>0.443912</td>\n",
       "      <td>0.444188</td>\n",
       "      <td>0.112293</td>\n",
       "      <td>0.032608</td>\n",
       "      <td>12.007783</td>\n",
       "      <td>...</td>\n",
       "      <td>0.0</td>\n",
       "      <td>0.125344</td>\n",
       "      <td>0.396470</td>\n",
       "      <td>0.344186</td>\n",
       "      <td>0.186763</td>\n",
       "      <td>0.289133</td>\n",
       "      <td>0.147827</td>\n",
       "      <td>0.023063</td>\n",
       "      <td>0.186763</td>\n",
       "      <td>0.334983</td>\n",
       "    </tr>\n",
       "    <tr>\n",
       "      <th>min</th>\n",
       "      <td>0.000000</td>\n",
       "      <td>1.000000e+06</td>\n",
       "      <td>10.000000</td>\n",
       "      <td>0.400000</td>\n",
       "      <td>0.800000</td>\n",
       "      <td>0.000000</td>\n",
       "      <td>0.000000</td>\n",
       "      <td>0.000000</td>\n",
       "      <td>0.000000</td>\n",
       "      <td>1950.000000</td>\n",
       "      <td>...</td>\n",
       "      <td>0.0</td>\n",
       "      <td>0.000000</td>\n",
       "      <td>0.000000</td>\n",
       "      <td>0.000000</td>\n",
       "      <td>0.000000</td>\n",
       "      <td>0.000000</td>\n",
       "      <td>0.000000</td>\n",
       "      <td>0.000000</td>\n",
       "      <td>0.000000</td>\n",
       "      <td>0.000000</td>\n",
       "    </tr>\n",
       "    <tr>\n",
       "      <th>25%</th>\n",
       "      <td>4.000000</td>\n",
       "      <td>1.900000e+07</td>\n",
       "      <td>25.000000</td>\n",
       "      <td>0.600000</td>\n",
       "      <td>2.000000</td>\n",
       "      <td>0.000000</td>\n",
       "      <td>0.000000</td>\n",
       "      <td>0.000000</td>\n",
       "      <td>0.000000</td>\n",
       "      <td>1990.000000</td>\n",
       "      <td>...</td>\n",
       "      <td>0.0</td>\n",
       "      <td>0.000000</td>\n",
       "      <td>0.000000</td>\n",
       "      <td>0.000000</td>\n",
       "      <td>0.000000</td>\n",
       "      <td>0.000000</td>\n",
       "      <td>0.000000</td>\n",
       "      <td>0.000000</td>\n",
       "      <td>0.000000</td>\n",
       "      <td>0.000000</td>\n",
       "    </tr>\n",
       "    <tr>\n",
       "      <th>50%</th>\n",
       "      <td>6.000000</td>\n",
       "      <td>2.800000e+07</td>\n",
       "      <td>50.000000</td>\n",
       "      <td>0.600000</td>\n",
       "      <td>3.000000</td>\n",
       "      <td>0.000000</td>\n",
       "      <td>1.000000</td>\n",
       "      <td>0.000000</td>\n",
       "      <td>0.000000</td>\n",
       "      <td>2001.000000</td>\n",
       "      <td>...</td>\n",
       "      <td>0.0</td>\n",
       "      <td>0.000000</td>\n",
       "      <td>0.000000</td>\n",
       "      <td>0.000000</td>\n",
       "      <td>0.000000</td>\n",
       "      <td>0.000000</td>\n",
       "      <td>0.000000</td>\n",
       "      <td>0.000000</td>\n",
       "      <td>0.000000</td>\n",
       "      <td>0.000000</td>\n",
       "    </tr>\n",
       "    <tr>\n",
       "      <th>75%</th>\n",
       "      <td>9.000000</td>\n",
       "      <td>4.200000e+07</td>\n",
       "      <td>65.000000</td>\n",
       "      <td>0.800000</td>\n",
       "      <td>5.000000</td>\n",
       "      <td>1.000000</td>\n",
       "      <td>1.000000</td>\n",
       "      <td>0.000000</td>\n",
       "      <td>0.000000</td>\n",
       "      <td>2007.000000</td>\n",
       "      <td>...</td>\n",
       "      <td>0.0</td>\n",
       "      <td>0.000000</td>\n",
       "      <td>0.000000</td>\n",
       "      <td>0.000000</td>\n",
       "      <td>0.000000</td>\n",
       "      <td>0.000000</td>\n",
       "      <td>0.000000</td>\n",
       "      <td>0.000000</td>\n",
       "      <td>0.000000</td>\n",
       "      <td>0.000000</td>\n",
       "    </tr>\n",
       "    <tr>\n",
       "      <th>max</th>\n",
       "      <td>60.000000</td>\n",
       "      <td>3.300000e+08</td>\n",
       "      <td>200.000000</td>\n",
       "      <td>0.800000</td>\n",
       "      <td>9.000000</td>\n",
       "      <td>1.000000</td>\n",
       "      <td>1.000000</td>\n",
       "      <td>1.000000</td>\n",
       "      <td>1.000000</td>\n",
       "      <td>2016.000000</td>\n",
       "      <td>...</td>\n",
       "      <td>0.0</td>\n",
       "      <td>1.000000</td>\n",
       "      <td>1.000000</td>\n",
       "      <td>1.000000</td>\n",
       "      <td>1.000000</td>\n",
       "      <td>1.000000</td>\n",
       "      <td>1.000000</td>\n",
       "      <td>1.000000</td>\n",
       "      <td>1.000000</td>\n",
       "      <td>1.000000</td>\n",
       "    </tr>\n",
       "  </tbody>\n",
       "</table>\n",
       "<p>8 rows × 81 columns</p>\n",
       "</div>"
      ],
      "text/plain": [
       "          ekikyori         price      menseki  kenpeiritsu  yousekiritsu  \\\n",
       "count  1880.000000  1.880000e+03  1880.000000  1880.000000   1880.000000   \n",
       "mean      7.515426  3.398229e+07    47.656915     0.686968      3.539894   \n",
       "std       6.107323  2.466596e+07    23.976702     0.106146      1.553397   \n",
       "min       0.000000  1.000000e+06    10.000000     0.400000      0.800000   \n",
       "25%       4.000000  1.900000e+07    25.000000     0.600000      2.000000   \n",
       "50%       6.000000  2.800000e+07    50.000000     0.600000      3.000000   \n",
       "75%       9.000000  4.200000e+07    65.000000     0.800000      5.000000   \n",
       "max      60.000000  3.300000e+08   200.000000     0.800000      9.000000   \n",
       "\n",
       "       is_reformed  is_not_reformed   is_auction  is_direct_transaction  \\\n",
       "count  1880.000000      1880.000000  1880.000000            1880.000000   \n",
       "mean      0.269681         0.729787     0.012766               0.001064   \n",
       "std       0.443912         0.444188     0.112293               0.032608   \n",
       "min       0.000000         0.000000     0.000000               0.000000   \n",
       "25%       0.000000         0.000000     0.000000               0.000000   \n",
       "50%       0.000000         1.000000     0.000000               0.000000   \n",
       "75%       1.000000         1.000000     0.000000               0.000000   \n",
       "max       1.000000         1.000000     1.000000               1.000000   \n",
       "\n",
       "       kenchiku_year      ...        zoning_工業専用地域  zoning_準住居地域  \\\n",
       "count    1880.000000      ...               1880.0   1880.000000   \n",
       "mean     1997.857979      ...                  0.0      0.015957   \n",
       "std        12.007783      ...                  0.0      0.125344   \n",
       "min      1950.000000      ...                  0.0      0.000000   \n",
       "25%      1990.000000      ...                  0.0      0.000000   \n",
       "50%      2001.000000      ...                  0.0      0.000000   \n",
       "75%      2007.000000      ...                  0.0      0.000000   \n",
       "max      2016.000000      ...                  0.0      1.000000   \n",
       "\n",
       "       zoning_準工業地域  zoning_第１種中高層住居専用地域  zoning_第１種低層住居専用地域  zoning_第１種住居地域  \\\n",
       "count   1880.000000          1880.000000         1880.000000     1880.000000   \n",
       "mean       0.195213             0.137234            0.036170        0.092021   \n",
       "std        0.396470             0.344186            0.186763        0.289133   \n",
       "min        0.000000             0.000000            0.000000        0.000000   \n",
       "25%        0.000000             0.000000            0.000000        0.000000   \n",
       "50%        0.000000             0.000000            0.000000        0.000000   \n",
       "75%        0.000000             0.000000            0.000000        0.000000   \n",
       "max        1.000000             1.000000            1.000000        1.000000   \n",
       "\n",
       "       zoning_第２種中高層住居専用地域  zoning_第２種低層住居専用地域  zoning_第２種住居地域  zoning_近隣商業地域  \n",
       "count          1880.000000         1880.000000     1880.000000    1880.000000  \n",
       "mean              0.022340            0.000532        0.036170       0.128723  \n",
       "std               0.147827            0.023063        0.186763       0.334983  \n",
       "min               0.000000            0.000000        0.000000       0.000000  \n",
       "25%               0.000000            0.000000        0.000000       0.000000  \n",
       "50%               0.000000            0.000000        0.000000       0.000000  \n",
       "75%               0.000000            0.000000        0.000000       0.000000  \n",
       "max               1.000000            1.000000        1.000000       1.000000  \n",
       "\n",
       "[8 rows x 81 columns]"
      ]
     },
     "execution_count": 208,
     "metadata": {},
     "output_type": "execute_result"
    }
   ],
   "source": [
    "print('====testing=====')\n",
    "test.describe()"
   ]
  },
  {
   "cell_type": "code",
   "execution_count": 209,
   "metadata": {
    "collapsed": false,
    "deletable": true,
    "editable": true
   },
   "outputs": [
    {
     "data": {
      "text/plain": [
       "jiscode                  0\n",
       "shi                      0\n",
       "chiku                    0\n",
       "eki                      0\n",
       "ekikyori                 0\n",
       "price                    0\n",
       "madori                   0\n",
       "menseki                  0\n",
       "kenchikunen              0\n",
       "kouzou                   0\n",
       "youto                    0\n",
       "mokuteki                 0\n",
       "toshikeikaku             0\n",
       "kenpeiritsu              0\n",
       "yousekiritsu             0\n",
       "torihiki_jiten           0\n",
       "bikou                    0\n",
       "is_reformed              0\n",
       "is_not_reformed          0\n",
       "is_auction               0\n",
       "is_direct_transaction    0\n",
       "kenchiku_year            0\n",
       "transaction_year         0\n",
       "age                      0\n",
       "price_log10              0\n",
       "bedrooms                 0\n",
       "town_あきる野市               0\n",
       "town_三鷹市                 0\n",
       "town_世田谷区                0\n",
       "town_中央区                 0\n",
       "                        ..\n",
       "town_福生市                 0\n",
       "town_稲城市                 0\n",
       "town_立川市                 0\n",
       "town_練馬区                 0\n",
       "town_羽村市                 0\n",
       "town_荒川区                 0\n",
       "town_葛飾区                 0\n",
       "town_西東京市                0\n",
       "town_調布市                 0\n",
       "town_豊島区                 0\n",
       "town_足立区                 0\n",
       "town_青梅市                 0\n",
       "material_鉄骨造             0\n",
       "material_ＲＣ              0\n",
       "material_ＳＲＣ             0\n",
       "purpose_その他              0\n",
       "purpose_事務所              0\n",
       "purpose_住宅               0\n",
       "zoning_商業地域              0\n",
       "zoning_工業地域              0\n",
       "zoning_工業専用地域            0\n",
       "zoning_準住居地域             0\n",
       "zoning_準工業地域             0\n",
       "zoning_第１種中高層住居専用地域      0\n",
       "zoning_第１種低層住居専用地域       0\n",
       "zoning_第１種住居地域           0\n",
       "zoning_第２種中高層住居専用地域      0\n",
       "zoning_第２種低層住居専用地域       0\n",
       "zoning_第２種住居地域           0\n",
       "zoning_近隣商業地域            0\n",
       "dtype: int64"
      ]
     },
     "execution_count": 209,
     "metadata": {},
     "output_type": "execute_result"
    }
   ],
   "source": [
    "train.isnull().sum()"
   ]
  },
  {
   "cell_type": "markdown",
   "metadata": {
    "deletable": true,
    "editable": true
   },
   "source": [
    "# The distribution of Price and its correlation with other variables\n",
    "The histogram of apartment price is concentrated to the left and is skewed to the right. It appears we have some outliers in the training data set."
   ]
  },
  {
   "cell_type": "code",
   "execution_count": 247,
   "metadata": {
    "collapsed": false,
    "deletable": true,
    "editable": true
   },
   "outputs": [
    {
     "data": {
      "image/png": "[encoded data removed]",
      "text/plain": [
       "<matplotlib.figure.Figure at 0x1236ee5f8>"
      ]
     },
     "metadata": {},
     "output_type": "display_data"
    }
   ],
   "source": [
    "sns.distplot(train.price, kde=False, rug=False)\n",
    "sns.plt.title('The variation of Price in Training data set')\n",
    "sns.plt.savefig('hist_price.png')"
   ]
  },
  {
   "cell_type": "markdown",
   "metadata": {
    "deletable": true,
    "editable": true
   },
   "source": [
    "The price varies a lot, and it is skewed. It is concentrated on the left tail, but some aparments are very expensive. The distribution can also be checked by the quantiles of the price."
   ]
  },
  {
   "cell_type": "code",
   "execution_count": 251,
   "metadata": {
    "collapsed": false,
    "deletable": true,
    "editable": true
   },
   "outputs": [
    {
     "data": {
      "text/plain": [
       "count       0.011479\n",
       "mean       33.634348\n",
       "std        43.432749\n",
       "min         0.240000\n",
       "25%        18.000000\n",
       "50%        27.000000\n",
       "75%        40.000000\n",
       "max      3200.000000\n",
       "Name: price, dtype: float64"
      ]
     },
     "execution_count": 251,
     "metadata": {},
     "output_type": "execute_result"
    }
   ],
   "source": [
    "train.describe()['price']/1000000.0"
   ]
  },
  {
   "cell_type": "code",
   "execution_count": 252,
   "metadata": {
    "collapsed": false,
    "deletable": true,
    "editable": true
   },
   "outputs": [
    {
     "data": {
      "image/png": "[encoded data removed]",
      "text/plain": [
       "<matplotlib.figure.Figure at 0x1225b9208>"
      ]
     },
     "metadata": {},
     "output_type": "display_data"
    }
   ],
   "source": [
    "d['price_log10'] = np.log10(d.price)\n",
    "train['price_log10'] = np.log10(train.price)\n",
    "sns.distplot(train.price_log10, kde=False, rug=False)\n",
    "sns.plt.title('The variation of Price in Training data set')\n",
    "sns.plt.savefig('hist_log_price_train.png')"
   ]
  },
  {
   "cell_type": "markdown",
   "metadata": {
    "deletable": true,
    "editable": true
   },
   "source": [
    "The graph shows the histogram of price in Log 10 scale, and it is symetric and looks normally distributed. We check the distribution of price with other variables."
   ]
  },
  {
   "cell_type": "markdown",
   "metadata": {
    "deletable": true,
    "editable": true
   },
   "source": [
    "Price is positively correlated with menseki. The larger the room is the higher the price is. Ekikyori does not look highly correlated with the price as we don't see any trend. When is_reformed = 1, the prices looks slightly higher. "
   ]
  },
  {
   "cell_type": "code",
   "execution_count": 254,
   "metadata": {
    "collapsed": false,
    "deletable": true,
    "editable": true
   },
   "outputs": [
    {
     "data": {
      "image/png": "[encoded data removed]",
      "text/plain": [
       "<matplotlib.figure.Figure at 0x12251edd8>"
      ]
     },
     "metadata": {},
     "output_type": "display_data"
    }
   ],
   "source": [
    "sns.pairplot(train[['price_log10','menseki','ekikyori','is_reformed','madori']])\n",
    "sns.plt.savefig('pairs_log_price_train1.png')"
   ]
  },
  {
   "cell_type": "code",
   "execution_count": 255,
   "metadata": {
    "collapsed": false,
    "deletable": true,
    "editable": true
   },
   "outputs": [
    {
     "data": {
      "image/png": "[encoded data removed]",
      "text/plain": [
       "<matplotlib.figure.Figure at 0x13d008898>"
      ]
     },
     "metadata": {},
     "output_type": "display_data"
    }
   ],
   "source": [
    "sns.pairplot(train[['price_log10','kouzou','youto','mokuteki','kenpeiritsu','yousekiritsu','bikou','is_auction']])\n",
    "sns.plt.savefig('pairs_log_price_train2.png')"
   ]
  },
  {
   "cell_type": "markdown",
   "metadata": {
    "deletable": true,
    "editable": true
   },
   "source": [
    "Kenpeiritsu and Yousekiritsu do not look correlated with the price very much. is_auction does not look correlated with price either, though the variance of the distribution of price is different for is_aucition = 0 and is_aucitin = 1."
   ]
  },
  {
   "cell_type": "code",
   "execution_count": 256,
   "metadata": {
    "collapsed": false,
    "deletable": true,
    "editable": true
   },
   "outputs": [
    {
     "data": {
      "image/png": "[encoded data removed]",
      "text/plain": [
       "<matplotlib.figure.Figure at 0x10a7067b8>"
      ]
     },
     "metadata": {},
     "output_type": "display_data"
    }
   ],
   "source": [
    "sns.pairplot(train[['price_log10','is_direct_transaction','age','transaction_year']])\n",
    "sns.plt.savefig('pairs_log_price_train3.png')"
   ]
  },
  {
   "cell_type": "markdown",
   "metadata": {
    "deletable": true,
    "editable": true
   },
   "source": [
    "A similar observation can be found for is_direct_transaction. It does not correlated but when is_direct = 1, the variation of the price is smaller than that of the price when is_direct = 0. For the transaction year, The price looks lower when the transaction year = 2016 than year 2015. As the age increases (i.e. apartment gets older), the price tends to be lower. "
   ]
  },
  {
   "cell_type": "markdown",
   "metadata": {
    "deletable": true,
    "editable": true
   },
   "source": [
    "# Benchmark model\n",
    "We build a benchmark model by linear regression and calculate the MSE."
   ]
  },
  {
   "cell_type": "code",
   "execution_count": 262,
   "metadata": {
    "collapsed": false,
    "deletable": true,
    "editable": true
   },
   "outputs": [
    {
     "name": "stdout",
     "output_type": "stream",
     "text": [
      "['menseki', 'ekikyori', 'is_reformed', 'bedrooms', 'kenpeiritsu', 'yousekiritsu', 'is_auction', 'is_direct_transaction', 'age', 'transaction_year', 'town_あきる野市', 'town_三鷹市', 'town_世田谷区', 'town_中央区', 'town_中野区', 'town_八王子市', 'town_北区', 'town_千代田区', 'town_台東区', 'town_品川区', 'town_国分寺市', 'town_国立市', 'town_墨田区', 'town_多摩市', 'town_大田区', 'town_小平市', 'town_小金井市', 'town_府中市', 'town_文京区', 'town_新宿区', 'town_日野市', 'town_昭島市', 'town_杉並区', 'town_東久留米市', 'town_東大和市', 'town_東村山市', 'town_板橋区', 'town_武蔵村山市', 'town_武蔵野市', 'town_江戸川区', 'town_江東区', 'town_清瀬市', 'town_渋谷区', 'town_港区', 'town_狛江市', 'town_町田市', 'town_目黒区', 'town_福生市', 'town_稲城市', 'town_立川市', 'town_練馬区', 'town_羽村市', 'town_荒川区', 'town_葛飾区', 'town_西東京市', 'town_調布市', 'town_豊島区', 'town_足立区', 'town_青梅市', 'material_鉄骨造', 'material_ＲＣ', 'material_ＳＲＣ', 'purpose_その他', 'purpose_事務所', 'purpose_住宅', 'zoning_商業地域', 'zoning_工業地域', 'zoning_工業専用地域', 'zoning_準住居地域', 'zoning_準工業地域', 'zoning_第１種中高層住居専用地域', 'zoning_第１種低層住居専用地域', 'zoning_第１種住居地域', 'zoning_第２種中高層住居専用地域', 'zoning_第２種低層住居専用地域', 'zoning_第２種住居地域', 'zoning_近隣商業地域']\n",
      "77\n"
     ]
    }
   ],
   "source": [
    "from itertools import chain\n",
    "town_columns = train.columns[train.columns.str.startswith('town')]\n",
    "material_columns = train.columns[train.columns.str.startswith('material')]\n",
    "purpose_columns = train.columns[train.columns.str.startswith('purpose')]\n",
    "zoning_columns = train.columns[train.columns.str.startswith('zoning')]\n",
    "\n",
    "predicting_cols = ['menseki','ekikyori','is_reformed', 'bedrooms','kenpeiritsu','yousekiritsu','is_auction',\n",
    "                  'is_direct_transaction','age','transaction_year']\n",
    "for v in town_columns:\n",
    "    predicting_cols.append(v)\n",
    "for v in material_columns:\n",
    "    predicting_cols.append(v)\n",
    "for v in purpose_columns:\n",
    "    predicting_cols.append(v)\n",
    "for v in zoning_columns:\n",
    "    predicting_cols.append(v)\n",
    "\n",
    "print(predicting_cols)\n",
    "print(len(predicting_cols))"
   ]
  },
  {
   "cell_type": "code",
   "execution_count": 263,
   "metadata": {
    "collapsed": false,
    "deletable": true,
    "editable": true
   },
   "outputs": [
    {
     "name": "stdout",
     "output_type": "stream",
     "text": [
      "training MSE: 0.0150  validation MSE: 0.0196\n"
     ]
    }
   ],
   "source": [
    "from sklearn import linear_model\n",
    "import matplotlib.pyplot as plt\n",
    "from sklearn.model_selection import cross_val_predict\n",
    "from sklearn.metrics import mean_squared_error\n",
    "\n",
    "y = train.price_log10\n",
    "X = train[predicting_cols]\n",
    "y_val = validation.price_log10\n",
    "X_val = validation[predicting_cols]\n",
    "y_test = test.price_log10\n",
    "X_test = test[predicting_cols]\n",
    "\n",
    "lr = linear_model.LinearRegression()\n",
    "\n",
    "lr.fit(X, y)\n",
    "pred_train = lr.predict(X)\n",
    "pred_val = lr.predict(X_val)\n",
    "mse_train = mean_squared_error(pred_train, y)\n",
    "mse_validation  = mean_squared_error(pred_val, y_val)\n",
    "\n",
    "print(\"training MSE: {0:6.4f}  validation MSE: {1:6.4f}\".format(mse_train, mse_validation))"
   ]
  },
  {
   "cell_type": "markdown",
   "metadata": {
    "deletable": true,
    "editable": true
   },
   "source": [
    "For the training, MSE is 0.015 and the validation MSE is 0.020.\n",
    "\n",
    "### Building a Model: Random Forest\n",
    "We build a model using Random Forest. We start with a simple RF model using the default parameter. We then tune the hyper-parameter using the cross validation method."
   ]
  },
  {
   "cell_type": "code",
   "execution_count": 264,
   "metadata": {
    "collapsed": false,
    "deletable": true,
    "editable": true
   },
   "outputs": [
    {
     "name": "stdout",
     "output_type": "stream",
     "text": [
      "training MSE: 0.0031  validation MSE: 0.0161\n"
     ]
    }
   ],
   "source": [
    "from sklearn.ensemble import RandomForestRegressor\n",
    "\n",
    "rf = RandomForestRegressor()\n",
    "rf.fit(X, y)\n",
    "\n",
    "pred_train = rf.predict(X)\n",
    "pred_val = rf.predict(X_val)\n",
    "mse_train = mean_squared_error(pred_train, y)\n",
    "mse_validation  = mean_squared_error(pred_val, y_val)\n",
    "print(\"training MSE: {0:6.4f}  validation MSE: {1:6.4f}\".format(mse_train, mse_validation))"
   ]
  },
  {
   "cell_type": "markdown",
   "metadata": {
    "deletable": true,
    "editable": true
   },
   "source": [
    "Using RF model reduced MSE from 0.015 to 0.003 for training, but the validation MSE remained almost the same and changed from 0.0196 to 0.016.\n",
    "\n",
    "Now we update the hyper parameters of the model.\n",
    "\n"
   ]
  },
  {
   "cell_type": "code",
   "execution_count": 271,
   "metadata": {
    "collapsed": false,
    "deletable": true,
    "editable": true
   },
   "outputs": [
    {
     "name": "stdout",
     "output_type": "stream",
     "text": [
      "Tuned model has a training F1 score of 0.0022.\n",
      "Tuned model has a testing F1 score of 0.0147.\n"
     ]
    }
   ],
   "source": [
    "from sklearn.grid_search import GridSearchCV\n",
    "from sklearn.metrics import make_scorer\n",
    "\n",
    "parameters = {'n_estimators':[10, 50, 100, 500]}\n",
    "\n",
    "clf = RandomForestRegressor(n_estimators=100)\n",
    "grid_obj = GridSearchCV(clf, param_grid=parameters, scoring='neg_mean_squared_error', cv=5, n_jobs=-1)\n",
    "\n",
    "grid_obj = grid_obj.fit(X, y)\n",
    "\n",
    "# Get the estimator\n",
    "clf = grid_obj.best_estimator_\n",
    "\n",
    "# Report the final F1 score for training and testing after parameter tuning\n",
    "print(\"Tuned model has a training F1 score of {:.4f}.\".format(mean_squared_error(clf.predict(X), y)))\n",
    "print(\"Tuned model has a testing F1 score of {:.4f}.\".format(mean_squared_error(clf.predict(X_val), y_val)))\n",
    "\n",
    "#rf.fit(X, y)\n",
    "\n",
    "#pred_train = rf.predict(X)\n",
    "#pred_val = rf.predict(X_val)\n",
    "#mse_train = mean_squared_error(pred_train, y)\n",
    "#mse_validation  = mean_squared_error(pred_val, y_val)\n",
    "#print(\"training MSE: {0:6.4f}  validation MSE: {1:6.4f}\".format(mse_train, mse_validation))"
   ]
  },
  {
   "cell_type": "code",
   "execution_count": 273,
   "metadata": {
    "collapsed": false,
    "deletable": true,
    "editable": true
   },
   "outputs": [
    {
     "data": {
      "text/plain": [
       "{'n_estimators': 500}"
      ]
     },
     "execution_count": 273,
     "metadata": {},
     "output_type": "execute_result"
    }
   ],
   "source": [
    "grid_obj.best_params_"
   ]
  },
  {
   "cell_type": "code",
   "execution_count": 278,
   "metadata": {
    "collapsed": false,
    "deletable": true,
    "editable": true
   },
   "outputs": [
    {
     "name": "stdout",
     "output_type": "stream",
     "text": [
      "RandomizedSearchCV took 131.60 seconds for 20 candidates parameter settings.\n",
      "Model with rank: 1\n",
      "Mean validation score: -0.037 (std: 0.020)\n",
      "Parameters: {'bootstrap': False, 'max_features': 7, 'max_depth': None, 'min_samples_leaf': 1, 'min_samples_split': 4}\n",
      "\n",
      "Model with rank: 2\n",
      "Mean validation score: -0.038 (std: 0.021)\n",
      "Parameters: {'bootstrap': True, 'max_features': 9, 'max_depth': None, 'min_samples_leaf': 2, 'min_samples_split': 10}\n",
      "\n",
      "Model with rank: 3\n",
      "Mean validation score: -0.039 (std: 0.020)\n",
      "Parameters: {'bootstrap': False, 'max_features': 3, 'max_depth': None, 'min_samples_leaf': 1, 'min_samples_split': 4}\n",
      "\n"
     ]
    }
   ],
   "source": [
    "from sklearn.model_selection import RandomizedSearchCV\n",
    "from time import time\n",
    "from scipy.stats import randint as sp_randint\n",
    "\n",
    "# Utility function to report best scores\n",
    "def report(results, n_top=3):\n",
    "    for i in range(1, n_top + 1):\n",
    "        candidates = np.flatnonzero(results['rank_test_score'] == i)\n",
    "        for candidate in candidates:\n",
    "            print(\"Model with rank: {0}\".format(i))\n",
    "            print(\"Mean validation score: {0:.3f} (std: {1:.3f})\".format(\n",
    "                  results['mean_test_score'][candidate],\n",
    "                  results['std_test_score'][candidate]))\n",
    "            print(\"Parameters: {0}\".format(results['params'][candidate]))\n",
    "            print(\"\")\n",
    "\n",
    "\"\"\"\n",
    "param_dist = {\"max_depth\": [3, None],\n",
    "              \"max_features\": sp_randint(1, 11),\n",
    "              \"min_samples_split\": sp_randint(1, 11),\n",
    "              \"min_samples_leaf\": sp_randint(1, 11),\n",
    "              \"bootstrap\": [True, False],\n",
    "              \"criterion\": [\"gini\", \"entropy\"]}\n",
    "\"\"\"\n",
    "param_dist = {\"max_depth\": [3, None],\n",
    "              \"max_features\": sp_randint(1, 11),\n",
    "              \"min_samples_split\": sp_randint(2, 11),\n",
    "              \"min_samples_leaf\": sp_randint(1, 11),\n",
    "              \"bootstrap\": [True, False]}\n",
    "\n",
    "clf = RandomForestRegressor(n_estimators=500, random_state=32)\n",
    "\n",
    "n_iter_search = 20\n",
    "random_search = RandomizedSearchCV(clf, param_distributions=param_dist,\n",
    "                                   n_iter=n_iter_search, random_state=893, \n",
    "                                  n_jobs=-1, cv = 5, scoring='neg_mean_squared_error')\n",
    "\n",
    "start = time()\n",
    "random_search.fit(X, y)\n",
    "print(\"RandomizedSearchCV took %.2f seconds for %d candidates\"\n",
    "      \" parameter settings.\" % ((time() - start), n_iter_search))\n",
    "report(random_search.cv_results_)"
   ]
  },
  {
   "cell_type": "code",
   "execution_count": 283,
   "metadata": {
    "collapsed": false,
    "deletable": true,
    "editable": true
   },
   "outputs": [
    {
     "name": "stdout",
     "output_type": "stream",
     "text": [
      "Tuned model has a training MSE of 0.0018.\n",
      "Tuned model has a validation MSE score of 0.0137.\n"
     ]
    }
   ],
   "source": [
    "clf_final = RandomForestRegressor(n_estimators=500, random_state=32, max_features=7, max_depth=None,\n",
    "                           min_samples_leaf = 1, min_samples_split = 4, bootstrap=False)\n",
    "clf_final.fit(X, y)\n",
    "print(\"Tuned model has a training MSE of {:.4f}.\".format(mean_squared_error(clf_final.predict(X), y)))\n",
    "print(\"Tuned model has a validation MSE score of {:.4f}.\".format(mean_squared_error(clf_final.predict(X_val), y_val)))"
   ]
  },
  {
   "cell_type": "code",
   "execution_count": 284,
   "metadata": {
    "collapsed": false,
    "deletable": true,
    "editable": true
   },
   "outputs": [
    {
     "data": {
      "text/plain": [
       "0.30102040816326525"
      ]
     },
     "execution_count": 284,
     "metadata": {},
     "output_type": "execute_result"
    }
   ],
   "source": [
    "(0.0196 - 0.0137)/0.0196\n"
   ]
  },
  {
   "cell_type": "markdown",
   "metadata": {
    "deletable": true,
    "editable": true
   },
   "source": [
    "## The performance on the test data set\n",
    "Use the final data set to predict the performance on the test data set."
   ]
  },
  {
   "cell_type": "code",
   "execution_count": 285,
   "metadata": {
    "collapsed": false,
    "deletable": true,
    "editable": true
   },
   "outputs": [
    {
     "name": "stdout",
     "output_type": "stream",
     "text": [
      "Tuned model has a testing MSE score of 0.0155.\n"
     ]
    }
   ],
   "source": [
    "print(\"Tuned model has a testing MSE score of {:.4f}.\".format(mean_squared_error(clf_final.predict(X_test), y_test)))"
   ]
  },
  {
   "cell_type": "markdown",
   "metadata": {
    "collapsed": true,
    "deletable": true,
    "editable": true
   },
   "source": [
    "## Model evaluation\n",
    "We look at the robustness of the model. First check the important features and see whether they make sense."
   ]
  },
  {
   "cell_type": "code",
   "execution_count": 297,
   "metadata": {
    "collapsed": false
   },
   "outputs": [
    {
     "name": "stdout",
     "output_type": "stream",
     "text": [
      "Feature ranking:\n",
      "1. feature menseki (0.298895)\n",
      "2. feature age (0.211932)\n",
      "3. feature bedrooms (0.106316)\n",
      "4. feature ekikyori (0.051499)\n",
      "5. feature yousekiritsu (0.032292)\n",
      "6. feature town_港区 (0.030137)\n",
      "7. feature town_八王子市 (0.015644)\n",
      "8. feature is_reformed (0.015554)\n",
      "9. feature town_青梅市 (0.014411)\n",
      "10. feature town_足立区 (0.010930)\n",
      "11. feature kenpeiritsu (0.008967)\n",
      "12. feature town_世田谷区 (0.008946)\n",
      "13. feature town_渋谷区 (0.008437)\n",
      "14. feature material_ＲＣ (0.007768)\n",
      "15. feature material_ＳＲＣ (0.007597)\n",
      "16. feature zoning_第２種住居地域 (0.007243)\n",
      "17. feature transaction_year (0.006831)\n",
      "18. feature town_品川区 (0.006795)\n",
      "19. feature town_中央区 (0.006357)\n",
      "20. feature town_目黒区 (0.005652)\n",
      "21. feature town_葛飾区 (0.005488)\n",
      "22. feature zoning_商業地域 (0.005360)\n",
      "23. feature zoning_第１種中高層住居専用地域 (0.005358)\n",
      "24. feature town_新宿区 (0.005318)\n",
      "25. feature zoning_準工業地域 (0.005289)\n",
      "26. feature zoning_第１種低層住居専用地域 (0.005146)\n",
      "27. feature town_立川市 (0.005048)\n",
      "28. feature town_江東区 (0.004402)\n",
      "29. feature town_大田区 (0.004182)\n",
      "30. feature purpose_住宅 (0.004146)\n",
      "31. feature town_千代田区 (0.004134)\n",
      "32. feature zoning_第１種住居地域 (0.004108)\n",
      "33. feature zoning_近隣商業地域 (0.003983)\n",
      "34. feature town_町田市 (0.003859)\n",
      "35. feature town_杉並区 (0.003655)\n",
      "36. feature purpose_その他 (0.003633)\n",
      "37. feature town_板橋区 (0.003552)\n",
      "38. feature town_東村山市 (0.003189)\n",
      "39. feature town_文京区 (0.002988)\n",
      "40. feature is_auction (0.002810)\n",
      "41. feature town_練馬区 (0.002674)\n",
      "42. feature town_福生市 (0.002673)\n",
      "43. feature town_日野市 (0.002631)\n",
      "44. feature town_江戸川区 (0.002605)\n",
      "45. feature zoning_工業地域 (0.002542)\n",
      "46. feature material_鉄骨造 (0.002422)\n",
      "47. feature zoning_第２種中高層住居専用地域 (0.002394)\n",
      "48. feature town_昭島市 (0.002354)\n",
      "49. feature town_多摩市 (0.002200)\n",
      "50. feature town_豊島区 (0.002172)\n",
      "51. feature zoning_準住居地域 (0.002038)\n",
      "52. feature town_中野区 (0.002004)\n",
      "53. feature town_武蔵野市 (0.001925)\n",
      "54. feature town_東久留米市 (0.001858)\n",
      "55. feature town_府中市 (0.001552)\n",
      "56. feature town_墨田区 (0.001433)\n",
      "57. feature town_羽村市 (0.001419)\n",
      "58. feature town_小平市 (0.001385)\n",
      "59. feature town_北区 (0.001324)\n",
      "60. feature town_西東京市 (0.001229)\n",
      "61. feature purpose_事務所 (0.001221)\n",
      "62. feature town_荒川区 (0.001128)\n",
      "63. feature town_台東区 (0.001092)\n",
      "64. feature town_調布市 (0.001084)\n",
      "65. feature town_三鷹市 (0.001023)\n",
      "66. feature town_清瀬市 (0.000834)\n",
      "67. feature town_東大和市 (0.000758)\n",
      "68. feature town_稲城市 (0.000726)\n",
      "69. feature town_国分寺市 (0.000642)\n",
      "70. feature is_direct_transaction (0.000584)\n",
      "71. feature town_狛江市 (0.000555)\n",
      "72. feature zoning_第２種低層住居専用地域 (0.000517)\n",
      "73. feature town_小金井市 (0.000464)\n",
      "74. feature town_国立市 (0.000315)\n",
      "75. feature town_武蔵村山市 (0.000299)\n",
      "76. feature town_あきる野市 (0.000074)\n",
      "77. feature zoning_工業専用地域 (0.000000)\n"
     ]
    },
    {
     "data": {
      "image/png": "[encoded data removed]",
      "text/plain": [
       "<matplotlib.figure.Figure at 0x1237adef0>"
      ]
     },
     "metadata": {},
     "output_type": "display_data"
    }
   ],
   "source": [
    "importances = clf_final.feature_importances_\n",
    "std = np.std([tree.feature_importances_ for tree in clf_final.estimators_],\n",
    "             axis=0)\n",
    "indices = np.argsort(importances)[::-1]\n",
    "\n",
    "# Print the feature ranking\n",
    "print(\"Feature ranking:\")\n",
    "for f in range(X.shape[1]):\n",
    "    print(\"%d. feature %s (%f)\" % (f + 1, X.columns[indices[f]], importances[indices[f]]))\n",
    "\n",
    "    \n",
    "# Plot the feature importances of the forest\n",
    "plt.figure()\n",
    "plt.title(\"Feature importances\")\n",
    "#plt.bar(range(X.shape[1]), importances[indices],\n",
    "#       color=\"r\", yerr=std[indices], align=\"center\")\n",
    "plt.bar(range(10), importances[indices][:10],\n",
    "       color=\"r\", yerr=std[indices][:10], align=\"center\")\n",
    "#plt.xticks(range(X.shape[1]), indices)\n",
    "#plt.xlim([-1, X.shape[1]])\n",
    "plt.xticks(range(10), X.columns[indices[:10]])\n",
    "plt.xlim([-1, 10])\n",
    "plt.show()\n"
   ]
  },
  {
   "cell_type": "code",
   "execution_count": 307,
   "metadata": {
    "collapsed": false
   },
   "outputs": [
    {
     "data": {
      "image/png": "[encoded data removed]",
      "text/plain": [
       "<matplotlib.figure.Figure at 0x13ddadd68>"
      ]
     },
     "metadata": {},
     "output_type": "display_data"
    }
   ],
   "source": [
    "df_importance = pd.DataFrame({'var':X.columns[indices], 'importance':importances[indices], 'std':std[indices] })\n",
    "df_importance.head(5)\n",
    "sns.barplot(y='var', x='importance', data=df_importance.head(5))\n",
    "sns.plt.savefig('bar_five_most_important_features.png')"
   ]
  },
  {
   "cell_type": "markdown",
   "metadata": {},
   "source": [
    "Menseki (size of room), Age, # of bedrooms, Ekikyori (walking distance from the nearest station), Yosekiritsu (Floor Area Ratio) are the five most important features to predict the price. These variables make sense. As the size of the room increases, the price would also increase. The number of bedrooms is similar to the size of the room, so it also correlates with the price. We can expect that the price will be lower as the apartment gets older. The walking distance from the nearest station should measure how convenient for residents to commute, so it can be expacted to be negatively correlated with the price.\n",
    "\n",
    "We can check if the model comforms with these expectations. The random forest model does not return a specific formula, but we can check the correlation by changing one variable while keeping the other variables fixed."
   ]
  },
  {
   "cell_type": "code",
   "execution_count": 324,
   "metadata": {
    "collapsed": false
   },
   "outputs": [
    {
     "data": {
      "text/plain": [
       "menseki                    65.0\n",
       "ekikyori                    4.0\n",
       "is_reformed                 0.0\n",
       "bedrooms                    2.0\n",
       "kenpeiritsu                 0.8\n",
       "yousekiritsu                5.0\n",
       "is_auction                  0.0\n",
       "is_direct_transaction       0.0\n",
       "age                         9.0\n",
       "transaction_year         2016.0\n",
       "town_あきる野市                  0.0\n",
       "town_三鷹市                    0.0\n",
       "town_世田谷区                   0.0\n",
       "town_中央区                    0.0\n",
       "town_中野区                    0.0\n",
       "town_八王子市                   0.0\n",
       "town_北区                     0.0\n",
       "town_千代田区                   1.0\n",
       "town_台東区                    0.0\n",
       "town_品川区                    0.0\n",
       "town_国分寺市                   0.0\n",
       "town_国立市                    0.0\n",
       "town_墨田区                    0.0\n",
       "town_多摩市                    0.0\n",
       "town_大田区                    0.0\n",
       "town_小平市                    0.0\n",
       "town_小金井市                   0.0\n",
       "town_府中市                    0.0\n",
       "town_文京区                    0.0\n",
       "town_新宿区                    0.0\n",
       "                          ...  \n",
       "town_福生市                    0.0\n",
       "town_稲城市                    0.0\n",
       "town_立川市                    0.0\n",
       "town_練馬区                    0.0\n",
       "town_羽村市                    0.0\n",
       "town_荒川区                    0.0\n",
       "town_葛飾区                    0.0\n",
       "town_西東京市                   0.0\n",
       "town_調布市                    0.0\n",
       "town_豊島区                    0.0\n",
       "town_足立区                    0.0\n",
       "town_青梅市                    0.0\n",
       "material_鉄骨造                0.0\n",
       "material_ＲＣ                 1.0\n",
       "material_ＳＲＣ                0.0\n",
       "purpose_その他                 0.0\n",
       "purpose_事務所                 0.0\n",
       "purpose_住宅                  1.0\n",
       "zoning_商業地域                 1.0\n",
       "zoning_工業地域                 0.0\n",
       "zoning_工業専用地域               0.0\n",
       "zoning_準住居地域                0.0\n",
       "zoning_準工業地域                0.0\n",
       "zoning_第１種中高層住居専用地域         0.0\n",
       "zoning_第１種低層住居専用地域          0.0\n",
       "zoning_第１種住居地域              0.0\n",
       "zoning_第２種中高層住居専用地域         0.0\n",
       "zoning_第２種低層住居専用地域          0.0\n",
       "zoning_第２種住居地域              0.0\n",
       "zoning_近隣商業地域               0.0\n",
       "Name: 4, dtype: float64"
      ]
     },
     "execution_count": 324,
     "metadata": {},
     "output_type": "execute_result"
    }
   ],
   "source": [
    "X0 = X.iloc[0]\n",
    "X0\n",
    "#clf_final.predict(X_test)"
   ]
  },
  {
   "cell_type": "markdown",
   "metadata": {},
   "source": [
    "We use the first record in the training data as the base record. It has the room size 65 square meters. We check if the predicted price increases when we set a large room size. We test this by increasing it to 75 square meters."
   ]
  },
  {
   "cell_type": "code",
   "execution_count": 327,
   "metadata": {
    "collapsed": false
   },
   "outputs": [
    {
     "name": "stdout",
     "output_type": "stream",
     "text": [
      "65.0 75.0\n",
      "Predicted Price: 65 m2 2638.5788   75 m2 2740.2395  diff%0.0385.\n"
     ]
    },
    {
     "name": "stderr",
     "output_type": "stream",
     "text": [
      "//anaconda/envs/mlnd-capstone/lib/python3.5/site-packages/pandas/core/generic.py:2773: SettingWithCopyWarning: \n",
      "A value is trying to be set on a copy of a slice from a DataFrame\n",
      "\n",
      "See the caveats in the documentation: http://pandas.pydata.org/pandas-docs/stable/indexing.html#indexing-view-versus-copy\n",
      "  self[name] = value\n",
      "//anaconda/envs/mlnd-capstone/lib/python3.5/site-packages/sklearn/utils/validation.py:395: DeprecationWarning: Passing 1d arrays as data is deprecated in 0.17 and will raise ValueError in 0.19. Reshape your data either using X.reshape(-1, 1) if your data has a single feature or X.reshape(1, -1) if it contains a single sample.\n",
      "  DeprecationWarning)\n",
      "//anaconda/envs/mlnd-capstone/lib/python3.5/site-packages/sklearn/utils/validation.py:395: DeprecationWarning: Passing 1d arrays as data is deprecated in 0.17 and will raise ValueError in 0.19. Reshape your data either using X.reshape(-1, 1) if your data has a single feature or X.reshape(1, -1) if it contains a single sample.\n",
      "  DeprecationWarning)\n"
     ]
    }
   ],
   "source": [
    "X1 = X.iloc[0]\n",
    "X1.menseki = 75\n",
    "print(X0.menseki, X1.menseki)\n",
    "y_small_menseki = clf_final.predict(X0)\n",
    "y_large_menseki = clf_final.predict(X1)\n",
    "\n",
    "print(\"Predicted Price: 65 m2 {:.4f}   75 m2 {:.4f}  diff%{:.4f}.\".format(np.exp(y_small_menseki[0]), np.exp(y_large_menseki[0]), \n",
    "                                                                         np.exp(y_large_menseki[0])/np.exp(y_small_menseki[0])-1))"
   ]
  },
  {
   "cell_type": "markdown",
   "metadata": {},
   "source": [
    "The predicted price for an aparment with 65 square meters is 26,385,788 JPY. If the size of the same room were to increase to 75 square meters, the model would predict that the price would be 27,402,395 JPY, which is an increase of 3.85%. \n",
    "We repeat the same for the other four variables."
   ]
  },
  {
   "cell_type": "code",
   "execution_count": 329,
   "metadata": {
    "collapsed": false
   },
   "outputs": [
    {
     "data": {
      "text/plain": [
       "menseki         65.0\n",
       "age              9.0\n",
       "ekikyori         4.0\n",
       "bedrooms         2.0\n",
       "yousekiritsu     5.0\n",
       "Name: 4, dtype: float64"
      ]
     },
     "execution_count": 329,
     "metadata": {},
     "output_type": "execute_result"
    }
   ],
   "source": [
    "X_age = X.iloc[0]\n",
    "X_bedrooms = X.iloc[0]\n",
    "X_ekikyori = X.iloc[0]\n",
    "X_far = X.iloc[0]\n",
    "\n",
    "X.iloc[0][['menseki','age', 'ekikyori','bedrooms','yousekiritsu']]"
   ]
  },
  {
   "cell_type": "code",
   "execution_count": 355,
   "metadata": {
    "collapsed": false
   },
   "outputs": [
    {
     "name": "stderr",
     "output_type": "stream",
     "text": [
      "//anaconda/envs/mlnd-capstone/lib/python3.5/site-packages/pandas/core/generic.py:2773: SettingWithCopyWarning: \n",
      "A value is trying to be set on a copy of a slice from a DataFrame\n",
      "\n",
      "See the caveats in the documentation: http://pandas.pydata.org/pandas-docs/stable/indexing.html#indexing-view-versus-copy\n",
      "  self[name] = value\n"
     ]
    },
    {
     "name": "stdout",
     "output_type": "stream",
     "text": [
      "Base Price: 2638578.8\n",
      "Base #Bedrooms: 2.0  Comparison #Bedrooms: 3.0  Predicted Price: 2570121.2   Diff%: -0.0259\n",
      "Base Age: 9.0  Comparison Age: 15.0  Predicted Price: 2448823.0   Diff%: -0.0719\n",
      "Base Distance: 4.0  Comparison Distance: 10.0  Predicted Price: 2420506.3   Diff%: -0.0826\n",
      "Base FAR: 5.0  Comparison FAR: 2.0  Predicted Price: 2241615.3   Diff%: -0.1504\n"
     ]
    },
    {
     "name": "stderr",
     "output_type": "stream",
     "text": [
      "//anaconda/envs/mlnd-capstone/lib/python3.5/site-packages/sklearn/utils/validation.py:395: DeprecationWarning: Passing 1d arrays as data is deprecated in 0.17 and will raise ValueError in 0.19. Reshape your data either using X.reshape(-1, 1) if your data has a single feature or X.reshape(1, -1) if it contains a single sample.\n",
      "  DeprecationWarning)\n",
      "//anaconda/envs/mlnd-capstone/lib/python3.5/site-packages/sklearn/utils/validation.py:395: DeprecationWarning: Passing 1d arrays as data is deprecated in 0.17 and will raise ValueError in 0.19. Reshape your data either using X.reshape(-1, 1) if your data has a single feature or X.reshape(1, -1) if it contains a single sample.\n",
      "  DeprecationWarning)\n",
      "//anaconda/envs/mlnd-capstone/lib/python3.5/site-packages/sklearn/utils/validation.py:395: DeprecationWarning: Passing 1d arrays as data is deprecated in 0.17 and will raise ValueError in 0.19. Reshape your data either using X.reshape(-1, 1) if your data has a single feature or X.reshape(1, -1) if it contains a single sample.\n",
      "  DeprecationWarning)\n",
      "//anaconda/envs/mlnd-capstone/lib/python3.5/site-packages/sklearn/utils/validation.py:395: DeprecationWarning: Passing 1d arrays as data is deprecated in 0.17 and will raise ValueError in 0.19. Reshape your data either using X.reshape(-1, 1) if your data has a single feature or X.reshape(1, -1) if it contains a single sample.\n",
      "  DeprecationWarning)\n",
      "//anaconda/envs/mlnd-capstone/lib/python3.5/site-packages/sklearn/utils/validation.py:395: DeprecationWarning: Passing 1d arrays as data is deprecated in 0.17 and will raise ValueError in 0.19. Reshape your data either using X.reshape(-1, 1) if your data has a single feature or X.reshape(1, -1) if it contains a single sample.\n",
      "  DeprecationWarning)\n"
     ]
    }
   ],
   "source": [
    "X_bedrooms.bedrooms = 3.0\n",
    "X_age.age = 15.0\n",
    "X_ekikyori.ekikyori = 10.0\n",
    "X_far.yousekiritsu = 2.0\n",
    "\n",
    "y_base = np.exp(clf_final.predict(X.iloc[0]))\n",
    "y_large_bedrooms = np.exp(clf_final.predict(X_bedrooms))\n",
    "y_old_age = np.exp(clf_final.predict(X_age))\n",
    "y_far_ekikyori = np.exp(clf_final.predict(X_ekikyori))\n",
    "y_small_far = np.exp(clf_final.predict(X_far))\n",
    "\n",
    "print(\"Base Price: {:.1f}\".format(y_base[0]*1000))\n",
    "\n",
    "print(\"Base #Bedrooms: {}  Comparison #Bedrooms: {}  Predicted Price: {:.1f}   Diff%: {:.4f}\".format(\n",
    "    X.iloc[0].bedrooms,\n",
    "    X_bedrooms.bedrooms,\n",
    "    y_large_bedrooms[0]*1000,\n",
    "    y_large_bedrooms[0]/y_base[0]-1.0\n",
    "     ))\n",
    "\n",
    "print(\"Base Age: {}  Comparison Age: {}  Predicted Price: {:.1f}   Diff%: {:.4f}\".format(\n",
    "    X.iloc[0].age,\n",
    "    X_age.age,\n",
    "    y_old_age[0]*1000,\n",
    "    y_old_age[0]/y_base[0]-1.0\n",
    "     ))\n",
    "\n",
    "print(\"Base Distance: {}  Comparison Distance: {}  Predicted Price: {:.1f}   Diff%: {:.4f}\".format(\n",
    "    X.iloc[0].ekikyori,\n",
    "    X_ekikyori.ekikyori,\n",
    "    y_far_ekikyori[0]*1000,\n",
    "    y_far_ekikyori[0]/y_base[0]-1.0\n",
    "     ))\n",
    "\n",
    "print(\"Base FAR: {}  Comparison FAR: {}  Predicted Price: {:.1f}   Diff%: {:.4f}\".format(\n",
    "    X.iloc[0].yousekiritsu,\n",
    "    X_far.yousekiritsu,\n",
    "    y_small_far[0]*1000,\n",
    "    y_small_far[0]/y_base[0]-1.0\n",
    "     ))\n"
   ]
  },
  {
   "cell_type": "markdown",
   "metadata": {},
   "source": [
    "## Error distribution\n",
    "We check how the difference between the predicted and the actual price are disributed."
   ]
  },
  {
   "cell_type": "code",
   "execution_count": 403,
   "metadata": {
    "collapsed": true
   },
   "outputs": [],
   "source": [
    "error_final_test = np.exp(clf_final.predict(X_test))*0.01 - np.exp(y_test)*0.01\n",
    "error_benchmark_test = np.exp(lr.predict(X_test))*0.01 - np.exp(y_test)*0.01\n",
    "#error_final_test = clf_final.predict(X_test) - y_test\n",
    "#error_benchmark_test = lr.predict(X_test) - y_test"
   ]
  },
  {
   "cell_type": "code",
   "execution_count": 407,
   "metadata": {
    "collapsed": false
   },
   "outputs": [
    {
     "data": {
      "image/png": "[encoded data removed]",
      "text/plain": [
       "<matplotlib.figure.Figure at 0x1b7b76860>"
      ]
     },
     "metadata": {},
     "output_type": "display_data"
    }
   ],
   "source": [
    "sns.set(color_codes=True)\n",
    "sns.distplot(error_final_test, kde=False, rug=False)\n",
    "sns.plt.title('The variation of prediction error against the testing data set')\n",
    "sns.plt.xlabel('(Predicted - Actual) in million JPY')\n",
    "sns.plt.ylabel('Frequency')\n",
    "sns.plt.savefig('hist_prediction_error_test_final_model.png')"
   ]
  },
  {
   "cell_type": "code",
   "execution_count": 408,
   "metadata": {
    "collapsed": false
   },
   "outputs": [
    {
     "data": {
      "image/png": "[encoded data removed]",
      "text/plain": [
       "<matplotlib.figure.Figure at 0x1b77b82b0>"
      ]
     },
     "metadata": {},
     "output_type": "display_data"
    }
   ],
   "source": [
    "sns.distplot(error_benchmark_test, kde=False, rug=False)\n",
    "sns.plt.title('The variation of prediction error by the benchmark model against the testing data set')\n",
    "sns.plt.xlabel('(Predicted - Actual) in million JPY')\n",
    "sns.plt.ylabel('Frequency')\n",
    "sns.plt.savefig('hist_prediction_error_test_benchmark_model.png')"
   ]
  },
  {
   "cell_type": "markdown",
   "metadata": {},
   "source": [
    "The distributions of the prediction errors look similar for the benchmark model and the final random forest model. The difference can be observed in the upper tail of the graph. The benchmark linear model has a few observations exceeding 2000, and these over-estimated records improved with the final model."
   ]
  },
  {
   "cell_type": "markdown",
   "metadata": {},
   "source": [
    "## Conclusion\n",
    "### Free-Form visualisation\n",
    "\n",
    "We add a scatterplot between the acutal and predicted values to see how it perfoms visually.\n"
   ]
  },
  {
   "cell_type": "code",
   "execution_count": 392,
   "metadata": {
    "collapsed": false
   },
   "outputs": [
    {
     "data": {
      "image/png": "[encoded data removed]",
      "text/plain": [
       "<matplotlib.figure.Figure at 0x1b5deb9b0>"
      ]
     },
     "metadata": {},
     "output_type": "display_data"
    },
    {
     "data": {
      "text/plain": [
       "<ggplot: (459532271)>"
      ]
     },
     "execution_count": 392,
     "metadata": {},
     "output_type": "execute_result"
    }
   ],
   "source": [
    "from ggplot import *\n",
    "# prediction and actual in JPY. The data are denoted in 10000 JPY.\n",
    "df_test = pd.DataFrame({'actual':np.exp(y_test)*10000, 'predicted':np.exp(clf_final.predict(X_test))*10000})\n",
    "#df_test.head(3)\n",
    "#sns.regplot(x=\"actual\", y=\"predicted\", data=df_test, fit_reg=False)\n",
    "plt_scatter_final = ggplot(df_test, aes('actual', 'predicted')) + geom_point(alpha=1/3) + geom_abline(intercept=0, slope=1, color='red') +\\\n",
    "    scale_x_continuous(limit=(0, 55000000)) + \\\n",
    "    scale_y_continuous(limit=(0, 55000000)) + \\\n",
    "    labs(title = 'Comparison between the actual and predicted price')\n",
    "plt_scatter_final.save('scatter_predict_actual_comparison.png')\n",
    "plt_scatter_final\n"
   ]
  },
  {
   "cell_type": "markdown",
   "metadata": {},
   "source": [
    "### challenging and interesting aspects\n",
    "One of the challenging problems is to predict outliers. Apartments are different. We check the characteristics of apartments whose prediction errors were large."
   ]
  },
  {
   "cell_type": "code",
   "execution_count": 422,
   "metadata": {
    "collapsed": false
   },
   "outputs": [
    {
     "name": "stdout",
     "output_type": "stream",
     "text": [
      "id\n",
      "100559   -32.414514\n",
      "10481    -16.272418\n",
      "193714   -16.196765\n",
      "17967    -13.206671\n",
      "51114    -12.969012\n",
      "Name: price_log10, dtype: float64\n",
      "id\n",
      "6246      14.570378\n",
      "140017    10.778715\n",
      "274889    10.310091\n",
      "7678       9.209542\n",
      "201733     8.776180\n",
      "Name: price_log10, dtype: float64\n"
     ]
    }
   ],
   "source": [
    "# predict - actual: negative => under-estimate\n",
    "# five most \n",
    "print(error_final_test.sort_values().head(5))\n",
    "print(error_final_test.sort_values(ascending=False).head(5))\n"
   ]
  },
  {
   "cell_type": "code",
   "execution_count": 428,
   "metadata": {
    "collapsed": false
   },
   "outputs": [
    {
     "name": "stdout",
     "output_type": "stream",
     "text": [
      "       jiscode  shi chiku     eki  ekikyori      price   madori  menseki  \\\n",
      "id                                                                         \n",
      "10481    13103   港区   南青山     表参道       6.0  170000000  オープンフロア      140   \n",
      "100559   13114  中野区    本町  西新宿五丁目       6.0  330000000     ２ＬＤＫ       50   \n",
      "\n",
      "       kenchikunen kouzou      ...       zoning_工業専用地域 zoning_準住居地域  \\\n",
      "id                             ...                                    \n",
      "10481        昭和47年    ＳＲＣ      ...                   0            0   \n",
      "100559       昭和47年    ＳＲＣ      ...                   0            0   \n",
      "\n",
      "       zoning_準工業地域  zoning_第１種中高層住居専用地域  zoning_第１種低層住居専用地域 zoning_第１種住居地域  \\\n",
      "id                                                                            \n",
      "10481             0                    0                   0              0   \n",
      "100559            0                    0                   0              0   \n",
      "\n",
      "       zoning_第２種中高層住居専用地域  zoning_第２種低層住居専用地域  zoning_第２種住居地域  zoning_近隣商業地域  \n",
      "id                                                                             \n",
      "10481                    0                   0               0              0  \n",
      "100559                   0                   0               0              1  \n",
      "\n",
      "[2 rows x 93 columns]\n"
     ]
    }
   ],
   "source": [
    "X_test.ix[100559]\n",
    "print(test.ix[[10481,100559]])"
   ]
  },
  {
   "cell_type": "markdown",
   "metadata": {},
   "source": [
    "These records have price 10 million JPY althogh they are very old. It is not clear whether these prices are incorrectly input or they are correct and have special features that make the apartments highly expensive."
   ]
  }
 ],
 "metadata": {
  "kernelspec": {
   "display_name": "Python 3",
   "language": "python",
   "name": "python3"
  },
  "language_info": {
   "codemirror_mode": {
    "name": "ipython",
    "version": 3
   },
   "file_extension": ".py",
   "mimetype": "text/x-python",
   "name": "python",
   "nbconvert_exporter": "python",
   "pygments_lexer": "ipython3",
   "version": "3.5.3"
  }
 },
 "nbformat": 4,
 "nbformat_minor": 2
}
